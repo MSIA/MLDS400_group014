{
 "cells": [
  {
   "cell_type": "markdown",
   "id": "24a09637-22c8-4ebd-a8a5-8757b3fd3541",
   "metadata": {},
   "source": [
    "## Library Import"
   ]
  },
  {
   "cell_type": "code",
   "execution_count": 1,
   "id": "7bbe60d6-28b0-4ecd-9a2e-651c8ad57dac",
   "metadata": {},
   "outputs": [],
   "source": [
    "# Import libraries\n",
    "import pandas as pd\n",
    "import numpy as np\n",
    "import seaborn as sns\n",
    "import matplotlib.pyplot as plt\n",
    "import psycopg2\n",
    "from psycopg2 import Error\n",
    "import os\n",
    "from dotenv import load_dotenv\n",
    "import datetime as dt"
   ]
  },
  {
   "cell_type": "markdown",
   "id": "ee87c818-b629-43f6-9c91-813e3027cf6a",
   "metadata": {},
   "source": [
    "## SQL Connection Set UP"
   ]
  },
  {
   "cell_type": "code",
   "execution_count": 2,
   "id": "97f8947b",
   "metadata": {},
   "outputs": [],
   "source": [
    "# Read in ENV credentials \n",
    "\n",
    "load_dotenv()\n",
    "\n",
    "username = os.getenv('USERNAME')\n",
    "password = os.getenv('PASSWORD')"
   ]
  },
  {
   "cell_type": "code",
   "execution_count": 3,
   "id": "e7eb5273-f420-4645-a27d-d8dccfaee18f",
   "metadata": {},
   "outputs": [
    {
     "name": "stdout",
     "output_type": "stream",
     "text": [
      "You are connected to -  ('PostgreSQL 10.12 on x86_64-pc-linux-gnu, compiled by gcc (GCC) 4.8.5 20150623 (Red Hat 4.8.5-39), 64-bit',) \n",
      "\n"
     ]
    }
   ],
   "source": [
    "# Connection to db \n",
    "USER = username\n",
    "PSWD = password\n",
    "HOST = \"pg.analytics.northwestern.edu\"\n",
    "PORT = \"5432\"\n",
    "DB_NAME = \"everything2023\"\n",
    "\n",
    "# Connect to postgress database\n",
    "try:\n",
    "    # Connect to an existing database\n",
    "    connection = psycopg2.connect(user = USER,\n",
    "                                  password = PSWD,\n",
    "                                  host = HOST,\n",
    "                                  port = PORT,\n",
    "                                  database = DB_NAME)\n",
    "    cursor = connection.cursor()\n",
    "    cursor.execute(\"SELECT version();\")\n",
    "    record = cursor.fetchone()\n",
    "    print(\"You are connected to - \", record, \"\\n\")\n",
    "    \n",
    "except (Exception, Error) as error:\n",
    "    print(\"Error while connecting to PostgreSQL\", error)"
   ]
  },
  {
   "cell_type": "markdown",
   "id": "62d98437-63bd-44f0-a3e5-33c7dad1e183",
   "metadata": {},
   "source": [
    "## FEATURE SELECTION"
   ]
  },
  {
   "cell_type": "markdown",
   "id": "5b532a3f-77bc-4c58-8ca5-92135a6838ff",
   "metadata": {},
   "source": [
    "#### get Y label for return rate per store per day (ReturnRate is our y_label)"
   ]
  },
  {
   "cell_type": "markdown",
   "id": "8d3c9201-ce80-4fb2-b4ab-a69ddc812251",
   "metadata": {},
   "source": [
    "#### feature 1: number of transactions per store per day"
   ]
  },
  {
   "cell_type": "markdown",
   "id": "5a264804-a5a9-4c02-89f3-16de5d885473",
   "metadata": {},
   "source": [
    "#### feature 2: number of discount sale per day"
   ]
  },
  {
   "cell_type": "markdown",
   "id": "5d2724f4-e802-43e1-8f0f-1abd7903bb18",
   "metadata": {},
   "source": [
    "#### feature 3: amount of money sale per day"
   ]
  },
  {
   "cell_type": "markdown",
   "id": "2a6c8c99-4de2-40ba-8f9f-25140693256d",
   "metadata": {},
   "source": [
    "#### Ideas of features\n",
    "#### STATE /location  -- i ma not sure how to use (visualization)\n",
    "#### SKU properties (price of SKU)  \n",
    "#### time/year\n",
    "#### keep brainstorming....."
   ]
  },
  {
   "cell_type": "code",
   "execution_count": 4,
   "id": "11d360a5-3de6-4e8d-97dc-0cff76337ed2",
   "metadata": {},
   "outputs": [
    {
     "name": "stderr",
     "output_type": "stream",
     "text": [
      "/var/folders/x7/1lss9g1950lgrxkwhp8c6c180000gn/T/ipykernel_59259/2419310726.py:46: UserWarning: pandas only supports SQLAlchemy connectable (engine/connection) or database string URI or sqlite3 DBAPI2 connection. Other DBAPI2 objects are not tested. Please consider using SQLAlchemy.\n",
      "  return_df = pd.read_sql(sql_cmd, connection);\n"
     ]
    }
   ],
   "source": [
    "# Read trnsact table\n",
    "sql_cmd = \"\"\"\n",
    "WITH DailyReturnRates AS (\n",
    "    SELECT \n",
    "        \"SALEDATE\", \n",
    "        \"STORE\", \n",
    "        SUM(CASE WHEN \"STYPE\" = 'R' THEN 1.0 ELSE 0.0 END) / \n",
    "        (SUM(CASE WHEN \"STYPE\" = 'P' THEN 1.0 ELSE 0.0 END) + SUM(CASE WHEN \"STYPE\" = 'R' THEN 1.0 ELSE 0.0 END)) AS \"ReturnRate\",\n",
    "        COUNT(*) AS \"NumTrans\",\n",
    "        SUM(CASE WHEN \"SPRICE\" < \"ORGPRICE\" THEN 1 ELSE 0 END) AS \"DiscountSalesCount\",\n",
    "        SUM(\"AMT\") AS \"AmtTrans\",\n",
    "        AVG(\"SPRICE\") AS \"AvgPrice\"\n",
    "    FROM \n",
    "        group_14.trnsact\n",
    "    GROUP BY \n",
    "        \"SALEDATE\", \n",
    "        \"STORE\"\n",
    ")\n",
    "SELECT \n",
    "    \"SALEDATE\", \n",
    "    \"STORE\", \n",
    "    \"ReturnRate\",\n",
    "    LAG(\"ReturnRate\", 1) OVER (PARTITION BY \"STORE\" ORDER BY \"SALEDATE\") AS \"PreviousDayReturnRate\",\n",
    "    LAG(\"ReturnRate\", 7) OVER (PARTITION BY \"STORE\" ORDER BY \"SALEDATE\") AS \"PreviousWeekReturnRate\",\n",
    "    LAG(\"ReturnRate\", 30) OVER (PARTITION BY \"STORE\" ORDER BY \"SALEDATE\") AS \"PreviousMonthReturnRate\",\n",
    "    \"NumTrans\",\n",
    "    \"DiscountSalesCount\",\n",
    "    \"AmtTrans\",\n",
    "    \"AvgPrice\", \n",
    "    LAG(drr.\"NumTrans\", 1) OVER (PARTITION BY drr.\"STORE\" ORDER BY drr.\"SALEDATE\") AS \"PreviousDayTrans\",\n",
    "    LAG(drr.\"AmtTrans\", 1) OVER (PARTITION BY drr.\"STORE\" ORDER BY drr.\"SALEDATE\") AS \"PreviousDayAmtTrans\",\n",
    "    (SELECT SUM(subdrr.\"NumTrans\")\n",
    "     FROM DailyReturnRates subdrr\n",
    "     WHERE subdrr.\"STORE\" = drr.\"STORE\" \n",
    "     AND subdrr.\"SALEDATE\" BETWEEN drr.\"SALEDATE\" - INTERVAL '30 days' AND drr.\"SALEDATE\") AS \"Last30DaysTrans\",\n",
    "    (SELECT SUM(subdrr.\"AmtTrans\")\n",
    "     FROM DailyReturnRates subdrr\n",
    "     WHERE subdrr.\"STORE\" = drr.\"STORE\" \n",
    "     AND subdrr.\"SALEDATE\" BETWEEN drr.\"SALEDATE\" - INTERVAL '30 days' AND drr.\"SALEDATE\") AS \"Last30DaysAmtTrans\"\n",
    "FROM \n",
    "    DailyReturnRates drr\n",
    "ORDER BY \n",
    "    \"SALEDATE\", \n",
    "    \"STORE\";\n",
    "\"\"\"\n",
    "return_df = pd.read_sql(sql_cmd, connection);"
   ]
  },
  {
   "cell_type": "code",
   "execution_count": 5,
   "id": "0e169379-c7bd-4077-86ea-6fe6bfbbd2d3",
   "metadata": {},
   "outputs": [],
   "source": [
    "return_df.to_csv(\"return_df.csv\", index = False)"
   ]
  },
  {
   "cell_type": "markdown",
   "id": "ec45aad6-c369-455f-ab0f-32c1efc2075f",
   "metadata": {},
   "source": [
    "## ADD location feature"
   ]
  },
  {
   "cell_type": "code",
   "execution_count": 9,
   "id": "3b920c02",
   "metadata": {},
   "outputs": [
    {
     "name": "stderr",
     "output_type": "stream",
     "text": [
      "/var/folders/x7/1lss9g1950lgrxkwhp8c6c180000gn/T/ipykernel_42175/3992140737.py:7: UserWarning: pandas only supports SQLAlchemy connectable (engine/connection) or database string URI or sqlite3 DBAPI2 connection. Other DBAPI2 objects are not tested. Please consider using SQLAlchemy.\n",
      "  strinfo = pd.read_sql(sql_cmd, connection);\n"
     ]
    },
    {
     "data": {
      "text/html": [
       "<div>\n",
       "<style scoped>\n",
       "    .dataframe tbody tr th:only-of-type {\n",
       "        vertical-align: middle;\n",
       "    }\n",
       "\n",
       "    .dataframe tbody tr th {\n",
       "        vertical-align: top;\n",
       "    }\n",
       "\n",
       "    .dataframe thead th {\n",
       "        text-align: right;\n",
       "    }\n",
       "</style>\n",
       "<table border=\"1\" class=\"dataframe\">\n",
       "  <thead>\n",
       "    <tr style=\"text-align: right;\">\n",
       "      <th></th>\n",
       "      <th>STATE</th>\n",
       "      <th>STORE</th>\n",
       "    </tr>\n",
       "  </thead>\n",
       "  <tbody>\n",
       "    <tr>\n",
       "      <th>0</th>\n",
       "      <td>FL</td>\n",
       "      <td>2</td>\n",
       "    </tr>\n",
       "    <tr>\n",
       "      <th>1</th>\n",
       "      <td>MO</td>\n",
       "      <td>3</td>\n",
       "    </tr>\n",
       "    <tr>\n",
       "      <th>2</th>\n",
       "      <td>AR</td>\n",
       "      <td>4</td>\n",
       "    </tr>\n",
       "    <tr>\n",
       "      <th>3</th>\n",
       "      <td>TX</td>\n",
       "      <td>7</td>\n",
       "    </tr>\n",
       "    <tr>\n",
       "      <th>4</th>\n",
       "      <td>AZ</td>\n",
       "      <td>9</td>\n",
       "    </tr>\n",
       "  </tbody>\n",
       "</table>\n",
       "</div>"
      ],
      "text/plain": [
       "  STATE  STORE\n",
       "0    FL      2\n",
       "1    MO      3\n",
       "2    AR      4\n",
       "3    TX      7\n",
       "4    AZ      9"
      ]
     },
     "execution_count": 9,
     "metadata": {},
     "output_type": "execute_result"
    }
   ],
   "source": [
    "sql_cmd = \"\"\"\n",
    "SELECT \"STATE\", \"STORE\"\n",
    "FROM \n",
    "  group_14.strinfo\n",
    "\n",
    "\"\"\"\n",
    "strinfo = pd.read_sql(sql_cmd, connection);\n",
    "strinfo.head()"
   ]
  },
  {
   "cell_type": "code",
   "execution_count": 14,
   "id": "a1e40f93-b116-458b-947c-3e5a5a8140bc",
   "metadata": {},
   "outputs": [],
   "source": [
    "new_return_df = return_df.merge(strinfo, how = \"left\", on = \"STORE\")"
   ]
  },
  {
   "cell_type": "code",
   "execution_count": 15,
   "id": "faeaa02d-5372-4a0a-a7f1-5887685d5de6",
   "metadata": {},
   "outputs": [],
   "source": [
    "new_return_df.to_csv(\"return_df_with_store.csv\", index = False)"
   ]
  },
  {
   "cell_type": "code",
   "execution_count": 16,
   "id": "f922ca4b-8434-4097-abf9-89eec6ba1819",
   "metadata": {},
   "outputs": [
    {
     "data": {
      "text/plain": [
       "[<matplotlib.lines.Line2D at 0x1489f4290>]"
      ]
     },
     "execution_count": 16,
     "metadata": {},
     "output_type": "execute_result"
    },
    {
     "data": {
      "image/png": "[encoded data removed]",
      "text/plain": [
       "<Figure size 640x480 with 1 Axes>"
      ]
     },
     "metadata": {},
     "output_type": "display_data"
    }
   ],
   "source": [
    "plt.plot(new_return_df.groupby([\"STATE\"])[\"ReturnRate\"].mean().sort_values())"
   ]
  },
  {
   "cell_type": "markdown",
   "id": "21d25f78",
   "metadata": {},
   "source": [
    "The top 10 states with the most returns "
   ]
  },
  {
   "cell_type": "code",
   "execution_count": 16,
   "id": "8a636959",
   "metadata": {},
   "outputs": [
    {
     "data": {
      "text/html": [
       "<div>\n",
       "<style scoped>\n",
       "    .dataframe tbody tr th:only-of-type {\n",
       "        vertical-align: middle;\n",
       "    }\n",
       "\n",
       "    .dataframe tbody tr th {\n",
       "        vertical-align: top;\n",
       "    }\n",
       "\n",
       "    .dataframe thead th {\n",
       "        text-align: right;\n",
       "    }\n",
       "</style>\n",
       "<table border=\"1\" class=\"dataframe\">\n",
       "  <thead>\n",
       "    <tr style=\"text-align: right;\">\n",
       "      <th></th>\n",
       "      <th>SALEDATE</th>\n",
       "      <th>STORE</th>\n",
       "      <th>ReturnRate</th>\n",
       "      <th>NumTrans</th>\n",
       "      <th>DiscountSalesCount</th>\n",
       "      <th>AmtTrans</th>\n",
       "      <th>Month</th>\n",
       "      <th>Quarter</th>\n",
       "      <th>Day</th>\n",
       "    </tr>\n",
       "  </thead>\n",
       "  <tbody>\n",
       "    <tr>\n",
       "      <th>0</th>\n",
       "      <td>2004-08-01</td>\n",
       "      <td>102</td>\n",
       "      <td>0.046968</td>\n",
       "      <td>1171</td>\n",
       "      <td>533</td>\n",
       "      <td>34507.81</td>\n",
       "      <td>8</td>\n",
       "      <td>3</td>\n",
       "      <td>6</td>\n",
       "    </tr>\n",
       "    <tr>\n",
       "      <th>1</th>\n",
       "      <td>2004-08-01</td>\n",
       "      <td>103</td>\n",
       "      <td>0.059271</td>\n",
       "      <td>658</td>\n",
       "      <td>349</td>\n",
       "      <td>16873.44</td>\n",
       "      <td>8</td>\n",
       "      <td>3</td>\n",
       "      <td>6</td>\n",
       "    </tr>\n",
       "    <tr>\n",
       "      <th>2</th>\n",
       "      <td>2004-08-01</td>\n",
       "      <td>107</td>\n",
       "      <td>0.062332</td>\n",
       "      <td>1492</td>\n",
       "      <td>716</td>\n",
       "      <td>34605.01</td>\n",
       "      <td>8</td>\n",
       "      <td>3</td>\n",
       "      <td>6</td>\n",
       "    </tr>\n",
       "    <tr>\n",
       "      <th>3</th>\n",
       "      <td>2004-08-01</td>\n",
       "      <td>202</td>\n",
       "      <td>0.054707</td>\n",
       "      <td>786</td>\n",
       "      <td>420</td>\n",
       "      <td>17108.43</td>\n",
       "      <td>8</td>\n",
       "      <td>3</td>\n",
       "      <td>6</td>\n",
       "    </tr>\n",
       "    <tr>\n",
       "      <th>4</th>\n",
       "      <td>2004-08-01</td>\n",
       "      <td>203</td>\n",
       "      <td>0.100752</td>\n",
       "      <td>665</td>\n",
       "      <td>423</td>\n",
       "      <td>16585.97</td>\n",
       "      <td>8</td>\n",
       "      <td>3</td>\n",
       "      <td>6</td>\n",
       "    </tr>\n",
       "    <tr>\n",
       "      <th>...</th>\n",
       "      <td>...</td>\n",
       "      <td>...</td>\n",
       "      <td>...</td>\n",
       "      <td>...</td>\n",
       "      <td>...</td>\n",
       "      <td>...</td>\n",
       "      <td>...</td>\n",
       "      <td>...</td>\n",
       "      <td>...</td>\n",
       "    </tr>\n",
       "    <tr>\n",
       "      <th>125915</th>\n",
       "      <td>2005-08-27</td>\n",
       "      <td>9704</td>\n",
       "      <td>0.064167</td>\n",
       "      <td>1200</td>\n",
       "      <td>911</td>\n",
       "      <td>20079.25</td>\n",
       "      <td>8</td>\n",
       "      <td>3</td>\n",
       "      <td>5</td>\n",
       "    </tr>\n",
       "    <tr>\n",
       "      <th>125916</th>\n",
       "      <td>2005-08-27</td>\n",
       "      <td>9709</td>\n",
       "      <td>0.051787</td>\n",
       "      <td>1371</td>\n",
       "      <td>952</td>\n",
       "      <td>24007.62</td>\n",
       "      <td>8</td>\n",
       "      <td>3</td>\n",
       "      <td>5</td>\n",
       "    </tr>\n",
       "    <tr>\n",
       "      <th>125917</th>\n",
       "      <td>2005-08-27</td>\n",
       "      <td>9804</td>\n",
       "      <td>0.056711</td>\n",
       "      <td>1587</td>\n",
       "      <td>1173</td>\n",
       "      <td>29260.54</td>\n",
       "      <td>8</td>\n",
       "      <td>3</td>\n",
       "      <td>5</td>\n",
       "    </tr>\n",
       "    <tr>\n",
       "      <th>125918</th>\n",
       "      <td>2005-08-27</td>\n",
       "      <td>9806</td>\n",
       "      <td>0.002625</td>\n",
       "      <td>1143</td>\n",
       "      <td>516</td>\n",
       "      <td>33762.85</td>\n",
       "      <td>8</td>\n",
       "      <td>3</td>\n",
       "      <td>5</td>\n",
       "    </tr>\n",
       "    <tr>\n",
       "      <th>125919</th>\n",
       "      <td>2005-08-27</td>\n",
       "      <td>9909</td>\n",
       "      <td>0.045962</td>\n",
       "      <td>1523</td>\n",
       "      <td>1174</td>\n",
       "      <td>24834.76</td>\n",
       "      <td>8</td>\n",
       "      <td>3</td>\n",
       "      <td>5</td>\n",
       "    </tr>\n",
       "  </tbody>\n",
       "</table>\n",
       "<p>125920 rows × 9 columns</p>\n",
       "</div>"
      ],
      "text/plain": [
       "          SALEDATE  STORE  ReturnRate  NumTrans  DiscountSalesCount  AmtTrans  \\\n",
       "0       2004-08-01    102    0.046968      1171                 533  34507.81   \n",
       "1       2004-08-01    103    0.059271       658                 349  16873.44   \n",
       "2       2004-08-01    107    0.062332      1492                 716  34605.01   \n",
       "3       2004-08-01    202    0.054707       786                 420  17108.43   \n",
       "4       2004-08-01    203    0.100752       665                 423  16585.97   \n",
       "...            ...    ...         ...       ...                 ...       ...   \n",
       "125915  2005-08-27   9704    0.064167      1200                 911  20079.25   \n",
       "125916  2005-08-27   9709    0.051787      1371                 952  24007.62   \n",
       "125917  2005-08-27   9804    0.056711      1587                1173  29260.54   \n",
       "125918  2005-08-27   9806    0.002625      1143                 516  33762.85   \n",
       "125919  2005-08-27   9909    0.045962      1523                1174  24834.76   \n",
       "\n",
       "        Month  Quarter  Day  \n",
       "0           8        3    6  \n",
       "1           8        3    6  \n",
       "2           8        3    6  \n",
       "3           8        3    6  \n",
       "4           8        3    6  \n",
       "...       ...      ...  ...  \n",
       "125915      8        3    5  \n",
       "125916      8        3    5  \n",
       "125917      8        3    5  \n",
       "125918      8        3    5  \n",
       "125919      8        3    5  \n",
       "\n",
       "[125920 rows x 9 columns]"
      ]
     },
     "execution_count": 16,
     "metadata": {},
     "output_type": "execute_result"
    }
   ],
   "source": [
    "# Extract different time features \n",
    "return_rate_df['Month'] = pd.to_datetime(return_rate_df['SALEDATE']).dt.month\n",
    "return_rate_df['Quarter'] = pd.to_datetime(return_rate_df['SALEDATE']).dt.quarter\n",
    "return_rate_df['Day'] = pd.to_datetime(return_rate_df['SALEDATE']).dt.dayofweek\n",
    "return_rate_df"
   ]
  },
  {
   "cell_type": "code",
   "execution_count": null,
   "id": "445ee84b",
   "metadata": {},
   "outputs": [],
   "source": []
  },
  {
   "cell_type": "code",
   "execution_count": 17,
   "id": "e0420fbf",
   "metadata": {},
   "outputs": [
    {
     "name": "stderr",
     "output_type": "stream",
     "text": [
      "/Users/hujiayu/opt/anaconda3/lib/python3.9/site-packages/pandas/io/sql.py:761: UserWarning: pandas only support SQLAlchemy connectable(engine/connection) ordatabase string URI or sqlite3 DBAPI2 connectionother DBAPI2 objects are not tested, please consider using SQLAlchemy\n",
      "  warnings.warn(\n"
     ]
    },
    {
     "data": {
      "text/html": [
       "<div>\n",
       "<style scoped>\n",
       "    .dataframe tbody tr th:only-of-type {\n",
       "        vertical-align: middle;\n",
       "    }\n",
       "\n",
       "    .dataframe tbody tr th {\n",
       "        vertical-align: top;\n",
       "    }\n",
       "\n",
       "    .dataframe thead th {\n",
       "        text-align: right;\n",
       "    }\n",
       "</style>\n",
       "<table border=\"1\" class=\"dataframe\">\n",
       "  <thead>\n",
       "    <tr style=\"text-align: right;\">\n",
       "      <th></th>\n",
       "      <th>SKU</th>\n",
       "      <th>Cost</th>\n",
       "    </tr>\n",
       "  </thead>\n",
       "  <tbody>\n",
       "    <tr>\n",
       "      <th>0</th>\n",
       "      <td>1918</td>\n",
       "      <td>15.00</td>\n",
       "    </tr>\n",
       "    <tr>\n",
       "      <th>1</th>\n",
       "      <td>3986</td>\n",
       "      <td>26.85</td>\n",
       "    </tr>\n",
       "    <tr>\n",
       "      <th>2</th>\n",
       "      <td>3986</td>\n",
       "      <td>26.85</td>\n",
       "    </tr>\n",
       "    <tr>\n",
       "      <th>3</th>\n",
       "      <td>3986</td>\n",
       "      <td>26.85</td>\n",
       "    </tr>\n",
       "    <tr>\n",
       "      <th>4</th>\n",
       "      <td>3986</td>\n",
       "      <td>26.85</td>\n",
       "    </tr>\n",
       "  </tbody>\n",
       "</table>\n",
       "</div>"
      ],
      "text/plain": [
       "    SKU   Cost\n",
       "0  1918  15.00\n",
       "1  3986  26.85\n",
       "2  3986  26.85\n",
       "3  3986  26.85\n",
       "4  3986  26.85"
      ]
     },
     "execution_count": 17,
     "metadata": {},
     "output_type": "execute_result"
    }
   ],
   "source": [
    "# JOIN skstinfo and skuinfo to get cost of sku \n",
    "sql_cmd = \"\"\"\n",
    "SELECT sku.\"SKU\", sks.\"Cost\"\n",
    "FROM group_14.skstinfo sks\n",
    "JOIN group_14.skuinfo sku on sku.\"SKU\" = sks.\"SKU\"\n",
    "\"\"\"\n",
    "skstinfo = pd.read_sql(sql_cmd, connection);\n",
    "skstinfo.head()"
   ]
  },
  {
   "cell_type": "code",
   "execution_count": 18,
   "id": "228403e1",
   "metadata": {},
   "outputs": [
    {
     "name": "stderr",
     "output_type": "stream",
     "text": [
      "/Users/hujiayu/opt/anaconda3/lib/python3.9/site-packages/pandas/io/sql.py:761: UserWarning: pandas only support SQLAlchemy connectable(engine/connection) ordatabase string URI or sqlite3 DBAPI2 connectionother DBAPI2 objects are not tested, please consider using SQLAlchemy\n",
      "  warnings.warn(\n"
     ]
    }
   ],
   "source": [
    "# Use SKU and Store info to calcualte return rate\n",
    "sql_cmd = \"\"\"\n",
    "SELECT \"SKU\", \n",
    "SUM(CASE WHEN \"STYPE\" = 'R' THEN 1.0 ELSE 0.0 END) / \n",
    "\t(SUM(CASE WHEN \"STYPE\" = 'P' THEN 1.0 ELSE 0.0 END) + SUM(CASE WHEN \"STYPE\" = 'R' THEN 1.0 ELSE 0.0 END)) as \"ReturnRate\"\n",
    "FROM group_14.trnsact\n",
    "GROUP BY \"SKU\"\n",
    "ORDER BY \"SKU\"\n",
    "\"\"\"\n",
    "sku_return_rate = pd.read_sql(sql_cmd, connection);"
   ]
  },
  {
   "cell_type": "code",
   "execution_count": 19,
   "id": "378fa874",
   "metadata": {},
   "outputs": [
    {
     "data": {
      "text/html": [
       "<div>\n",
       "<style scoped>\n",
       "    .dataframe tbody tr th:only-of-type {\n",
       "        vertical-align: middle;\n",
       "    }\n",
       "\n",
       "    .dataframe tbody tr th {\n",
       "        vertical-align: top;\n",
       "    }\n",
       "\n",
       "    .dataframe thead th {\n",
       "        text-align: right;\n",
       "    }\n",
       "</style>\n",
       "<table border=\"1\" class=\"dataframe\">\n",
       "  <thead>\n",
       "    <tr style=\"text-align: right;\">\n",
       "      <th></th>\n",
       "      <th>SKU</th>\n",
       "      <th>ReturnRate</th>\n",
       "    </tr>\n",
       "  </thead>\n",
       "  <tbody>\n",
       "    <tr>\n",
       "      <th>0</th>\n",
       "      <td>3</td>\n",
       "      <td>0.200000</td>\n",
       "    </tr>\n",
       "    <tr>\n",
       "      <th>1</th>\n",
       "      <td>4</td>\n",
       "      <td>0.103448</td>\n",
       "    </tr>\n",
       "    <tr>\n",
       "      <th>2</th>\n",
       "      <td>5</td>\n",
       "      <td>0.090909</td>\n",
       "    </tr>\n",
       "    <tr>\n",
       "      <th>3</th>\n",
       "      <td>8</td>\n",
       "      <td>0.142857</td>\n",
       "    </tr>\n",
       "    <tr>\n",
       "      <th>4</th>\n",
       "      <td>20</td>\n",
       "      <td>0.000000</td>\n",
       "    </tr>\n",
       "    <tr>\n",
       "      <th>5</th>\n",
       "      <td>23</td>\n",
       "      <td>0.166667</td>\n",
       "    </tr>\n",
       "    <tr>\n",
       "      <th>6</th>\n",
       "      <td>24</td>\n",
       "      <td>0.034483</td>\n",
       "    </tr>\n",
       "    <tr>\n",
       "      <th>7</th>\n",
       "      <td>50</td>\n",
       "      <td>1.000000</td>\n",
       "    </tr>\n",
       "    <tr>\n",
       "      <th>8</th>\n",
       "      <td>55</td>\n",
       "      <td>0.000000</td>\n",
       "    </tr>\n",
       "    <tr>\n",
       "      <th>9</th>\n",
       "      <td>65</td>\n",
       "      <td>0.000000</td>\n",
       "    </tr>\n",
       "    <tr>\n",
       "      <th>10</th>\n",
       "      <td>69</td>\n",
       "      <td>0.000000</td>\n",
       "    </tr>\n",
       "    <tr>\n",
       "      <th>11</th>\n",
       "      <td>73</td>\n",
       "      <td>0.000000</td>\n",
       "    </tr>\n",
       "    <tr>\n",
       "      <th>12</th>\n",
       "      <td>78</td>\n",
       "      <td>0.259259</td>\n",
       "    </tr>\n",
       "    <tr>\n",
       "      <th>13</th>\n",
       "      <td>91</td>\n",
       "      <td>0.285714</td>\n",
       "    </tr>\n",
       "    <tr>\n",
       "      <th>14</th>\n",
       "      <td>105</td>\n",
       "      <td>0.000000</td>\n",
       "    </tr>\n",
       "    <tr>\n",
       "      <th>15</th>\n",
       "      <td>107</td>\n",
       "      <td>0.000000</td>\n",
       "    </tr>\n",
       "    <tr>\n",
       "      <th>16</th>\n",
       "      <td>123</td>\n",
       "      <td>0.111111</td>\n",
       "    </tr>\n",
       "    <tr>\n",
       "      <th>17</th>\n",
       "      <td>131</td>\n",
       "      <td>0.111111</td>\n",
       "    </tr>\n",
       "    <tr>\n",
       "      <th>18</th>\n",
       "      <td>133</td>\n",
       "      <td>0.000000</td>\n",
       "    </tr>\n",
       "    <tr>\n",
       "      <th>19</th>\n",
       "      <td>155</td>\n",
       "      <td>0.333333</td>\n",
       "    </tr>\n",
       "  </tbody>\n",
       "</table>\n",
       "</div>"
      ],
      "text/plain": [
       "    SKU  ReturnRate\n",
       "0     3    0.200000\n",
       "1     4    0.103448\n",
       "2     5    0.090909\n",
       "3     8    0.142857\n",
       "4    20    0.000000\n",
       "5    23    0.166667\n",
       "6    24    0.034483\n",
       "7    50    1.000000\n",
       "8    55    0.000000\n",
       "9    65    0.000000\n",
       "10   69    0.000000\n",
       "11   73    0.000000\n",
       "12   78    0.259259\n",
       "13   91    0.285714\n",
       "14  105    0.000000\n",
       "15  107    0.000000\n",
       "16  123    0.111111\n",
       "17  131    0.111111\n",
       "18  133    0.000000\n",
       "19  155    0.333333"
      ]
     },
     "execution_count": 19,
     "metadata": {},
     "output_type": "execute_result"
    }
   ],
   "source": [
    "sku_return_rate.head(20)"
   ]
  },
  {
   "cell_type": "markdown",
   "id": "65109d2a-bf18-4f06-aaf3-5193f89937ab",
   "metadata": {},
   "source": [
    "## Data Visualization"
   ]
  },
  {
   "cell_type": "code",
   "execution_count": 20,
   "id": "f85e8ad7-3755-4f55-8b75-43e05e6e9035",
   "metadata": {},
   "outputs": [],
   "source": [
    "## how return rate for store 102 working in times series\n",
    "def plot_return_for_store(store_num):\n",
    "    # Filter the DataFrame for store 102\n",
    "    store_data = return_rate_df[return_rate_df['STORE'] == store_num]\n",
    "    \n",
    "    # Ensure SaleDate is a datetime type for proper plotting\n",
    "    store_data['SALEDATE'] = pd.to_datetime(store_data['SALEDATE'])\n",
    "    \n",
    "    # Plotting\n",
    "    plt.figure(figsize=(10, 5))  # You can adjust the figure size as needed\n",
    "    plt.plot(store_data['SALEDATE'], store_data['ReturnRate'], marker='o')\n",
    "    \n",
    "    plt.title(f'Return Rate Over Time for Store {store_num}')\n",
    "    plt.xlabel('Sale Date')\n",
    "    plt.ylabel('Return Rate')\n",
    "    plt.grid(True)\n",
    "    plt.xticks(rotation=45)  # Rotate the x-axis labels for better readability\n",
    "    plt.tight_layout()  # Adjusts plot parameters to give the plot more room\n",
    "    \n",
    "    # Display the plot\n",
    "    plt.show()"
   ]
  },
  {
   "cell_type": "code",
   "execution_count": 21,
   "id": "c83a05e9-251e-4027-9f39-ac80534036fc",
   "metadata": {},
   "outputs": [
    {
     "name": "stderr",
     "output_type": "stream",
     "text": [
      "/var/folders/8d/9mc5tfw918v62xbjw8qkwmbm0000gn/T/ipykernel_876/3275164606.py:7: SettingWithCopyWarning: \n",
      "A value is trying to be set on a copy of a slice from a DataFrame.\n",
      "Try using .loc[row_indexer,col_indexer] = value instead\n",
      "\n",
      "See the caveats in the documentation: https://pandas.pydata.org/pandas-docs/stable/user_guide/indexing.html#returning-a-view-versus-a-copy\n",
      "  store_data['SALEDATE'] = pd.to_datetime(store_data['SALEDATE'])\n"
     ]
    },
    {
     "data": {
      "image/png": "[encoded data removed]",
      "text/plain": [
       "<Figure size 720x360 with 1 Axes>"
      ]
     },
     "metadata": {
      "needs_background": "light"
     },
     "output_type": "display_data"
    }
   ],
   "source": [
    "plot_return_for_store(203)"
   ]
  },
  {
   "cell_type": "markdown",
   "id": "76a6d28c",
   "metadata": {},
   "source": [
    "# Linear Regression Model"
   ]
  },
  {
   "cell_type": "code",
   "execution_count": 23,
   "id": "e3784c1e",
   "metadata": {},
   "outputs": [],
   "source": [
    "import pandas as pd\n",
    "from sklearn.model_selection import train_test_split\n",
    "from sklearn.linear_model import LinearRegression\n",
    "from sklearn.metrics import mean_squared_error, r2_score\n",
    "import numpy as np\n",
    "\n",
    "# Selecting relevant features and the target variable\n",
    "features = ['NumTrans', 'DiscountSalesCount', 'AmtTrans', 'Month', 'Quarter', 'Day']  # Add other features you want to include\n",
    "target = 'ReturnRate'\n",
    "\n",
    "# Splitting the data \n",
    "X_train, X_test, y_train, y_test = train_test_split(return_rate_df[features], return_rate_df[target], test_size=0.2, random_state=42)\n"
   ]
  },
  {
   "cell_type": "code",
   "execution_count": 24,
   "id": "0dc6cddf",
   "metadata": {},
   "outputs": [],
   "source": [
    "model = LinearRegression()\n",
    "\n",
    "# Train \n",
    "model.fit(X_train, y_train)\n",
    "\n",
    "# predict\n",
    "y_pred = model.predict(X_test)\n"
   ]
  },
  {
   "cell_type": "code",
   "execution_count": 25,
   "id": "f35ec7e1",
   "metadata": {},
   "outputs": [
    {
     "name": "stdout",
     "output_type": "stream",
     "text": [
      "Coefficients: \n",
      " [-7.13971204e-05  3.68727116e-05  1.62688511e-06 -1.99424803e-03\n",
      "  2.78766641e-03 -4.76054895e-03]\n",
      "Mean squared error: 0.00\n",
      "Coefficient of determination: 0.23\n"
     ]
    }
   ],
   "source": [
    "# coefficients\n",
    "print('Coefficients: \\n', model.coef_)\n",
    "\n",
    "# mean squared error\n",
    "print('Mean squared error: %.2f' % mean_squared_error(y_test, y_pred))\n",
    "\n",
    "# coefficient of determination\n",
    "print('Coefficient of determination: %.2f' % r2_score(y_test, y_pred))\n"
   ]
  },
  {
   "cell_type": "code",
   "execution_count": 28,
   "id": "72b22a95",
   "metadata": {},
   "outputs": [
    {
     "name": "stdout",
     "output_type": "stream",
     "text": [
      "Requirement already satisfied: statsmodels in /Users/hujiayu/opt/anaconda3/lib/python3.9/site-packages (0.13.2)\n",
      "Requirement already satisfied: pandas>=0.25 in /Users/hujiayu/opt/anaconda3/lib/python3.9/site-packages (from statsmodels) (1.4.2)\n",
      "Requirement already satisfied: numpy>=1.17 in /Users/hujiayu/opt/anaconda3/lib/python3.9/site-packages (from statsmodels) (1.21.5)\n",
      "Requirement already satisfied: scipy>=1.3 in /Users/hujiayu/opt/anaconda3/lib/python3.9/site-packages (from statsmodels) (1.7.3)\n",
      "Requirement already satisfied: patsy>=0.5.2 in /Users/hujiayu/opt/anaconda3/lib/python3.9/site-packages (from statsmodels) (0.5.2)\n",
      "Requirement already satisfied: packaging>=21.3 in /Users/hujiayu/opt/anaconda3/lib/python3.9/site-packages (from statsmodels) (21.3)\n",
      "Requirement already satisfied: pyparsing!=3.0.5,>=2.0.2 in /Users/hujiayu/opt/anaconda3/lib/python3.9/site-packages (from packaging>=21.3->statsmodels) (3.0.4)\n",
      "Requirement already satisfied: python-dateutil>=2.8.1 in /Users/hujiayu/opt/anaconda3/lib/python3.9/site-packages (from pandas>=0.25->statsmodels) (2.8.2)\n",
      "Requirement already satisfied: pytz>=2020.1 in /Users/hujiayu/opt/anaconda3/lib/python3.9/site-packages (from pandas>=0.25->statsmodels) (2021.3)\n",
      "Requirement already satisfied: six in /Users/hujiayu/opt/anaconda3/lib/python3.9/site-packages (from patsy>=0.5.2->statsmodels) (1.16.0)\n"
     ]
    }
   ],
   "source": [
    "! pip install statsmodels"
   ]
  },
  {
   "cell_type": "code",
   "execution_count": 29,
   "id": "45d6b33e",
   "metadata": {},
   "outputs": [
    {
     "name": "stdout",
     "output_type": "stream",
     "text": [
      "                            OLS Regression Results                            \n",
      "==============================================================================\n",
      "Dep. Variable:             ReturnRate   R-squared:                       0.236\n",
      "Model:                            OLS   Adj. R-squared:                  0.236\n",
      "Method:                 Least Squares   F-statistic:                     5195.\n",
      "Date:                Fri, 17 Nov 2023   Prob (F-statistic):               0.00\n",
      "Time:                        02:13:32   Log-Likelihood:             2.1653e+05\n",
      "No. Observations:              100736   AIC:                        -4.331e+05\n",
      "Df Residuals:                  100729   BIC:                        -4.330e+05\n",
      "Df Model:                           6                                         \n",
      "Covariance Type:            nonrobust                                         \n",
      "======================================================================================\n",
      "                         coef    std err          t      P>|t|      [0.025      0.975]\n",
      "--------------------------------------------------------------------------------------\n",
      "const                  0.1153      0.000    381.064      0.000       0.115       0.116\n",
      "NumTrans            -7.14e-05   7.78e-07    -91.761      0.000   -7.29e-05   -6.99e-05\n",
      "DiscountSalesCount  3.687e-05   6.07e-07     60.702      0.000    3.57e-05    3.81e-05\n",
      "AmtTrans            1.627e-06   1.99e-08     81.721      0.000    1.59e-06    1.67e-06\n",
      "Month                 -0.0020      0.000    -17.519      0.000      -0.002      -0.002\n",
      "Quarter                0.0028      0.000      7.949      0.000       0.002       0.003\n",
      "Day                   -0.0048   4.56e-05   -104.320      0.000      -0.005      -0.005\n",
      "==============================================================================\n",
      "Omnibus:                    37598.196   Durbin-Watson:                   2.002\n",
      "Prob(Omnibus):                  0.000   Jarque-Bera (JB):           453220.028\n",
      "Skew:                           1.454   Prob(JB):                         0.00\n",
      "Kurtosis:                      12.976   Cond. No.                     1.34e+05\n",
      "==============================================================================\n",
      "\n",
      "Notes:\n",
      "[1] Standard Errors assume that the covariance matrix of the errors is correctly specified.\n",
      "[2] The condition number is large, 1.34e+05. This might indicate that there are\n",
      "strong multicollinearity or other numerical problems.\n"
     ]
    }
   ],
   "source": [
    "import statsmodels.api as sm\n",
    " \n",
    "X_train_sm = sm.add_constant(X_train)\n",
    "\n",
    "sm_model = sm.OLS(y_train, X_train_sm).fit()\n",
    "\n",
    "print(sm_model.summary())\n"
   ]
  },
  {
   "cell_type": "markdown",
   "id": "15629e1c",
   "metadata": {},
   "source": [
    "\n",
    "\n",
    "\\[ \\text{ReturnRate} = -7.1397 \\times 10^{-5} \\times \\text{NumTrans} + 3.6873 \\times 10^{-5} \\times \\text{DiscountSalesCount} + 1.6269 \\times 10^{-6} \\times \\text{AmtTrans} - 0.00199 \\times \\text{Month} + 0.00279 \\times \\text{Quarter} - 0.00476 \\times \\text{Day} + \\text{Intercept} \\]\n",
    "\n"
   ]
  },
  {
   "cell_type": "markdown",
   "id": "94714296",
   "metadata": {},
   "source": []
  },
  {
   "cell_type": "code",
   "execution_count": null,
   "id": "dcd51a0a",
   "metadata": {},
   "outputs": [],
   "source": []
  }
 ],
 "metadata": {
  "kernelspec": {
   "display_name": "Python 3 (ipykernel)",
   "language": "python",
   "name": "python3"
  },
  "language_info": {
   "codemirror_mode": {
    "name": "ipython",
    "version": 3
   },
   "file_extension": ".py",
   "mimetype": "text/x-python",
   "name": "python",
   "nbconvert_exporter": "python",
   "pygments_lexer": "ipython3",
   "version": "3.11.6"
  },
  "vscode": {
   "interpreter": {
    "hash": "aee8b7b246df8f9039afb4144a1f6fd8d2ca17a180786b69acc140d282b71a49"
   }
  }
 },
 "nbformat": 4,
 "nbformat_minor": 5
}
