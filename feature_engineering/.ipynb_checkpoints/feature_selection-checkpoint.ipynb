{
 "cells": [
  {
   "cell_type": "markdown",
   "id": "24a09637-22c8-4ebd-a8a5-8757b3fd3541",
   "metadata": {},
   "source": [
    "## Library Import"
   ]
  },
  {
   "cell_type": "code",
   "execution_count": 1,
   "id": "7bbe60d6-28b0-4ecd-9a2e-651c8ad57dac",
   "metadata": {},
   "outputs": [],
   "source": [
    "# Import libraries\n",
    "import pandas as pd\n",
    "import numpy as np\n",
    "import seaborn as sns\n",
    "import matplotlib.pyplot as plt\n",
    "import psycopg2\n",
    "from psycopg2 import Error\n",
    "import os\n",
    "from dotenv import load_dotenv\n",
    "import datetime as dt"
   ]
  },
  {
   "cell_type": "markdown",
   "id": "ee87c818-b629-43f6-9c91-813e3027cf6a",
   "metadata": {},
   "source": [
    "## SQL Connection Set UP"
   ]
  },
  {
   "cell_type": "code",
   "execution_count": 4,
   "id": "97f8947b",
   "metadata": {},
   "outputs": [
    {
     "name": "stdout",
     "output_type": "stream",
     "text": [
      "SpiceyDice@345\n"
     ]
    }
   ],
   "source": [
    "# Read in ENV credentials \n",
    "\n",
    "load_dotenv()\n",
    "\n",
    "username = os.getenv('USERNAME')\n",
    "password = os.getenv('PASSWORD')"
   ]
  },
  {
   "cell_type": "code",
   "execution_count": 3,
   "id": "e7eb5273-f420-4645-a27d-d8dccfaee18f",
   "metadata": {},
   "outputs": [
    {
     "name": "stdout",
     "output_type": "stream",
     "text": [
      "You are connected to -  ('PostgreSQL 10.12 on x86_64-pc-linux-gnu, compiled by gcc (GCC) 4.8.5 20150623 (Red Hat 4.8.5-39), 64-bit',) \n",
      "\n"
     ]
    }
   ],
   "source": [
    "# Connection to db \n",
    "USER = username\n",
    "PSWD = password\n",
    "HOST = \"pg.analytics.northwestern.edu\"\n",
    "PORT = \"5432\"\n",
    "DB_NAME = \"everything2023\"\n",
    "\n",
    "# Connect to postgress database\n",
    "try:\n",
    "    # Connect to an existing database\n",
    "    connection = psycopg2.connect(user = USER,\n",
    "                                  password = PSWD,\n",
    "                                  host = HOST,\n",
    "                                  port = PORT,\n",
    "                                  database = DB_NAME)\n",
    "    cursor = connection.cursor()\n",
    "    cursor.execute(\"SELECT version();\")\n",
    "    record = cursor.fetchone()\n",
    "    print(\"You are connected to - \", record, \"\\n\")\n",
    "    \n",
    "except (Exception, Error) as error:\n",
    "    print(\"Error while connecting to PostgreSQL\", error)"
   ]
  },
  {
   "cell_type": "markdown",
   "id": "62d98437-63bd-44f0-a3e5-33c7dad1e183",
   "metadata": {},
   "source": [
    "## FEATURE SELECTION"
   ]
  },
  {
   "cell_type": "markdown",
   "id": "5b532a3f-77bc-4c58-8ca5-92135a6838ff",
   "metadata": {},
   "source": [
    "#### get Y label for return rate per store per day (ReturnRate is our y_label)"
   ]
  },
  {
   "cell_type": "markdown",
   "id": "8d3c9201-ce80-4fb2-b4ab-a69ddc812251",
   "metadata": {},
   "source": [
    "#### feature 1: number of transactions per store per day"
   ]
  },
  {
   "cell_type": "markdown",
   "id": "5a264804-a5a9-4c02-89f3-16de5d885473",
   "metadata": {},
   "source": [
    "#### feature 2: number of discount sale per day"
   ]
  },
  {
   "cell_type": "markdown",
   "id": "5d2724f4-e802-43e1-8f0f-1abd7903bb18",
   "metadata": {},
   "source": [
    "#### feature 3: amount of money sale per day"
   ]
  },
  {
   "cell_type": "markdown",
   "id": "2a6c8c99-4de2-40ba-8f9f-25140693256d",
   "metadata": {},
   "source": [
    "#### Ideas of features\n",
    "#### STATE /location  -- i ma not sure how to use (visualization)\n",
    "#### SKU properties (price of SKU)  \n",
    "#### time/year\n",
    "#### keep brainstorming....."
   ]
  },
  {
   "cell_type": "code",
   "execution_count": null,
   "id": "11d360a5-3de6-4e8d-97dc-0cff76337ed2",
   "metadata": {},
   "outputs": [
    {
     "name": "stderr",
     "output_type": "stream",
     "text": [
      "/Library/Frameworks/Python.framework/Versions/3.8/lib/python3.8/site-packages/pandas/io/sql.py:761: UserWarning: pandas only support SQLAlchemy connectable(engine/connection) ordatabase string URI or sqlite3 DBAPI2 connectionother DBAPI2 objects are not tested, please consider using SQLAlchemy\n",
      "  warnings.warn(\n"
     ]
    }
   ],
   "source": [
    "# Read trnsact table\n",
    "sql_cmd = \"\"\"\n",
    "SELECT \n",
    "  \"SALEDATE\", \n",
    "  \"STORE\", \n",
    "  SUM(CASE WHEN \"STYPE\" = 'R' THEN 1.0 ELSE 0.0 END) / \n",
    "  (SUM(CASE WHEN \"STYPE\" = 'P' THEN 1.0 ELSE 0.0 END) + SUM(CASE WHEN \"STYPE\" = 'R' THEN 1.0 ELSE 0.0 END)) as \"ReturnRate\",\n",
    "  count(*) as \"NumTrans\",\n",
    "  SUM(CASE WHEN \"SPRICE\" < \"ORGPRICE\" THEN 1 ELSE 0 END) as \"DiscountSalesCount\",\n",
    "  SUM(\"AMT\") as \"AmtTrans\"\n",
    "  \n",
    "FROM \n",
    "  group_14.trnsact\n",
    "GROUP BY \n",
    "  \"SALEDATE\", \n",
    "  \"STORE\"\n",
    "ORDER BY \n",
    "  \"SALEDATE\", \n",
    "  \"STORE\";\n",
    "\"\"\"\n",
    "return_rate_df = pd.read_sql(sql_cmd, connection);"
   ]
  },
  {
   "cell_type": "code",
   "execution_count": null,
   "id": "2442bd81-da82-4369-b716-0cf53db5b520",
   "metadata": {},
   "outputs": [],
   "source": [
    "return_rate_df"
   ]
  },
  {
   "cell_type": "code",
   "execution_count": null,
   "id": "3b920c02",
   "metadata": {},
   "outputs": [],
   "source": [
    "sql_cmd = \"\"\"\n",
    "SELECT \"STATE\", \"STORE\"\n",
    "FROM \n",
    "  group_14.strinfo\n",
    "\n",
    "\"\"\"\n",
    "strinfo = pd.read_sql(sql_cmd, connection);\n",
    "strinfo.head()"
   ]
  },
  {
   "cell_type": "code",
   "execution_count": null,
   "id": "1cfbf403",
   "metadata": {
    "scrolled": false
   },
   "outputs": [],
   "source": [
    "return_states = pd.merge(return_rate_df, strinfo, on=\"STORE\", how='inner')\n",
    "state_counts = pd.DataFrame(return_states[\"STATE\"].value_counts().head(10)).reset_index()\n",
    "state_counts.columns = [\"STATE\", \"RETURN_COUNT\"]\n",
    "\n",
    "plt.bar(state_counts[\"STATE\"], state_counts[\"RETURN_COUNT\"])\n",
    "plt.xlabel(\"State\")\n",
    "plt.ylabel(\"Return Count\")\n",
    "plt.title(\"Return Counts by State\")\n",
    "plt.xticks(rotation=45)\n",
    "plt.show()"
   ]
  },
  {
   "cell_type": "markdown",
   "id": "21d25f78",
   "metadata": {},
   "source": [
    "The top 10 states with the most returns "
   ]
  },
  {
   "cell_type": "code",
   "execution_count": null,
   "id": "8a636959",
   "metadata": {},
   "outputs": [],
   "source": [
    "# Extract different time features \n",
    "return_rate_df['Month'] = pd.to_datetime(return_rate_df['SALEDATE']).dt.month\n",
    "return_rate_df['Quarter'] = pd.to_datetime(return_rate_df['SALEDATE']).dt.quarter\n",
    "return_rate_df['Day'] = pd.to_datetime(return_rate_df['SALEDATE']).dt.dayofweek\n",
    "return_rate_df"
   ]
  },
  {
   "cell_type": "code",
   "execution_count": null,
   "id": "e0420fbf",
   "metadata": {},
   "outputs": [],
   "source": [
    "# JOIN skstinfo and skuinfo to get cost of sku \n",
    "sql_cmd = \"\"\"\n",
    "SELECT sku.\"SKU\", sks.\"Cost\"\n",
    "FROM group_14.skstinfo sks\n",
    "JOIN group_14.skuinfo sku on sku.\"SKU\" = sks.\"SKU\"\n",
    "\"\"\"\n",
    "skstinfo = pd.read_sql(sql_cmd, connection);\n",
    "skstinfo.head()"
   ]
  },
  {
   "cell_type": "markdown",
   "id": "65109d2a-bf18-4f06-aaf3-5193f89937ab",
   "metadata": {},
   "source": [
    "## Data Visualization"
   ]
  },
  {
   "cell_type": "code",
   "execution_count": null,
   "id": "f85e8ad7-3755-4f55-8b75-43e05e6e9035",
   "metadata": {},
   "outputs": [],
   "source": [
    "## how return rate for store 102 working in times series\n",
    "def plot_return_for_store(store_num):\n",
    "    # Filter the DataFrame for store 102\n",
    "    store_data = return_rate_df[return_rate_df['STORE'] == store_num]\n",
    "    \n",
    "    # Ensure SaleDate is a datetime type for proper plotting\n",
    "    store_data['SALEDATE'] = pd.to_datetime(store_data['SALEDATE'])\n",
    "    \n",
    "    # Plotting\n",
    "    plt.figure(figsize=(10, 5))  # You can adjust the figure size as needed\n",
    "    plt.plot(store_data['SALEDATE'], store_data['ReturnRate'], marker='o')\n",
    "    \n",
    "    plt.title(f'Return Rate Over Time for Store {store_num}')\n",
    "    plt.xlabel('Sale Date')\n",
    "    plt.ylabel('Return Rate')\n",
    "    plt.grid(True)\n",
    "    plt.xticks(rotation=45)  # Rotate the x-axis labels for better readability\n",
    "    plt.tight_layout()  # Adjusts plot parameters to give the plot more room\n",
    "    \n",
    "    # Display the plot\n",
    "    plt.show()"
   ]
  },
  {
   "cell_type": "code",
   "execution_count": null,
   "id": "c83a05e9-251e-4027-9f39-ac80534036fc",
   "metadata": {},
   "outputs": [],
   "source": [
    "plot_return_for_store(203)"
   ]
  },
  {
   "cell_type": "code",
   "execution_count": null,
   "id": "0361d13f-6571-401d-9ced-0d35d852b198",
   "metadata": {},
   "outputs": [],
   "source": []
  }
 ],
 "metadata": {
  "kernelspec": {
   "display_name": "Python 3 (ipykernel)",
   "language": "python",
   "name": "python3"
  },
  "language_info": {
   "codemirror_mode": {
    "name": "ipython",
    "version": 3
   },
   "file_extension": ".py",
   "mimetype": "text/x-python",
   "name": "python",
   "nbconvert_exporter": "python",
   "pygments_lexer": "ipython3",
   "version": "3.8.5"
  },
  "vscode": {
   "interpreter": {
    "hash": "aee8b7b246df8f9039afb4144a1f6fd8d2ca17a180786b69acc140d282b71a49"
   }
  }
 },
 "nbformat": 4,
 "nbformat_minor": 5
}
