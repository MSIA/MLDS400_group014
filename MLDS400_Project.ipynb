{
 "cells": [
  {
   "cell_type": "markdown",
   "id": "cb963c6b-60d3-4326-96de-8c8a70a04a9d",
   "metadata": {},
   "source": [
    "## 1. Library import"
   ]
  },
  {
   "cell_type": "code",
   "execution_count": 3,
   "id": "e62f77d1",
   "metadata": {},
   "outputs": [],
   "source": [
    "import pandas as pd\n",
    "import numpy as np \n",
    "import matplotlib.pyplot as plt\n",
    "import psycopg2"
   ]
  },
  {
   "cell_type": "markdown",
   "id": "ac9f10a2-9d2a-4ea3-90a6-76d74d65b110",
   "metadata": {},
   "source": [
    "## 2. Read Dataset"
   ]
  },
  {
   "cell_type": "code",
   "execution_count": 4,
   "id": "4bf33318",
   "metadata": {},
   "outputs": [
    {
     "name": "stdout",
     "output_type": "stream",
     "text": [
      "Connecting to the PostgreSQL database...\n",
      "PostgreSQL database version:\n",
      "Database connection closed.\n"
     ]
    }
   ],
   "source": [
    "def connect():\n",
    "    \"\"\" Connect to the PostgreSQL database server \"\"\"\n",
    "    conn = None\n",
    "    try:\n",
    "        # connect to the PostgreSQL server\n",
    "        print('Connecting to the PostgreSQL database...')\n",
    "        conn = psycopg2.connect(\n",
    "            host=\"pg.analytics.northwestern.edu\",\n",
    "            database=\"everything2023\",\n",
    "            user=\"\",\n",
    "            password=\"\")\n",
    "        # create a cursor\n",
    "        cur = conn.cursor()\n",
    "        \n",
    "        # execute a statement\n",
    "        print('PostgreSQL database version:')\n",
    "        cur.execute('select * from group_14.deptinfo limit 5')\n",
    "\n",
    "\t# close the communication with the PostgreSQL\n",
    "        cur.close()\n",
    "    except (Exception, psycopg2.DatabaseError) as error:\n",
    "        print(error)\n",
    "    finally:\n",
    "        if conn is not None:\n",
    "            conn.close()\n",
    "            print('Database connection closed.')\n",
    "            \n",
    "connect()\n"
   ]
  },
  {
   "cell_type": "code",
   "execution_count": 5,
   "id": "f03de3f4",
   "metadata": {},
   "outputs": [
    {
     "ename": "FileNotFoundError",
     "evalue": "[Errno 2] No such file or directory: 'deptinfo.csv'",
     "output_type": "error",
     "traceback": [
      "\u001b[0;31m---------------------------------------------------------------------------\u001b[0m",
      "\u001b[0;31mFileNotFoundError\u001b[0m                         Traceback (most recent call last)",
      "Cell \u001b[0;32mIn[5], line 1\u001b[0m\n\u001b[0;32m----> 1\u001b[0m deptinfo \u001b[38;5;241m=\u001b[39m \u001b[43mpd\u001b[49m\u001b[38;5;241;43m.\u001b[39;49m\u001b[43mread_csv\u001b[49m\u001b[43m(\u001b[49m\u001b[38;5;124;43m\"\u001b[39;49m\u001b[38;5;124;43mdeptinfo.csv\u001b[39;49m\u001b[38;5;124;43m\"\u001b[39;49m\u001b[43m,\u001b[49m\u001b[43m \u001b[49m\u001b[43mheader\u001b[49m\u001b[43m \u001b[49m\u001b[38;5;241;43m=\u001b[39;49m\u001b[43m \u001b[49m\u001b[38;5;28;43;01mNone\u001b[39;49;00m\u001b[43m,\u001b[49m\u001b[43m \u001b[49m\u001b[43mnames\u001b[49m\u001b[43m \u001b[49m\u001b[38;5;241;43m=\u001b[39;49m\u001b[43m \u001b[49m\u001b[43m[\u001b[49m\u001b[38;5;124;43m'\u001b[39;49m\u001b[38;5;124;43mDept\u001b[39;49m\u001b[38;5;124;43m'\u001b[39;49m\u001b[43m,\u001b[49m\u001b[43m \u001b[49m\u001b[38;5;124;43m'\u001b[39;49m\u001b[38;5;124;43mDeptDESC\u001b[39;49m\u001b[38;5;124;43m'\u001b[39;49m\u001b[43m,\u001b[49m\u001b[43m \u001b[49m\u001b[38;5;124;43m'\u001b[39;49m\u001b[38;5;124;43munknown\u001b[39;49m\u001b[38;5;124;43m'\u001b[39;49m\u001b[43m]\u001b[49m\u001b[43m \u001b[49m\u001b[43m)\u001b[49m\n\u001b[1;32m      2\u001b[0m skuinfo \u001b[38;5;241m=\u001b[39m pd\u001b[38;5;241m.\u001b[39mread_csv(\u001b[38;5;124m\"\u001b[39m\u001b[38;5;124mskuinfo.csv\u001b[39m\u001b[38;5;124m\"\u001b[39m, header \u001b[38;5;241m=\u001b[39m \u001b[38;5;28;01mNone\u001b[39;00m, dtype \u001b[38;5;241m=\u001b[39m \u001b[38;5;124m'\u001b[39m\u001b[38;5;124mstr\u001b[39m\u001b[38;5;124m'\u001b[39m, \n\u001b[1;32m      3\u001b[0m names \u001b[38;5;241m=\u001b[39m [\u001b[38;5;124m'\u001b[39m\u001b[38;5;124mSKU\u001b[39m\u001b[38;5;124m'\u001b[39m, \u001b[38;5;124m'\u001b[39m\u001b[38;5;124mDEPT\u001b[39m\u001b[38;5;124m'\u001b[39m, \u001b[38;5;124m'\u001b[39m\u001b[38;5;124mCLASSID\u001b[39m\u001b[38;5;124m'\u001b[39m, \u001b[38;5;124m'\u001b[39m\u001b[38;5;124mUPC\u001b[39m\u001b[38;5;124m'\u001b[39m, \u001b[38;5;124m'\u001b[39m\u001b[38;5;124mSTYLE\u001b[39m\u001b[38;5;124m'\u001b[39m,\n\u001b[1;32m      4\u001b[0m                              \u001b[38;5;124m'\u001b[39m\u001b[38;5;124mCOLOR\u001b[39m\u001b[38;5;124m'\u001b[39m, \u001b[38;5;124m'\u001b[39m\u001b[38;5;124mSIZE\u001b[39m\u001b[38;5;124m'\u001b[39m, \u001b[38;5;124m'\u001b[39m\u001b[38;5;124mPACKSIZE\u001b[39m\u001b[38;5;124m'\u001b[39m, \u001b[38;5;124m'\u001b[39m\u001b[38;5;124mVENDOR\u001b[39m\u001b[38;5;124m'\u001b[39m, \u001b[38;5;124m'\u001b[39m\u001b[38;5;124mBRAND\u001b[39m\u001b[38;5;124m'\u001b[39m, \n\u001b[1;32m      5\u001b[0m                              \u001b[38;5;124m'\u001b[39m\u001b[38;5;124mUnkown1\u001b[39m\u001b[38;5;124m'\u001b[39m, \u001b[38;5;124m'\u001b[39m\u001b[38;5;124mUnknown2\u001b[39m\u001b[38;5;124m'\u001b[39m, \u001b[38;5;124m'\u001b[39m\u001b[38;5;124mUnknown3\u001b[39m\u001b[38;5;124m'\u001b[39m])\n\u001b[1;32m      6\u001b[0m strinfo \u001b[38;5;241m=\u001b[39m pd\u001b[38;5;241m.\u001b[39mread_csv(\u001b[38;5;124m\"\u001b[39m\u001b[38;5;124mstrinfo.csv\u001b[39m\u001b[38;5;124m\"\u001b[39m, header \u001b[38;5;241m=\u001b[39m \u001b[38;5;28;01mNone\u001b[39;00m, names \u001b[38;5;241m=\u001b[39m [\u001b[38;5;124m'\u001b[39m\u001b[38;5;124mCity\u001b[39m\u001b[38;5;124m'\u001b[39m, \u001b[38;5;124m'\u001b[39m\u001b[38;5;124mState\u001b[39m\u001b[38;5;124m'\u001b[39m, \u001b[38;5;124m'\u001b[39m\u001b[38;5;124mZip\u001b[39m\u001b[38;5;124m'\u001b[39m, \u001b[38;5;124m'\u001b[39m\u001b[38;5;124munkown\u001b[39m\u001b[38;5;124m'\u001b[39m])\n",
      "File \u001b[0;32m/opt/homebrew/Cellar/jupyterlab/4.0.9_1/libexec/lib/python3.12/site-packages/pandas/io/parsers/readers.py:948\u001b[0m, in \u001b[0;36mread_csv\u001b[0;34m(filepath_or_buffer, sep, delimiter, header, names, index_col, usecols, dtype, engine, converters, true_values, false_values, skipinitialspace, skiprows, skipfooter, nrows, na_values, keep_default_na, na_filter, verbose, skip_blank_lines, parse_dates, infer_datetime_format, keep_date_col, date_parser, date_format, dayfirst, cache_dates, iterator, chunksize, compression, thousands, decimal, lineterminator, quotechar, quoting, doublequote, escapechar, comment, encoding, encoding_errors, dialect, on_bad_lines, delim_whitespace, low_memory, memory_map, float_precision, storage_options, dtype_backend)\u001b[0m\n\u001b[1;32m    935\u001b[0m kwds_defaults \u001b[38;5;241m=\u001b[39m _refine_defaults_read(\n\u001b[1;32m    936\u001b[0m     dialect,\n\u001b[1;32m    937\u001b[0m     delimiter,\n\u001b[0;32m   (...)\u001b[0m\n\u001b[1;32m    944\u001b[0m     dtype_backend\u001b[38;5;241m=\u001b[39mdtype_backend,\n\u001b[1;32m    945\u001b[0m )\n\u001b[1;32m    946\u001b[0m kwds\u001b[38;5;241m.\u001b[39mupdate(kwds_defaults)\n\u001b[0;32m--> 948\u001b[0m \u001b[38;5;28;01mreturn\u001b[39;00m \u001b[43m_read\u001b[49m\u001b[43m(\u001b[49m\u001b[43mfilepath_or_buffer\u001b[49m\u001b[43m,\u001b[49m\u001b[43m \u001b[49m\u001b[43mkwds\u001b[49m\u001b[43m)\u001b[49m\n",
      "File \u001b[0;32m/opt/homebrew/Cellar/jupyterlab/4.0.9_1/libexec/lib/python3.12/site-packages/pandas/io/parsers/readers.py:611\u001b[0m, in \u001b[0;36m_read\u001b[0;34m(filepath_or_buffer, kwds)\u001b[0m\n\u001b[1;32m    608\u001b[0m _validate_names(kwds\u001b[38;5;241m.\u001b[39mget(\u001b[38;5;124m\"\u001b[39m\u001b[38;5;124mnames\u001b[39m\u001b[38;5;124m\"\u001b[39m, \u001b[38;5;28;01mNone\u001b[39;00m))\n\u001b[1;32m    610\u001b[0m \u001b[38;5;66;03m# Create the parser.\u001b[39;00m\n\u001b[0;32m--> 611\u001b[0m parser \u001b[38;5;241m=\u001b[39m \u001b[43mTextFileReader\u001b[49m\u001b[43m(\u001b[49m\u001b[43mfilepath_or_buffer\u001b[49m\u001b[43m,\u001b[49m\u001b[43m \u001b[49m\u001b[38;5;241;43m*\u001b[39;49m\u001b[38;5;241;43m*\u001b[39;49m\u001b[43mkwds\u001b[49m\u001b[43m)\u001b[49m\n\u001b[1;32m    613\u001b[0m \u001b[38;5;28;01mif\u001b[39;00m chunksize \u001b[38;5;129;01mor\u001b[39;00m iterator:\n\u001b[1;32m    614\u001b[0m     \u001b[38;5;28;01mreturn\u001b[39;00m parser\n",
      "File \u001b[0;32m/opt/homebrew/Cellar/jupyterlab/4.0.9_1/libexec/lib/python3.12/site-packages/pandas/io/parsers/readers.py:1448\u001b[0m, in \u001b[0;36mTextFileReader.__init__\u001b[0;34m(self, f, engine, **kwds)\u001b[0m\n\u001b[1;32m   1445\u001b[0m     \u001b[38;5;28mself\u001b[39m\u001b[38;5;241m.\u001b[39moptions[\u001b[38;5;124m\"\u001b[39m\u001b[38;5;124mhas_index_names\u001b[39m\u001b[38;5;124m\"\u001b[39m] \u001b[38;5;241m=\u001b[39m kwds[\u001b[38;5;124m\"\u001b[39m\u001b[38;5;124mhas_index_names\u001b[39m\u001b[38;5;124m\"\u001b[39m]\n\u001b[1;32m   1447\u001b[0m \u001b[38;5;28mself\u001b[39m\u001b[38;5;241m.\u001b[39mhandles: IOHandles \u001b[38;5;241m|\u001b[39m \u001b[38;5;28;01mNone\u001b[39;00m \u001b[38;5;241m=\u001b[39m \u001b[38;5;28;01mNone\u001b[39;00m\n\u001b[0;32m-> 1448\u001b[0m \u001b[38;5;28mself\u001b[39m\u001b[38;5;241m.\u001b[39m_engine \u001b[38;5;241m=\u001b[39m \u001b[38;5;28;43mself\u001b[39;49m\u001b[38;5;241;43m.\u001b[39;49m\u001b[43m_make_engine\u001b[49m\u001b[43m(\u001b[49m\u001b[43mf\u001b[49m\u001b[43m,\u001b[49m\u001b[43m \u001b[49m\u001b[38;5;28;43mself\u001b[39;49m\u001b[38;5;241;43m.\u001b[39;49m\u001b[43mengine\u001b[49m\u001b[43m)\u001b[49m\n",
      "File \u001b[0;32m/opt/homebrew/Cellar/jupyterlab/4.0.9_1/libexec/lib/python3.12/site-packages/pandas/io/parsers/readers.py:1705\u001b[0m, in \u001b[0;36mTextFileReader._make_engine\u001b[0;34m(self, f, engine)\u001b[0m\n\u001b[1;32m   1703\u001b[0m     \u001b[38;5;28;01mif\u001b[39;00m \u001b[38;5;124m\"\u001b[39m\u001b[38;5;124mb\u001b[39m\u001b[38;5;124m\"\u001b[39m \u001b[38;5;129;01mnot\u001b[39;00m \u001b[38;5;129;01min\u001b[39;00m mode:\n\u001b[1;32m   1704\u001b[0m         mode \u001b[38;5;241m+\u001b[39m\u001b[38;5;241m=\u001b[39m \u001b[38;5;124m\"\u001b[39m\u001b[38;5;124mb\u001b[39m\u001b[38;5;124m\"\u001b[39m\n\u001b[0;32m-> 1705\u001b[0m \u001b[38;5;28mself\u001b[39m\u001b[38;5;241m.\u001b[39mhandles \u001b[38;5;241m=\u001b[39m \u001b[43mget_handle\u001b[49m\u001b[43m(\u001b[49m\n\u001b[1;32m   1706\u001b[0m \u001b[43m    \u001b[49m\u001b[43mf\u001b[49m\u001b[43m,\u001b[49m\n\u001b[1;32m   1707\u001b[0m \u001b[43m    \u001b[49m\u001b[43mmode\u001b[49m\u001b[43m,\u001b[49m\n\u001b[1;32m   1708\u001b[0m \u001b[43m    \u001b[49m\u001b[43mencoding\u001b[49m\u001b[38;5;241;43m=\u001b[39;49m\u001b[38;5;28;43mself\u001b[39;49m\u001b[38;5;241;43m.\u001b[39;49m\u001b[43moptions\u001b[49m\u001b[38;5;241;43m.\u001b[39;49m\u001b[43mget\u001b[49m\u001b[43m(\u001b[49m\u001b[38;5;124;43m\"\u001b[39;49m\u001b[38;5;124;43mencoding\u001b[39;49m\u001b[38;5;124;43m\"\u001b[39;49m\u001b[43m,\u001b[49m\u001b[43m \u001b[49m\u001b[38;5;28;43;01mNone\u001b[39;49;00m\u001b[43m)\u001b[49m\u001b[43m,\u001b[49m\n\u001b[1;32m   1709\u001b[0m \u001b[43m    \u001b[49m\u001b[43mcompression\u001b[49m\u001b[38;5;241;43m=\u001b[39;49m\u001b[38;5;28;43mself\u001b[39;49m\u001b[38;5;241;43m.\u001b[39;49m\u001b[43moptions\u001b[49m\u001b[38;5;241;43m.\u001b[39;49m\u001b[43mget\u001b[49m\u001b[43m(\u001b[49m\u001b[38;5;124;43m\"\u001b[39;49m\u001b[38;5;124;43mcompression\u001b[39;49m\u001b[38;5;124;43m\"\u001b[39;49m\u001b[43m,\u001b[49m\u001b[43m \u001b[49m\u001b[38;5;28;43;01mNone\u001b[39;49;00m\u001b[43m)\u001b[49m\u001b[43m,\u001b[49m\n\u001b[1;32m   1710\u001b[0m \u001b[43m    \u001b[49m\u001b[43mmemory_map\u001b[49m\u001b[38;5;241;43m=\u001b[39;49m\u001b[38;5;28;43mself\u001b[39;49m\u001b[38;5;241;43m.\u001b[39;49m\u001b[43moptions\u001b[49m\u001b[38;5;241;43m.\u001b[39;49m\u001b[43mget\u001b[49m\u001b[43m(\u001b[49m\u001b[38;5;124;43m\"\u001b[39;49m\u001b[38;5;124;43mmemory_map\u001b[39;49m\u001b[38;5;124;43m\"\u001b[39;49m\u001b[43m,\u001b[49m\u001b[43m \u001b[49m\u001b[38;5;28;43;01mFalse\u001b[39;49;00m\u001b[43m)\u001b[49m\u001b[43m,\u001b[49m\n\u001b[1;32m   1711\u001b[0m \u001b[43m    \u001b[49m\u001b[43mis_text\u001b[49m\u001b[38;5;241;43m=\u001b[39;49m\u001b[43mis_text\u001b[49m\u001b[43m,\u001b[49m\n\u001b[1;32m   1712\u001b[0m \u001b[43m    \u001b[49m\u001b[43merrors\u001b[49m\u001b[38;5;241;43m=\u001b[39;49m\u001b[38;5;28;43mself\u001b[39;49m\u001b[38;5;241;43m.\u001b[39;49m\u001b[43moptions\u001b[49m\u001b[38;5;241;43m.\u001b[39;49m\u001b[43mget\u001b[49m\u001b[43m(\u001b[49m\u001b[38;5;124;43m\"\u001b[39;49m\u001b[38;5;124;43mencoding_errors\u001b[39;49m\u001b[38;5;124;43m\"\u001b[39;49m\u001b[43m,\u001b[49m\u001b[43m \u001b[49m\u001b[38;5;124;43m\"\u001b[39;49m\u001b[38;5;124;43mstrict\u001b[39;49m\u001b[38;5;124;43m\"\u001b[39;49m\u001b[43m)\u001b[49m\u001b[43m,\u001b[49m\n\u001b[1;32m   1713\u001b[0m \u001b[43m    \u001b[49m\u001b[43mstorage_options\u001b[49m\u001b[38;5;241;43m=\u001b[39;49m\u001b[38;5;28;43mself\u001b[39;49m\u001b[38;5;241;43m.\u001b[39;49m\u001b[43moptions\u001b[49m\u001b[38;5;241;43m.\u001b[39;49m\u001b[43mget\u001b[49m\u001b[43m(\u001b[49m\u001b[38;5;124;43m\"\u001b[39;49m\u001b[38;5;124;43mstorage_options\u001b[39;49m\u001b[38;5;124;43m\"\u001b[39;49m\u001b[43m,\u001b[49m\u001b[43m \u001b[49m\u001b[38;5;28;43;01mNone\u001b[39;49;00m\u001b[43m)\u001b[49m\u001b[43m,\u001b[49m\n\u001b[1;32m   1714\u001b[0m \u001b[43m\u001b[49m\u001b[43m)\u001b[49m\n\u001b[1;32m   1715\u001b[0m \u001b[38;5;28;01massert\u001b[39;00m \u001b[38;5;28mself\u001b[39m\u001b[38;5;241m.\u001b[39mhandles \u001b[38;5;129;01mis\u001b[39;00m \u001b[38;5;129;01mnot\u001b[39;00m \u001b[38;5;28;01mNone\u001b[39;00m\n\u001b[1;32m   1716\u001b[0m f \u001b[38;5;241m=\u001b[39m \u001b[38;5;28mself\u001b[39m\u001b[38;5;241m.\u001b[39mhandles\u001b[38;5;241m.\u001b[39mhandle\n",
      "File \u001b[0;32m/opt/homebrew/Cellar/jupyterlab/4.0.9_1/libexec/lib/python3.12/site-packages/pandas/io/common.py:863\u001b[0m, in \u001b[0;36mget_handle\u001b[0;34m(path_or_buf, mode, encoding, compression, memory_map, is_text, errors, storage_options)\u001b[0m\n\u001b[1;32m    858\u001b[0m \u001b[38;5;28;01melif\u001b[39;00m \u001b[38;5;28misinstance\u001b[39m(handle, \u001b[38;5;28mstr\u001b[39m):\n\u001b[1;32m    859\u001b[0m     \u001b[38;5;66;03m# Check whether the filename is to be opened in binary mode.\u001b[39;00m\n\u001b[1;32m    860\u001b[0m     \u001b[38;5;66;03m# Binary mode does not support 'encoding' and 'newline'.\u001b[39;00m\n\u001b[1;32m    861\u001b[0m     \u001b[38;5;28;01mif\u001b[39;00m ioargs\u001b[38;5;241m.\u001b[39mencoding \u001b[38;5;129;01mand\u001b[39;00m \u001b[38;5;124m\"\u001b[39m\u001b[38;5;124mb\u001b[39m\u001b[38;5;124m\"\u001b[39m \u001b[38;5;129;01mnot\u001b[39;00m \u001b[38;5;129;01min\u001b[39;00m ioargs\u001b[38;5;241m.\u001b[39mmode:\n\u001b[1;32m    862\u001b[0m         \u001b[38;5;66;03m# Encoding\u001b[39;00m\n\u001b[0;32m--> 863\u001b[0m         handle \u001b[38;5;241m=\u001b[39m \u001b[38;5;28;43mopen\u001b[39;49m\u001b[43m(\u001b[49m\n\u001b[1;32m    864\u001b[0m \u001b[43m            \u001b[49m\u001b[43mhandle\u001b[49m\u001b[43m,\u001b[49m\n\u001b[1;32m    865\u001b[0m \u001b[43m            \u001b[49m\u001b[43mioargs\u001b[49m\u001b[38;5;241;43m.\u001b[39;49m\u001b[43mmode\u001b[49m\u001b[43m,\u001b[49m\n\u001b[1;32m    866\u001b[0m \u001b[43m            \u001b[49m\u001b[43mencoding\u001b[49m\u001b[38;5;241;43m=\u001b[39;49m\u001b[43mioargs\u001b[49m\u001b[38;5;241;43m.\u001b[39;49m\u001b[43mencoding\u001b[49m\u001b[43m,\u001b[49m\n\u001b[1;32m    867\u001b[0m \u001b[43m            \u001b[49m\u001b[43merrors\u001b[49m\u001b[38;5;241;43m=\u001b[39;49m\u001b[43merrors\u001b[49m\u001b[43m,\u001b[49m\n\u001b[1;32m    868\u001b[0m \u001b[43m            \u001b[49m\u001b[43mnewline\u001b[49m\u001b[38;5;241;43m=\u001b[39;49m\u001b[38;5;124;43m\"\u001b[39;49m\u001b[38;5;124;43m\"\u001b[39;49m\u001b[43m,\u001b[49m\n\u001b[1;32m    869\u001b[0m \u001b[43m        \u001b[49m\u001b[43m)\u001b[49m\n\u001b[1;32m    870\u001b[0m     \u001b[38;5;28;01melse\u001b[39;00m:\n\u001b[1;32m    871\u001b[0m         \u001b[38;5;66;03m# Binary mode\u001b[39;00m\n\u001b[1;32m    872\u001b[0m         handle \u001b[38;5;241m=\u001b[39m \u001b[38;5;28mopen\u001b[39m(handle, ioargs\u001b[38;5;241m.\u001b[39mmode)\n",
      "\u001b[0;31mFileNotFoundError\u001b[0m: [Errno 2] No such file or directory: 'deptinfo.csv'"
     ]
    }
   ],
   "source": [
    "deptinfo = pd.read_csv(\"deptinfo.csv\", header = None, names = ['Dept', 'DeptDESC', 'unknown'] )\n",
    "skuinfo = pd.read_csv(\"skuinfo.csv\", header = None, dtype = 'str', \n",
    "names = ['SKU', 'DEPT', 'CLASSID', 'UPC', 'STYLE',\n",
    "                             'COLOR', 'SIZE', 'PACKSIZE', 'VENDOR', 'BRAND', \n",
    "                             'Unkown1', 'Unknown2', 'Unknown3'])\n",
    "strinfo = pd.read_csv(\"strinfo.csv\", header = None, names = ['City', 'State', 'Zip', 'unkown'])\n",
    "skstinfo = pd.read_csv(\"skstinfo.csv\", header = None, names = ['SKU', \"Store\", \"Cost\", \"Retail\", \"unknown\"])\n",
    "\n",
    "## we will be deal with this after loading it into postgre\n",
    "# trnsact =  pd.read_csv(\"trnsact.csv\", header = None, names = [\"\"])"
   ]
  },
  {
   "cell_type": "markdown",
   "id": "1ffd5adf-afcb-4113-b8d1-9294ae565079",
   "metadata": {},
   "source": [
    "## 3. Data Clean and (very) Basic EDA"
   ]
  },
  {
   "cell_type": "markdown",
   "id": "d2bb4125-ea7e-4806-b85d-5a6b89168974",
   "metadata": {},
   "source": [
    "### 3.a. Data Clean for Department File"
   ]
  },
  {
   "cell_type": "code",
   "execution_count": 16,
   "id": "3aa8445f",
   "metadata": {},
   "outputs": [
    {
     "data": {
      "text/html": [
       "<div>\n",
       "<style scoped>\n",
       "    .dataframe tbody tr th:only-of-type {\n",
       "        vertical-align: middle;\n",
       "    }\n",
       "\n",
       "    .dataframe tbody tr th {\n",
       "        vertical-align: top;\n",
       "    }\n",
       "\n",
       "    .dataframe thead th {\n",
       "        text-align: right;\n",
       "    }\n",
       "</style>\n",
       "<table border=\"1\" class=\"dataframe\">\n",
       "  <thead>\n",
       "    <tr style=\"text-align: right;\">\n",
       "      <th></th>\n",
       "      <th>Dept</th>\n",
       "      <th>DeptDESC</th>\n",
       "      <th>unknown</th>\n",
       "    </tr>\n",
       "  </thead>\n",
       "  <tbody>\n",
       "    <tr>\n",
       "      <th>0</th>\n",
       "      <td>800</td>\n",
       "      <td>CLINIQUE</td>\n",
       "      <td>0</td>\n",
       "    </tr>\n",
       "    <tr>\n",
       "      <th>1</th>\n",
       "      <td>801</td>\n",
       "      <td>LESLIE</td>\n",
       "      <td>0</td>\n",
       "    </tr>\n",
       "    <tr>\n",
       "      <th>2</th>\n",
       "      <td>1100</td>\n",
       "      <td>GARY F</td>\n",
       "      <td>0</td>\n",
       "    </tr>\n",
       "    <tr>\n",
       "      <th>3</th>\n",
       "      <td>1107</td>\n",
       "      <td>JACQUES</td>\n",
       "      <td>0</td>\n",
       "    </tr>\n",
       "    <tr>\n",
       "      <th>4</th>\n",
       "      <td>1202</td>\n",
       "      <td>CABERN</td>\n",
       "      <td>0</td>\n",
       "    </tr>\n",
       "  </tbody>\n",
       "</table>\n",
       "</div>"
      ],
      "text/plain": [
       "   Dept  DeptDESC  unknown\n",
       "0   800  CLINIQUE        0\n",
       "1   801  LESLIE          0\n",
       "2  1100  GARY F          0\n",
       "3  1107  JACQUES         0\n",
       "4  1202  CABERN          0"
      ]
     },
     "execution_count": 16,
     "metadata": {},
     "output_type": "execute_result"
    }
   ],
   "source": [
    "## take a brief look at the department info\n",
    "deptinfo.head()"
   ]
  },
  {
   "cell_type": "code",
   "execution_count": 17,
   "id": "098a1beb-418e-4195-bf57-ae946084893e",
   "metadata": {},
   "outputs": [
    {
     "data": {
      "text/plain": [
       "array([0, 1])"
      ]
     },
     "execution_count": 17,
     "metadata": {},
     "output_type": "execute_result"
    }
   ],
   "source": [
    "## Investigate unknown column \n",
    "np.unique(deptinfo.unknown)"
   ]
  },
  {
   "cell_type": "markdown",
   "id": "794c833d-8ca6-4171-ba53-23a8c5ae66ea",
   "metadata": {},
   "source": [
    "#### Given the fact that the column unknow only has 0 and 1, and it does not appear in our schema, we decided to drop it."
   ]
  },
  {
   "cell_type": "code",
   "execution_count": 18,
   "id": "c1fd31f8-6ade-477f-9d02-bb1d59723db1",
   "metadata": {},
   "outputs": [],
   "source": [
    "deptinfo = deptinfo.drop(\"unknown\", axis =1)"
   ]
  },
  {
   "cell_type": "markdown",
   "id": "52887b7a-5672-42fd-a1b5-f6a55bd0bc1d",
   "metadata": {},
   "source": [
    "#### Check is there any duplicate? looks like a no."
   ]
  },
  {
   "cell_type": "code",
   "execution_count": 21,
   "id": "ec32ade7-0c99-49c1-bcbf-84723f19b801",
   "metadata": {},
   "outputs": [
    {
     "data": {
      "text/html": [
       "<div>\n",
       "<style scoped>\n",
       "    .dataframe tbody tr th:only-of-type {\n",
       "        vertical-align: middle;\n",
       "    }\n",
       "\n",
       "    .dataframe tbody tr th {\n",
       "        vertical-align: top;\n",
       "    }\n",
       "\n",
       "    .dataframe thead th {\n",
       "        text-align: right;\n",
       "    }\n",
       "</style>\n",
       "<table border=\"1\" class=\"dataframe\">\n",
       "  <thead>\n",
       "    <tr style=\"text-align: right;\">\n",
       "      <th></th>\n",
       "      <th>Dept</th>\n",
       "      <th>DeptDESC</th>\n",
       "    </tr>\n",
       "  </thead>\n",
       "  <tbody>\n",
       "  </tbody>\n",
       "</table>\n",
       "</div>"
      ],
      "text/plain": [
       "Empty DataFrame\n",
       "Columns: [Dept, DeptDESC]\n",
       "Index: []"
      ]
     },
     "execution_count": 21,
     "metadata": {},
     "output_type": "execute_result"
    }
   ],
   "source": [
    "deptinfo[deptinfo.duplicated()] "
   ]
  },
  {
   "cell_type": "markdown",
   "id": "f638418a-5048-430b-9dc9-7ded45fa5679",
   "metadata": {},
   "source": [
    "#### Check is there any null values? NO."
   ]
  },
  {
   "cell_type": "code",
   "execution_count": 22,
   "id": "be74b98a",
   "metadata": {},
   "outputs": [
    {
     "data": {
      "text/plain": [
       "Dept        0\n",
       "DeptDESC    0\n",
       "dtype: int64"
      ]
     },
     "execution_count": 22,
     "metadata": {},
     "output_type": "execute_result"
    }
   ],
   "source": [
    "deptinfo.isnull().sum()"
   ]
  },
  {
   "cell_type": "code",
   "execution_count": 23,
   "id": "a93630e1",
   "metadata": {},
   "outputs": [
    {
     "data": {
      "text/plain": [
       "60"
      ]
     },
     "execution_count": 23,
     "metadata": {},
     "output_type": "execute_result"
    }
   ],
   "source": [
    "len(deptinfo)"
   ]
  },
  {
   "cell_type": "markdown",
   "id": "0fcde5fe-b21c-4a56-ac52-bab9483ff261",
   "metadata": {},
   "source": [
    "### 3.b. Data Clean for SKU INFO"
   ]
  },
  {
   "cell_type": "code",
   "execution_count": 24,
   "id": "d089b1b4-a341-4a5a-a772-84291fd8c24a",
   "metadata": {},
   "outputs": [
    {
     "data": {
      "text/html": [
       "<div>\n",
       "<style scoped>\n",
       "    .dataframe tbody tr th:only-of-type {\n",
       "        vertical-align: middle;\n",
       "    }\n",
       "\n",
       "    .dataframe tbody tr th {\n",
       "        vertical-align: top;\n",
       "    }\n",
       "\n",
       "    .dataframe thead th {\n",
       "        text-align: right;\n",
       "    }\n",
       "</style>\n",
       "<table border=\"1\" class=\"dataframe\">\n",
       "  <thead>\n",
       "    <tr style=\"text-align: right;\">\n",
       "      <th></th>\n",
       "      <th>SKU</th>\n",
       "      <th>DEPT</th>\n",
       "      <th>CLASSID</th>\n",
       "      <th>UPC</th>\n",
       "      <th>STYLE</th>\n",
       "      <th>COLOR</th>\n",
       "      <th>SIZE</th>\n",
       "      <th>PACKSIZE</th>\n",
       "      <th>VENDOR</th>\n",
       "      <th>BRAND</th>\n",
       "      <th>Unkown1</th>\n",
       "      <th>Unknown2</th>\n",
       "      <th>Unknown3</th>\n",
       "    </tr>\n",
       "  </thead>\n",
       "  <tbody>\n",
       "    <tr>\n",
       "      <th>0</th>\n",
       "      <td>3</td>\n",
       "      <td>6505</td>\n",
       "      <td>113</td>\n",
       "      <td>000400000003000</td>\n",
       "      <td>00    F55KT2</td>\n",
       "      <td>WHISPERWHITE</td>\n",
       "      <td>P8EA</td>\n",
       "      <td>1</td>\n",
       "      <td>5119207</td>\n",
       "      <td>TURNBURY</td>\n",
       "      <td>0</td>\n",
       "      <td>NaN</td>\n",
       "      <td>NaN</td>\n",
       "    </tr>\n",
       "    <tr>\n",
       "      <th>1</th>\n",
       "      <td>4</td>\n",
       "      <td>8101</td>\n",
       "      <td>002</td>\n",
       "      <td>000400000004000</td>\n",
       "      <td>22    615CZ4</td>\n",
       "      <td>SPEARMI</td>\n",
       "      <td>S</td>\n",
       "      <td>1</td>\n",
       "      <td>3311144</td>\n",
       "      <td>C A SPOR</td>\n",
       "      <td>0</td>\n",
       "      <td>NaN</td>\n",
       "      <td>NaN</td>\n",
       "    </tr>\n",
       "    <tr>\n",
       "      <th>2</th>\n",
       "      <td>5</td>\n",
       "      <td>7307</td>\n",
       "      <td>003</td>\n",
       "      <td>000400000005000</td>\n",
       "      <td>7LBS  245-01</td>\n",
       "      <td>34 SILVER</td>\n",
       "      <td>KING</td>\n",
       "      <td>1</td>\n",
       "      <td>5510554</td>\n",
       "      <td>BEAU IDE</td>\n",
       "      <td>0</td>\n",
       "      <td>NaN</td>\n",
       "      <td>NaN</td>\n",
       "    </tr>\n",
       "    <tr>\n",
       "      <th>3</th>\n",
       "      <td>8</td>\n",
       "      <td>3404</td>\n",
       "      <td>00B</td>\n",
       "      <td>000400000008000</td>\n",
       "      <td>622   F05H84</td>\n",
       "      <td>MORNING MI</td>\n",
       "      <td>2T</td>\n",
       "      <td>1</td>\n",
       "      <td>2912827</td>\n",
       "      <td>HARTSTRI</td>\n",
       "      <td>0</td>\n",
       "      <td>NaN</td>\n",
       "      <td>NaN</td>\n",
       "    </tr>\n",
       "    <tr>\n",
       "      <th>4</th>\n",
       "      <td>15</td>\n",
       "      <td>2301</td>\n",
       "      <td>004</td>\n",
       "      <td>000400000015000</td>\n",
       "      <td>126   MDU461</td>\n",
       "      <td>255CAMEL</td>\n",
       "      <td>12</td>\n",
       "      <td>1</td>\n",
       "      <td>0023272</td>\n",
       "      <td>JONES/LA</td>\n",
       "      <td>0</td>\n",
       "      <td>NaN</td>\n",
       "      <td>NaN</td>\n",
       "    </tr>\n",
       "  </tbody>\n",
       "</table>\n",
       "</div>"
      ],
      "text/plain": [
       "  SKU  DEPT CLASSID              UPC         STYLE         COLOR        SIZE  \\\n",
       "0   3  6505     113  000400000003000  00    F55KT2  WHISPERWHITE  P8EA         \n",
       "1   4  8101     002  000400000004000  22    615CZ4  SPEARMI       S            \n",
       "2   5  7307     003  000400000005000  7LBS  245-01  34 SILVER     KING         \n",
       "3   8  3404     00B  000400000008000  622   F05H84  MORNING MI    2T           \n",
       "4  15  2301     004  000400000015000  126   MDU461  255CAMEL      12           \n",
       "\n",
       "  PACKSIZE   VENDOR      BRAND Unkown1 Unknown2 Unknown3  \n",
       "0        1  5119207  TURNBURY        0      NaN      NaN  \n",
       "1        1  3311144  C A SPOR        0      NaN      NaN  \n",
       "2        1  5510554  BEAU IDE        0      NaN      NaN  \n",
       "3        1  2912827  HARTSTRI        0      NaN      NaN  \n",
       "4        1  0023272  JONES/LA        0      NaN      NaN  "
      ]
     },
     "execution_count": 24,
     "metadata": {},
     "output_type": "execute_result"
    }
   ],
   "source": [
    "skuinfo.head()"
   ]
  },
  {
   "cell_type": "code",
   "execution_count": 47,
   "id": "f28b7ef4",
   "metadata": {},
   "outputs": [
    {
     "data": {
      "text/plain": [
       "array([' ', '  ', ' I ', ' IN ', ' INC ', ' L ', ' LL ', '0', '0060904',\n",
       "       '0514761', '1', '1216222', 'ALL ACCE ', 'ARRO ', 'CALVIN K ',\n",
       "       'CAROLEE  ', 'CHANEL I ', 'LLC ', 'RE ', 'RUGGED D ', 'SARA LEE ',\n",
       "       'WEE ONES '], dtype=object)"
      ]
     },
     "execution_count": 47,
     "metadata": {},
     "output_type": "execute_result"
    }
   ],
   "source": [
    "## looks at what are the values in unknown1\n",
    "np.unique(skuinfo.Unkown1)"
   ]
  },
  {
   "cell_type": "markdown",
   "id": "709317a6-0d2c-475d-b9c1-d7841fe03e52",
   "metadata": {},
   "source": [
    "It looks like some Brands name tho, we decided to keep it in case it has some useful info."
   ]
  },
  {
   "cell_type": "code",
   "execution_count": 50,
   "id": "75b0e927-a0a3-4b74-9125-d7cdd27cf01a",
   "metadata": {},
   "outputs": [
    {
     "data": {
      "text/plain": [
       "array(['0', 'BROWN SH ', 'NINA FOO ', 'THE TREN '], dtype=object)"
      ]
     },
     "execution_count": 50,
     "metadata": {},
     "output_type": "execute_result"
    }
   ],
   "source": [
    "np.unique(skuinfo[skuinfo.Unknown2.notna()][\"Unknown2\"])"
   ]
  },
  {
   "cell_type": "markdown",
   "id": "9ab78d2d-7dd5-4820-9a92-469820d1af56",
   "metadata": {},
   "source": [
    "it looks like has some infomation, but only 3 unique values, let's see what are the percentage of na in this row later to see if we want to drop it or keep it."
   ]
  },
  {
   "cell_type": "code",
   "execution_count": 51,
   "id": "3b6d2a80-e620-4cf1-88ed-ef493d071415",
   "metadata": {},
   "outputs": [
    {
     "data": {
      "text/plain": [
       "array(['0'], dtype=object)"
      ]
     },
     "execution_count": 51,
     "metadata": {},
     "output_type": "execute_result"
    }
   ],
   "source": [
    "np.unique(skuinfo[skuinfo.Unknown3.notna()][\"Unknown3\"])"
   ]
  },
  {
   "cell_type": "markdown",
   "id": "27685a68-3303-4094-bfe9-ab0ffba4a92f",
   "metadata": {},
   "source": [
    "this tells us it has 0 information, we should drop it."
   ]
  },
  {
   "cell_type": "code",
   "execution_count": 53,
   "id": "13d9d1d9-c6e8-46e4-a3cf-289c3bde3365",
   "metadata": {},
   "outputs": [],
   "source": [
    "## drop unknown 3\n",
    "skuinfo = skuinfo.drop(\"Unknown3\", axis = 1)"
   ]
  },
  {
   "cell_type": "markdown",
   "id": "00abee79-098d-4383-b977-aa1fddf6136a",
   "metadata": {},
   "source": [
    "#### Null Value Sumary for each column (in percentage)"
   ]
  },
  {
   "cell_type": "code",
   "execution_count": 58,
   "id": "fe1c3bb0",
   "metadata": {},
   "outputs": [
    {
     "data": {
      "text/plain": [
       "SKU          0.00%\n",
       "DEPT         0.00%\n",
       "CLASSID      0.00%\n",
       "UPC          0.00%\n",
       "STYLE        0.00%\n",
       "COLOR        0.00%\n",
       "SIZE         0.00%\n",
       "PACKSIZE     0.00%\n",
       "VENDOR       0.00%\n",
       "BRAND        0.00%\n",
       "Unkown1      0.00%\n",
       "Unknown2    99.48%\n",
       "dtype: object"
      ]
     },
     "execution_count": 58,
     "metadata": {},
     "output_type": "execute_result"
    }
   ],
   "source": [
    "((skuinfo.isna().mean() * 100).round(2)).apply(lambda x: f'{x:.2f}%')"
   ]
  },
  {
   "cell_type": "code",
   "execution_count": 61,
   "id": "e9f18ac4-89ff-4b2d-83d4-66bd6f258a4b",
   "metadata": {},
   "outputs": [],
   "source": [
    "## Accordding to the graph, 99% of the unknown2 is None Value, so we decided to drop it\n",
    "## drop unknown 2\n",
    "skuinfo = skuinfo.drop(\"Unknown2\", axis = 1)"
   ]
  },
  {
   "cell_type": "code",
   "execution_count": null,
   "id": "aa8587e4-1bab-4468-8a1e-5eb08c58bd56",
   "metadata": {},
   "outputs": [],
   "source": []
  },
  {
   "cell_type": "markdown",
   "id": "3521f986-7e3c-4911-9bb8-016dd542782d",
   "metadata": {},
   "source": [
    "### 3.c. Data Clean for STORE INFO"
   ]
  },
  {
   "cell_type": "code",
   "execution_count": 66,
   "id": "64adb683-2e86-4a6b-992e-651b6683ee4a",
   "metadata": {},
   "outputs": [
    {
     "data": {
      "text/plain": [
       "array([0, 1])"
      ]
     },
     "execution_count": 66,
     "metadata": {},
     "output_type": "execute_result"
    }
   ],
   "source": [
    "np.unique(strinfo.unkown)"
   ]
  },
  {
   "cell_type": "code",
   "execution_count": 67,
   "id": "9b640c05-4c58-48c2-b9bc-4c84720799b6",
   "metadata": {},
   "outputs": [],
   "source": [
    "## same logic above, drop the unknown for strinfo\n",
    "strinfo = strinfo.drop(\"unkown\", axis = 1)"
   ]
  },
  {
   "cell_type": "code",
   "execution_count": 68,
   "id": "264393af",
   "metadata": {},
   "outputs": [
    {
     "data": {
      "text/html": [
       "<div>\n",
       "<style scoped>\n",
       "    .dataframe tbody tr th:only-of-type {\n",
       "        vertical-align: middle;\n",
       "    }\n",
       "\n",
       "    .dataframe tbody tr th {\n",
       "        vertical-align: top;\n",
       "    }\n",
       "\n",
       "    .dataframe thead th {\n",
       "        text-align: right;\n",
       "    }\n",
       "</style>\n",
       "<table border=\"1\" class=\"dataframe\">\n",
       "  <thead>\n",
       "    <tr style=\"text-align: right;\">\n",
       "      <th></th>\n",
       "      <th>City</th>\n",
       "      <th>State</th>\n",
       "      <th>Zip</th>\n",
       "    </tr>\n",
       "  </thead>\n",
       "  <tbody>\n",
       "    <tr>\n",
       "      <th>2</th>\n",
       "      <td>ST. PETERSBURG</td>\n",
       "      <td>FL</td>\n",
       "      <td>33710</td>\n",
       "    </tr>\n",
       "    <tr>\n",
       "      <th>3</th>\n",
       "      <td>ST. LOUIS</td>\n",
       "      <td>MO</td>\n",
       "      <td>63126</td>\n",
       "    </tr>\n",
       "    <tr>\n",
       "      <th>4</th>\n",
       "      <td>LITTLE ROCK</td>\n",
       "      <td>AR</td>\n",
       "      <td>72201</td>\n",
       "    </tr>\n",
       "    <tr>\n",
       "      <th>7</th>\n",
       "      <td>FORT WORTH</td>\n",
       "      <td>TX</td>\n",
       "      <td>76137</td>\n",
       "    </tr>\n",
       "    <tr>\n",
       "      <th>9</th>\n",
       "      <td>TEMPE</td>\n",
       "      <td>AZ</td>\n",
       "      <td>85281</td>\n",
       "    </tr>\n",
       "  </tbody>\n",
       "</table>\n",
       "</div>"
      ],
      "text/plain": [
       "                   City State    Zip\n",
       "2  ST. PETERSBURG          FL  33710\n",
       "3  ST. LOUIS               MO  63126\n",
       "4  LITTLE ROCK             AR  72201\n",
       "7  FORT WORTH              TX  76137\n",
       "9  TEMPE                   AZ  85281"
      ]
     },
     "execution_count": 68,
     "metadata": {},
     "output_type": "execute_result"
    }
   ],
   "source": [
    "strinfo.head()"
   ]
  },
  {
   "cell_type": "markdown",
   "id": "2a52aa2a-0cb3-4580-823f-6d15e77628df",
   "metadata": {},
   "source": [
    "#### There is no Duplicates"
   ]
  },
  {
   "cell_type": "code",
   "execution_count": 40,
   "id": "113a7070",
   "metadata": {},
   "outputs": [
    {
     "data": {
      "text/plain": [
       "City      0\n",
       "State     0\n",
       "Zip       0\n",
       "unkown    0\n",
       "dtype: int64"
      ]
     },
     "execution_count": 40,
     "metadata": {},
     "output_type": "execute_result"
    }
   ],
   "source": [
    "strinfo.isnull().sum()"
   ]
  },
  {
   "cell_type": "code",
   "execution_count": 69,
   "id": "458d2ad1",
   "metadata": {},
   "outputs": [
    {
     "data": {
      "text/plain": [
       "453"
      ]
     },
     "execution_count": 69,
     "metadata": {},
     "output_type": "execute_result"
    }
   ],
   "source": [
    "len(strinfo)"
   ]
  },
  {
   "cell_type": "markdown",
   "id": "cd9d66e8-70ba-4b1b-a60f-b3011ff2b76e",
   "metadata": {},
   "source": [
    "### 3.d. Data Clean for STORE INFO"
   ]
  },
  {
   "cell_type": "code",
   "execution_count": 71,
   "id": "4cb1f358-e5f3-4c1d-977a-c43794b405d3",
   "metadata": {},
   "outputs": [
    {
     "data": {
      "text/plain": [
       "array([0, 1])"
      ]
     },
     "execution_count": 71,
     "metadata": {},
     "output_type": "execute_result"
    }
   ],
   "source": [
    "np.unique(skstinfo.unknown)"
   ]
  },
  {
   "cell_type": "code",
   "execution_count": 75,
   "id": "62d6aa98-80ff-4688-9ab4-e68e2bb3270a",
   "metadata": {},
   "outputs": [],
   "source": [
    "## drop it for no info\n",
    "skstinfo = skstinfo.drop(\"unknown\", axis =1)"
   ]
  },
  {
   "cell_type": "code",
   "execution_count": 76,
   "id": "e4f9e7ab-0c9b-4fc6-90d9-5fce4184305d",
   "metadata": {},
   "outputs": [
    {
     "data": {
      "text/html": [
       "<div>\n",
       "<style scoped>\n",
       "    .dataframe tbody tr th:only-of-type {\n",
       "        vertical-align: middle;\n",
       "    }\n",
       "\n",
       "    .dataframe tbody tr th {\n",
       "        vertical-align: top;\n",
       "    }\n",
       "\n",
       "    .dataframe thead th {\n",
       "        text-align: right;\n",
       "    }\n",
       "</style>\n",
       "<table border=\"1\" class=\"dataframe\">\n",
       "  <thead>\n",
       "    <tr style=\"text-align: right;\">\n",
       "      <th></th>\n",
       "      <th>SKU</th>\n",
       "      <th>Store</th>\n",
       "      <th>Cost</th>\n",
       "      <th>Retail</th>\n",
       "    </tr>\n",
       "  </thead>\n",
       "  <tbody>\n",
       "    <tr>\n",
       "      <th>0</th>\n",
       "      <td>3</td>\n",
       "      <td>102</td>\n",
       "      <td>123.36</td>\n",
       "      <td>440.00</td>\n",
       "    </tr>\n",
       "    <tr>\n",
       "      <th>1</th>\n",
       "      <td>3</td>\n",
       "      <td>103</td>\n",
       "      <td>123.36</td>\n",
       "      <td>440.00</td>\n",
       "    </tr>\n",
       "    <tr>\n",
       "      <th>2</th>\n",
       "      <td>3</td>\n",
       "      <td>104</td>\n",
       "      <td>123.36</td>\n",
       "      <td>440.00</td>\n",
       "    </tr>\n",
       "    <tr>\n",
       "      <th>3</th>\n",
       "      <td>3</td>\n",
       "      <td>202</td>\n",
       "      <td>123.36</td>\n",
       "      <td>440.00</td>\n",
       "    </tr>\n",
       "    <tr>\n",
       "      <th>4</th>\n",
       "      <td>3</td>\n",
       "      <td>203</td>\n",
       "      <td>123.36</td>\n",
       "      <td>440.00</td>\n",
       "    </tr>\n",
       "    <tr>\n",
       "      <th>...</th>\n",
       "      <td>...</td>\n",
       "      <td>...</td>\n",
       "      <td>...</td>\n",
       "      <td>...</td>\n",
       "    </tr>\n",
       "    <tr>\n",
       "      <th>39230141</th>\n",
       "      <td>9999997</td>\n",
       "      <td>2007</td>\n",
       "      <td>15.00</td>\n",
       "      <td>19.50</td>\n",
       "    </tr>\n",
       "    <tr>\n",
       "      <th>39230142</th>\n",
       "      <td>9999997</td>\n",
       "      <td>2707</td>\n",
       "      <td>15.00</td>\n",
       "      <td>9.75</td>\n",
       "    </tr>\n",
       "    <tr>\n",
       "      <th>39230143</th>\n",
       "      <td>9999997</td>\n",
       "      <td>3307</td>\n",
       "      <td>15.00</td>\n",
       "      <td>19.50</td>\n",
       "    </tr>\n",
       "    <tr>\n",
       "      <th>39230144</th>\n",
       "      <td>9999997</td>\n",
       "      <td>7507</td>\n",
       "      <td>15.00</td>\n",
       "      <td>19.50</td>\n",
       "    </tr>\n",
       "    <tr>\n",
       "      <th>39230145</th>\n",
       "      <td>9999997</td>\n",
       "      <td>7907</td>\n",
       "      <td>15.00</td>\n",
       "      <td>19.50</td>\n",
       "    </tr>\n",
       "  </tbody>\n",
       "</table>\n",
       "<p>39230146 rows × 4 columns</p>\n",
       "</div>"
      ],
      "text/plain": [
       "              SKU  Store    Cost  Retail\n",
       "0               3    102  123.36  440.00\n",
       "1               3    103  123.36  440.00\n",
       "2               3    104  123.36  440.00\n",
       "3               3    202  123.36  440.00\n",
       "4               3    203  123.36  440.00\n",
       "...           ...    ...     ...     ...\n",
       "39230141  9999997   2007   15.00   19.50\n",
       "39230142  9999997   2707   15.00    9.75\n",
       "39230143  9999997   3307   15.00   19.50\n",
       "39230144  9999997   7507   15.00   19.50\n",
       "39230145  9999997   7907   15.00   19.50\n",
       "\n",
       "[39230146 rows x 4 columns]"
      ]
     },
     "execution_count": 76,
     "metadata": {},
     "output_type": "execute_result"
    }
   ],
   "source": [
    "skstinfo"
   ]
  },
  {
   "cell_type": "markdown",
   "id": "5cd54993-a64d-48f7-930a-f00d6fd56de0",
   "metadata": {},
   "source": [
    "#### It looks like there is no NA values"
   ]
  },
  {
   "cell_type": "code",
   "execution_count": 77,
   "id": "02148f0c-f083-4056-8c47-64c5c307c2fc",
   "metadata": {},
   "outputs": [
    {
     "data": {
      "text/plain": [
       "SKU       0\n",
       "Store     0\n",
       "Cost      0\n",
       "Retail    0\n",
       "dtype: int64"
      ]
     },
     "execution_count": 77,
     "metadata": {},
     "output_type": "execute_result"
    }
   ],
   "source": [
    "skstinfo.isnull().sum()"
   ]
  },
  {
   "cell_type": "markdown",
   "id": "172f192f-d010-4d0e-9b18-030ce0718653",
   "metadata": {},
   "source": [
    "#### Some SKU Retail Price is lower than the COST!!"
   ]
  },
  {
   "cell_type": "code",
   "execution_count": 92,
   "id": "7109006e-cbab-486d-b239-f50117c0b3b6",
   "metadata": {},
   "outputs": [],
   "source": [
    "higher_cost = skstinfo[skstinfo.Retail < skstinfo.Cost]\n",
    "higher_cost_sku_percent = f'{(len(set(higher_cost.SKU)) / len(set(skstinfo.SKU)))* 100:.2f}%'"
   ]
  },
  {
   "cell_type": "code",
   "execution_count": 93,
   "id": "63ea90cc-b9f0-4ecc-89cb-d4d6a1c14443",
   "metadata": {},
   "outputs": [
    {
     "name": "stdout",
     "output_type": "stream",
     "text": [
      "There are aboout 49.46% SKU whose Cost is higher than Retail Price\n"
     ]
    }
   ],
   "source": [
    "print(f\"There are aboout {higher_cost_sku_percent} SKU whose Cost is higher than Retail Price\")"
   ]
  }
 ],
 "metadata": {
  "kernelspec": {
   "display_name": "Python 3 (ipykernel)",
   "language": "python",
   "name": "python3"
  },
  "language_info": {
   "codemirror_mode": {
    "name": "ipython",
    "version": 3
   },
   "file_extension": ".py",
   "mimetype": "text/x-python",
   "name": "python",
   "nbconvert_exporter": "python",
   "pygments_lexer": "ipython3",
   "version": "3.12.0"
  }
 },
 "nbformat": 4,
 "nbformat_minor": 5
}
