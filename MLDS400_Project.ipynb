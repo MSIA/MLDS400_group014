{
 "cells": [
  {
   "cell_type": "code",
   "execution_count": 43,
   "id": "e62f77d1",
   "metadata": {},
   "outputs": [],
   "source": [
    "import pandas as pd\n",
    "import numpy as np \n",
    "import matplotlib.pyplot as plt"
   ]
  },
  {
   "cell_type": "code",
   "execution_count": 74,
   "id": "f03de3f4",
   "metadata": {},
   "outputs": [],
   "source": [
    "deptinfo = pd.read_csv(\"deptinfo.csv\", header = None, names = ['Dept', 'DeptDESC', 'unknown'] )\n",
    "skuinfo = pd.read_csv(\"skuinfo.csv\", header = None, dtype = 'str', \n",
    "                     names = ['SKU', 'DEPT', 'CLASSID', 'UPC', 'STYLE',\n",
    "                             'COLOR', 'SIZE', 'PACKSIZE', 'VENDOR', 'BRAND', \n",
    "                             'Unkown1', 'Unknown2', 'Unknown3'])\n",
    "strinfo = pd.read_csv(\"strinfo.csv\", header = None, names = ['City', 'State', 'Zip', 'unkown'])"
   ]
  },
  {
   "cell_type": "code",
   "execution_count": 75,
   "id": "3aa8445f",
   "metadata": {},
   "outputs": [
    {
     "data": {
      "text/html": [
       "<div>\n",
       "<style scoped>\n",
       "    .dataframe tbody tr th:only-of-type {\n",
       "        vertical-align: middle;\n",
       "    }\n",
       "\n",
       "    .dataframe tbody tr th {\n",
       "        vertical-align: top;\n",
       "    }\n",
       "\n",
       "    .dataframe thead th {\n",
       "        text-align: right;\n",
       "    }\n",
       "</style>\n",
       "<table border=\"1\" class=\"dataframe\">\n",
       "  <thead>\n",
       "    <tr style=\"text-align: right;\">\n",
       "      <th></th>\n",
       "      <th>Dept</th>\n",
       "      <th>DeptDESC</th>\n",
       "      <th>unknown</th>\n",
       "    </tr>\n",
       "  </thead>\n",
       "  <tbody>\n",
       "    <tr>\n",
       "      <th>0</th>\n",
       "      <td>800</td>\n",
       "      <td>CLINIQUE</td>\n",
       "      <td>0</td>\n",
       "    </tr>\n",
       "    <tr>\n",
       "      <th>1</th>\n",
       "      <td>801</td>\n",
       "      <td>LESLIE</td>\n",
       "      <td>0</td>\n",
       "    </tr>\n",
       "    <tr>\n",
       "      <th>2</th>\n",
       "      <td>1100</td>\n",
       "      <td>GARY F</td>\n",
       "      <td>0</td>\n",
       "    </tr>\n",
       "    <tr>\n",
       "      <th>3</th>\n",
       "      <td>1107</td>\n",
       "      <td>JACQUES</td>\n",
       "      <td>0</td>\n",
       "    </tr>\n",
       "    <tr>\n",
       "      <th>4</th>\n",
       "      <td>1202</td>\n",
       "      <td>CABERN</td>\n",
       "      <td>0</td>\n",
       "    </tr>\n",
       "  </tbody>\n",
       "</table>\n",
       "</div>"
      ],
      "text/plain": [
       "   Dept  DeptDESC  unknown\n",
       "0   800  CLINIQUE        0\n",
       "1   801  LESLIE          0\n",
       "2  1100  GARY F          0\n",
       "3  1107  JACQUES         0\n",
       "4  1202  CABERN          0"
      ]
     },
     "execution_count": 75,
     "metadata": {},
     "output_type": "execute_result"
    }
   ],
   "source": [
    "deptinfo.head()"
   ]
  },
  {
   "cell_type": "code",
   "execution_count": 76,
   "id": "be74b98a",
   "metadata": {},
   "outputs": [
    {
     "data": {
      "text/plain": [
       "Dept        0\n",
       "DeptDESC    0\n",
       "unknown     0\n",
       "dtype: int64"
      ]
     },
     "execution_count": 76,
     "metadata": {},
     "output_type": "execute_result"
    }
   ],
   "source": [
    "deptinfo.isnull().sum()"
   ]
  },
  {
   "cell_type": "code",
   "execution_count": 77,
   "id": "a93630e1",
   "metadata": {},
   "outputs": [
    {
     "data": {
      "text/plain": [
       "60"
      ]
     },
     "execution_count": 77,
     "metadata": {},
     "output_type": "execute_result"
    }
   ],
   "source": [
    "len(deptinfo)"
   ]
  },
  {
   "cell_type": "code",
   "execution_count": 36,
   "id": "f28b7ef4",
   "metadata": {},
   "outputs": [
    {
     "data": {
      "text/plain": [
       "Index(['SKU', 'DEPT', 'CLASSID', 'UPC', 'STYLE', 'COLOR', 'SIZE', 'PACKSIZE',\n",
       "       'VENDOR', 'BRAND', 'Unkown1', 'Unknown2', 'Unknown3'],\n",
       "      dtype='object')"
      ]
     },
     "execution_count": 36,
     "metadata": {},
     "output_type": "execute_result"
    }
   ],
   "source": [
    "skuinfo.columns"
   ]
  },
  {
   "cell_type": "code",
   "execution_count": 69,
   "id": "fe1c3bb0",
   "metadata": {},
   "outputs": [
    {
     "data": {
      "text/plain": [
       "SKU               0\n",
       "DEPT              0\n",
       "CLASSID           0\n",
       "UPC               0\n",
       "STYLE             0\n",
       "COLOR             1\n",
       "SIZE              0\n",
       "PACKSIZE          0\n",
       "VENDOR            0\n",
       "BRAND             0\n",
       "Unknown1          0\n",
       "Unknown2    1556030\n",
       "Unknown3    1564158\n",
       "dtype: int64"
      ]
     },
     "execution_count": 69,
     "metadata": {},
     "output_type": "execute_result"
    }
   ],
   "source": [
    "skuinfo.isnull().sum()"
   ]
  },
  {
   "cell_type": "code",
   "execution_count": 70,
   "id": "008f8efc",
   "metadata": {},
   "outputs": [
    {
     "data": {
      "text/plain": [
       "1564178"
      ]
     },
     "execution_count": 70,
     "metadata": {},
     "output_type": "execute_result"
    }
   ],
   "source": [
    "len(skuinfo)"
   ]
  },
  {
   "cell_type": "code",
   "execution_count": 37,
   "id": "264393af",
   "metadata": {},
   "outputs": [
    {
     "data": {
      "text/html": [
       "<div>\n",
       "<style scoped>\n",
       "    .dataframe tbody tr th:only-of-type {\n",
       "        vertical-align: middle;\n",
       "    }\n",
       "\n",
       "    .dataframe tbody tr th {\n",
       "        vertical-align: top;\n",
       "    }\n",
       "\n",
       "    .dataframe thead th {\n",
       "        text-align: right;\n",
       "    }\n",
       "</style>\n",
       "<table border=\"1\" class=\"dataframe\">\n",
       "  <thead>\n",
       "    <tr style=\"text-align: right;\">\n",
       "      <th></th>\n",
       "      <th>City</th>\n",
       "      <th>State</th>\n",
       "      <th>Zip</th>\n",
       "      <th>unkown</th>\n",
       "    </tr>\n",
       "  </thead>\n",
       "  <tbody>\n",
       "    <tr>\n",
       "      <th>2</th>\n",
       "      <td>ST. PETERSBURG</td>\n",
       "      <td>FL</td>\n",
       "      <td>33710</td>\n",
       "      <td>0</td>\n",
       "    </tr>\n",
       "    <tr>\n",
       "      <th>3</th>\n",
       "      <td>ST. LOUIS</td>\n",
       "      <td>MO</td>\n",
       "      <td>63126</td>\n",
       "      <td>0</td>\n",
       "    </tr>\n",
       "    <tr>\n",
       "      <th>4</th>\n",
       "      <td>LITTLE ROCK</td>\n",
       "      <td>AR</td>\n",
       "      <td>72201</td>\n",
       "      <td>0</td>\n",
       "    </tr>\n",
       "    <tr>\n",
       "      <th>7</th>\n",
       "      <td>FORT WORTH</td>\n",
       "      <td>TX</td>\n",
       "      <td>76137</td>\n",
       "      <td>0</td>\n",
       "    </tr>\n",
       "    <tr>\n",
       "      <th>9</th>\n",
       "      <td>TEMPE</td>\n",
       "      <td>AZ</td>\n",
       "      <td>85281</td>\n",
       "      <td>0</td>\n",
       "    </tr>\n",
       "  </tbody>\n",
       "</table>\n",
       "</div>"
      ],
      "text/plain": [
       "                   City State    Zip  unkown\n",
       "2  ST. PETERSBURG          FL  33710       0\n",
       "3  ST. LOUIS               MO  63126       0\n",
       "4  LITTLE ROCK             AR  72201       0\n",
       "7  FORT WORTH              TX  76137       0\n",
       "9  TEMPE                   AZ  85281       0"
      ]
     },
     "execution_count": 37,
     "metadata": {},
     "output_type": "execute_result"
    }
   ],
   "source": [
    "strinfo.head()"
   ]
  },
  {
   "cell_type": "code",
   "execution_count": 40,
   "id": "113a7070",
   "metadata": {},
   "outputs": [
    {
     "data": {
      "text/plain": [
       "City      0\n",
       "State     0\n",
       "Zip       0\n",
       "unkown    0\n",
       "dtype: int64"
      ]
     },
     "execution_count": 40,
     "metadata": {},
     "output_type": "execute_result"
    }
   ],
   "source": [
    "strinfo.isnull().sum()"
   ]
  },
  {
   "cell_type": "code",
   "execution_count": 71,
   "id": "458d2ad1",
   "metadata": {},
   "outputs": [
    {
     "data": {
      "text/plain": [
       "453"
      ]
     },
     "execution_count": 71,
     "metadata": {},
     "output_type": "execute_result"
    }
   ],
   "source": [
    "len(strinfo)"
   ]
  }
 ],
 "metadata": {
  "kernelspec": {
   "display_name": "Python 3 (ipykernel)",
   "language": "python",
   "name": "python3"
  },
  "language_info": {
   "codemirror_mode": {
    "name": "ipython",
    "version": 3
   },
   "file_extension": ".py",
   "mimetype": "text/x-python",
   "name": "python",
   "nbconvert_exporter": "python",
   "pygments_lexer": "ipython3",
   "version": "3.8.5"
  }
 },
 "nbformat": 4,
 "nbformat_minor": 5
}
