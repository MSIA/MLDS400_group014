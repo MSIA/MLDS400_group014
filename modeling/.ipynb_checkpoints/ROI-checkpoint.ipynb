{
 "cells": [
  {
   "cell_type": "code",
   "execution_count": 12,
   "id": "de7ec1c3-9fad-485f-8138-f095eadeb5ef",
   "metadata": {},
   "outputs": [
    {
     "name": "stdout",
     "output_type": "stream",
     "text": [
      "30229224.00000006\n",
      "The ROI for the project related to the return rate for a store is: 405810.67%\n"
     ]
    }
   ],
   "source": [
    "import pandas as pd\n",
    "\n",
    "# Load your data\n",
    "# df = \n",
    "\n",
    "\n",
    "df = pd.read_csv(\"return_df_with_store.csv\")\n",
    "\n",
    "# Assumptions\n",
    "average_return_value = 50.00  # The average value (cost) of a returned item\n",
    "improvement_in_return_rate = 0.005  # The assumed improvement in return rate due to the model\n",
    "\n",
    "# Total transactions and average transaction amount\n",
    "total_transactions = df['NumTrans'].sum()  # Total number of transactions\n",
    "average_transaction_amount = df['AmtTrans'].sum() / total_transactions  # Average transaction amount\n",
    "\n",
    "# Calculate the initial and new loss due to returns\n",
    "initial_loss_due_to_returns = total_transactions * df['ReturnRate'].mean() * average_return_value\n",
    "new_loss_due_to_returns = total_transactions * (df['ReturnRate'].mean() - improvement_in_return_rate) * average_return_value\n",
    "\n",
    "# Calculate the savings due to the model\n",
    "savings_from_model = initial_loss_due_to_returns - new_loss_due_to_returns\n",
    "print(savings_from_model)\n",
    "# Costs associated with developing and implementing the model\n",
    "fte_count = 1\n",
    "\n",
    "project_duration_days = 30\n",
    "project_duration_years = project_duration_days / 365\n",
    "total_salary_cost = fte_count * annual_salary * project_duration_years\n",
    "computing_hours = 500\n",
    "cloud_cost_per_hour = 0.10\n",
    "total_computing_cost = computing_hours * cloud_cost_per_hour\n",
    "\n",
    "# Total costs\n",
    "total_costs = total_salary_cost + total_computing_cost\n",
    "\n",
    "# Calculate ROI\n",
    "roi = ((savings_from_model - total_costs) / total_costs) * 100\n",
    "\n",
    "# Output the ROI\n",
    "print(f\"The ROI for the project related to the return rate for a store is: {roi:.2f}%\")\n"
   ]
  },
  {
   "cell_type": "code",
   "execution_count": 31,
   "id": "e0b74805-758f-488d-8fc1-25c574bc2072",
   "metadata": {},
   "outputs": [
    {
     "name": "stdout",
     "output_type": "stream",
     "text": [
      "14884922.451000094\n",
      "600100.0\n",
      "The conservative ROI for the project is: 2380.41%\n"
     ]
    }
   ],
   "source": [
    "# Conservative assumptions\n",
    "improvement_in_return_rate = 0.005 \n",
    "average_return_value = 25.00  \n",
    "\n",
    "# Calculate the initial and new loss due to returns\n",
    "initial_loss_due_to_returns = df['AmtTrans'] * df['ReturnRate']\n",
    "new_loss_due_to_returns = df['AmtTrans'] * (df['ReturnRate'] - improvement_in_return_rate)\n",
    "\n",
    "# Calculate the savings due to the improvement in return rate\n",
    "savings_from_model = initial_loss_due_to_returns.sum() - new_loss_due_to_returns.sum()\n",
    "print(savings_from_model)\n",
    "# Costs associated with developing and implementing the model\n",
    "fte_count = 5  # Number of full-time employees\n",
    "annual_salary = 120000  # Annual salary per employee\n",
    "project_duration_days = 365  # Duration of the project in days\n",
    "project_duration_years = project_duration_days / 365  # Convert days to years\n",
    "total_salary_cost = fte_count * annual_salary * project_duration_years\n",
    "\n",
    "computing_hours = 1000  \n",
    "cloud_cost_per_hour = 0.10  # Cost of cloud resources per hour\n",
    "total_computing_cost = computing_hours * cloud_cost_per_hour\n",
    "\n",
    "# Total costs\n",
    "total_costs = total_salary_cost + total_computing_cost\n",
    "print(total_costs)\n",
    "# Calculate ROI\n",
    "roi = (savings_from_model - total_costs) / total_costs * 100\n",
    "\n",
    "# Output the conservative ROI\n",
    "print(f\"The ROI for the project is: {roi:.2f}%\")"
   ]
  }
 ],
 "metadata": {
  "kernelspec": {
   "display_name": "Python 3 (ipykernel)",
   "language": "python",
   "name": "python3"
  },
  "language_info": {
   "codemirror_mode": {
    "name": "ipython",
    "version": 3
   },
   "file_extension": ".py",
   "mimetype": "text/x-python",
   "name": "python",
   "nbconvert_exporter": "python",
   "pygments_lexer": "ipython3",
   "version": "3.12.0"
  }
 },
 "nbformat": 4,
 "nbformat_minor": 5
}
