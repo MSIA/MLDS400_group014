{
 "cells": [
  {
   "cell_type": "code",
   "execution_count": 30,
   "id": "52b80347-037f-4995-ae5e-2809e8dd780f",
   "metadata": {},
   "outputs": [],
   "source": [
    "import pandas as pd\n",
    "import numpy as np"
   ]
  },
  {
   "cell_type": "code",
   "execution_count": 2,
   "id": "5497344b-f2d0-4416-84f2-f7e24bf2712f",
   "metadata": {},
   "outputs": [],
   "source": [
    "return_df =pd.read_csv(\"return_rate.csv\") "
   ]
  },
  {
   "cell_type": "code",
   "execution_count": 21,
   "id": "5e6e95da-4b7c-4a2e-9dca-7f25dc9c6fca",
   "metadata": {},
   "outputs": [],
   "source": [
    "return_df.ReturnRate = return_df.ReturnRate*100"
   ]
  },
  {
   "cell_type": "code",
   "execution_count": 22,
   "id": "449a8fc7-ed49-4ab0-aa10-7ec660a21a97",
   "metadata": {},
   "outputs": [],
   "source": [
    "from sklearn.ensemble import RandomForestClassifier  # For classification\n",
    "from sklearn.ensemble import RandomForestRegressor  # For regression\n",
    "from sklearn.model_selection import train_test_split\n",
    "from sklearn.metrics import accuracy_score, mean_squared_error\n",
    "import pandas as pd"
   ]
  },
  {
   "cell_type": "code",
   "execution_count": null,
   "id": "7e7c6ce3-204f-4f7c-b8da-6e00554c6af7",
   "metadata": {},
   "outputs": [],
   "source": []
  },
  {
   "cell_type": "code",
   "execution_count": 23,
   "id": "abf994a8-6893-4bbc-bfa9-e51064a63351",
   "metadata": {},
   "outputs": [],
   "source": [
    "X = return_df.drop(['ReturnRate','SALEDATE'], axis=1)\n",
    "y = return_df['ReturnRate']\n",
    "X_train, X_test, y_train, y_test = train_test_split(X, y, test_size=0.3, random_state=42)"
   ]
  },
  {
   "cell_type": "code",
   "execution_count": 24,
   "id": "b949bd11-1968-4c77-a518-1fcd823106d7",
   "metadata": {},
   "outputs": [],
   "source": [
    "# Create a Random Forest Regressor model\n",
    "rf = RandomForestRegressor(n_estimators=100, random_state=42)\n",
    "\n",
    "# Fit the model on the training data\n",
    "rf.fit(X_train, y_train)\n",
    "\n",
    "# Predict on the test data\n",
    "y_pred = rf.predict(X_test)\n",
    "\n",
    "# Calculate the Mean Squared Error\n",
    "mse = mean_squared_error(y_test, y_pred)"
   ]
  },
  {
   "cell_type": "code",
   "execution_count": 28,
   "id": "e56305d1-094d-4900-b5c6-fc8c2e5009f2",
   "metadata": {},
   "outputs": [
    {
     "data": {
      "text/plain": [
       "6.34359932906092"
      ]
     },
     "execution_count": 28,
     "metadata": {},
     "output_type": "execute_result"
    }
   ],
   "source": [
    "mse"
   ]
  },
  {
   "cell_type": "code",
   "execution_count": 25,
   "id": "663c1d07-aaa9-4638-b85b-e2bf4fb6a112",
   "metadata": {},
   "outputs": [
    {
     "data": {
      "text/plain": [
       "0.38808206102326137"
      ]
     },
     "execution_count": 25,
     "metadata": {},
     "output_type": "execute_result"
    }
   ],
   "source": [
    "rf.score(X_test, y_test)"
   ]
  },
  {
   "cell_type": "code",
   "execution_count": 26,
   "id": "1c4c390a-acb1-4c8b-9190-2a4de2c04faf",
   "metadata": {},
   "outputs": [],
   "source": [
    "from sklearn.neural_network import MLPRegressor\n",
    "\n",
    "# Create a Multi-Layer Perceptron Regressor model\n",
    "# This is a simple neural network with 1 hidden layer of 128 neurons\n",
    "mlp = MLPRegressor(hidden_layer_sizes=(128,64,1), solver='adam', max_iter=500, random_state=42)\n",
    "\n",
    "# Fit the model on the training data\n",
    "mlp.fit(X_train, y_train)\n",
    "\n",
    "# Predict on the test data\n",
    "y_pred_mlp = mlp.predict(X_test)\n",
    "\n",
    "# Calculate the Mean Squared Error for the neural network predictions\n",
    "mse_mlp = mean_squared_error(y_test, y_pred_mlp)\n",
    "\n"
   ]
  },
  {
   "cell_type": "code",
   "execution_count": 27,
   "id": "2177a9ba-047f-4d85-8cbf-e3347d16aa34",
   "metadata": {},
   "outputs": [
    {
     "data": {
      "text/plain": [
       "10.366959122081202"
      ]
     },
     "execution_count": 27,
     "metadata": {},
     "output_type": "execute_result"
    }
   ],
   "source": [
    "mse_mlp"
   ]
  },
  {
   "cell_type": "code",
   "execution_count": 31,
   "id": "2616594b-85f2-44e4-9e86-98f3aa38ec28",
   "metadata": {},
   "outputs": [
    {
     "data": {
      "text/plain": [
       "8.338095585267371"
      ]
     },
     "execution_count": 31,
     "metadata": {},
     "output_type": "execute_result"
    }
   ],
   "source": [
    "np.mean(y_test)"
   ]
  },
  {
   "cell_type": "code",
   "execution_count": 32,
   "id": "9a0a90b8-e65d-401e-9df4-563e7e361f20",
   "metadata": {},
   "outputs": [],
   "source": [
    "transaction = pd.read_csv(\"../trnsact_new.csv\")"
   ]
  },
  {
   "cell_type": "code",
   "execution_count": 54,
   "id": "cd40cb58-8f54-4f39-996e-0704adaa895a",
   "metadata": {},
   "outputs": [],
   "source": [
    "seq_num = transaction[(transaction['SEQ'] == 0)]"
   ]
  },
  {
   "cell_type": "code",
   "execution_count": 55,
   "id": "b309b3d8-e521-4711-b4aa-653aa9407506",
   "metadata": {},
   "outputs": [
    {
     "data": {
      "text/html": [
       "<div>\n",
       "<style scoped>\n",
       "    .dataframe tbody tr th:only-of-type {\n",
       "        vertical-align: middle;\n",
       "    }\n",
       "\n",
       "    .dataframe tbody tr th {\n",
       "        vertical-align: top;\n",
       "    }\n",
       "\n",
       "    .dataframe thead th {\n",
       "        text-align: right;\n",
       "    }\n",
       "</style>\n",
       "<table border=\"1\" class=\"dataframe\">\n",
       "  <thead>\n",
       "    <tr style=\"text-align: right;\">\n",
       "      <th></th>\n",
       "      <th>SKU</th>\n",
       "      <th>STORE</th>\n",
       "      <th>REGISTER</th>\n",
       "      <th>TRANNUM</th>\n",
       "      <th>SEQ</th>\n",
       "      <th>SALEDATE</th>\n",
       "      <th>STYPE</th>\n",
       "      <th>QUANTITY</th>\n",
       "      <th>ORGPRICE</th>\n",
       "      <th>SPRICE</th>\n",
       "      <th>AMT</th>\n",
       "      <th>INTERID</th>\n",
       "      <th>MIC</th>\n",
       "      <th>UNKNOWN</th>\n",
       "    </tr>\n",
       "  </thead>\n",
       "  <tbody>\n",
       "    <tr>\n",
       "      <th>3</th>\n",
       "      <td>3</td>\n",
       "      <td>709</td>\n",
       "      <td>360</td>\n",
       "      <td>500</td>\n",
       "      <td>0</td>\n",
       "      <td>2005-08-14</td>\n",
       "      <td>P</td>\n",
       "      <td>1</td>\n",
       "      <td>0.0</td>\n",
       "      <td>30.0</td>\n",
       "      <td>30.0</td>\n",
       "      <td>6500000</td>\n",
       "      <td>818</td>\n",
       "      <td>0</td>\n",
       "    </tr>\n",
       "    <tr>\n",
       "      <th>4</th>\n",
       "      <td>3</td>\n",
       "      <td>802</td>\n",
       "      <td>660</td>\n",
       "      <td>400</td>\n",
       "      <td>0</td>\n",
       "      <td>2005-08-09</td>\n",
       "      <td>P</td>\n",
       "      <td>1</td>\n",
       "      <td>440.0</td>\n",
       "      <td>30.0</td>\n",
       "      <td>30.0</td>\n",
       "      <td>4700000</td>\n",
       "      <td>599</td>\n",
       "      <td>0</td>\n",
       "    </tr>\n",
       "    <tr>\n",
       "      <th>5</th>\n",
       "      <td>3</td>\n",
       "      <td>1202</td>\n",
       "      <td>400</td>\n",
       "      <td>2100</td>\n",
       "      <td>0</td>\n",
       "      <td>2004-11-11</td>\n",
       "      <td>P</td>\n",
       "      <td>1</td>\n",
       "      <td>0.0</td>\n",
       "      <td>30.0</td>\n",
       "      <td>30.0</td>\n",
       "      <td>8600000</td>\n",
       "      <td>999</td>\n",
       "      <td>0</td>\n",
       "    </tr>\n",
       "    <tr>\n",
       "      <th>6</th>\n",
       "      <td>3</td>\n",
       "      <td>1204</td>\n",
       "      <td>220</td>\n",
       "      <td>3400</td>\n",
       "      <td>0</td>\n",
       "      <td>2004-12-22</td>\n",
       "      <td>P</td>\n",
       "      <td>1</td>\n",
       "      <td>0.0</td>\n",
       "      <td>30.0</td>\n",
       "      <td>30.0</td>\n",
       "      <td>17600000</td>\n",
       "      <td>555</td>\n",
       "      <td>0</td>\n",
       "    </tr>\n",
       "    <tr>\n",
       "      <th>7</th>\n",
       "      <td>3</td>\n",
       "      <td>1304</td>\n",
       "      <td>160</td>\n",
       "      <td>3500</td>\n",
       "      <td>0</td>\n",
       "      <td>2004-08-07</td>\n",
       "      <td>P</td>\n",
       "      <td>1</td>\n",
       "      <td>0.0</td>\n",
       "      <td>30.0</td>\n",
       "      <td>30.0</td>\n",
       "      <td>11400000</td>\n",
       "      <td>990</td>\n",
       "      <td>0</td>\n",
       "    </tr>\n",
       "    <tr>\n",
       "      <th>...</th>\n",
       "      <td>...</td>\n",
       "      <td>...</td>\n",
       "      <td>...</td>\n",
       "      <td>...</td>\n",
       "      <td>...</td>\n",
       "      <td>...</td>\n",
       "      <td>...</td>\n",
       "      <td>...</td>\n",
       "      <td>...</td>\n",
       "      <td>...</td>\n",
       "      <td>...</td>\n",
       "      <td>...</td>\n",
       "      <td>...</td>\n",
       "      <td>...</td>\n",
       "    </tr>\n",
       "    <tr>\n",
       "      <th>120916889</th>\n",
       "      <td>9999997</td>\n",
       "      <td>2707</td>\n",
       "      <td>130</td>\n",
       "      <td>12900</td>\n",
       "      <td>0</td>\n",
       "      <td>2005-08-05</td>\n",
       "      <td>P</td>\n",
       "      <td>1</td>\n",
       "      <td>39.0</td>\n",
       "      <td>19.5</td>\n",
       "      <td>19.5</td>\n",
       "      <td>72800124</td>\n",
       "      <td>395</td>\n",
       "      <td>0</td>\n",
       "    </tr>\n",
       "    <tr>\n",
       "      <th>120916891</th>\n",
       "      <td>9999997</td>\n",
       "      <td>7507</td>\n",
       "      <td>750</td>\n",
       "      <td>2800</td>\n",
       "      <td>0</td>\n",
       "      <td>2005-04-23</td>\n",
       "      <td>P</td>\n",
       "      <td>1</td>\n",
       "      <td>39.0</td>\n",
       "      <td>39.0</td>\n",
       "      <td>39.0</td>\n",
       "      <td>593900116</td>\n",
       "      <td>395</td>\n",
       "      <td>0</td>\n",
       "    </tr>\n",
       "    <tr>\n",
       "      <th>120916892</th>\n",
       "      <td>9999997</td>\n",
       "      <td>7907</td>\n",
       "      <td>790</td>\n",
       "      <td>3200</td>\n",
       "      <td>0</td>\n",
       "      <td>2005-05-03</td>\n",
       "      <td>P</td>\n",
       "      <td>1</td>\n",
       "      <td>39.0</td>\n",
       "      <td>39.0</td>\n",
       "      <td>39.0</td>\n",
       "      <td>502600061</td>\n",
       "      <td>395</td>\n",
       "      <td>0</td>\n",
       "    </tr>\n",
       "    <tr>\n",
       "      <th>120916893</th>\n",
       "      <td>9999997</td>\n",
       "      <td>7907</td>\n",
       "      <td>800</td>\n",
       "      <td>700</td>\n",
       "      <td>0</td>\n",
       "      <td>2005-05-04</td>\n",
       "      <td>R</td>\n",
       "      <td>1</td>\n",
       "      <td>39.0</td>\n",
       "      <td>39.0</td>\n",
       "      <td>39.0</td>\n",
       "      <td>600900066</td>\n",
       "      <td>395</td>\n",
       "      <td>0</td>\n",
       "    </tr>\n",
       "    <tr>\n",
       "      <th>120916894</th>\n",
       "      <td>9999997</td>\n",
       "      <td>7907</td>\n",
       "      <td>800</td>\n",
       "      <td>700</td>\n",
       "      <td>0</td>\n",
       "      <td>2005-05-04</td>\n",
       "      <td>P</td>\n",
       "      <td>1</td>\n",
       "      <td>39.0</td>\n",
       "      <td>39.0</td>\n",
       "      <td>39.0</td>\n",
       "      <td>601000066</td>\n",
       "      <td>395</td>\n",
       "      <td>0</td>\n",
       "    </tr>\n",
       "  </tbody>\n",
       "</table>\n",
       "<p>74809131 rows × 14 columns</p>\n",
       "</div>"
      ],
      "text/plain": [
       "               SKU  STORE  REGISTER  TRANNUM  SEQ    SALEDATE STYPE  QUANTITY  \\\n",
       "3                3    709       360      500    0  2005-08-14     P         1   \n",
       "4                3    802       660      400    0  2005-08-09     P         1   \n",
       "5                3   1202       400     2100    0  2004-11-11     P         1   \n",
       "6                3   1204       220     3400    0  2004-12-22     P         1   \n",
       "7                3   1304       160     3500    0  2004-08-07     P         1   \n",
       "...            ...    ...       ...      ...  ...         ...   ...       ...   \n",
       "120916889  9999997   2707       130    12900    0  2005-08-05     P         1   \n",
       "120916891  9999997   7507       750     2800    0  2005-04-23     P         1   \n",
       "120916892  9999997   7907       790     3200    0  2005-05-03     P         1   \n",
       "120916893  9999997   7907       800      700    0  2005-05-04     R         1   \n",
       "120916894  9999997   7907       800      700    0  2005-05-04     P         1   \n",
       "\n",
       "           ORGPRICE  SPRICE   AMT    INTERID  MIC  UNKNOWN  \n",
       "3               0.0    30.0  30.0    6500000  818        0  \n",
       "4             440.0    30.0  30.0    4700000  599        0  \n",
       "5               0.0    30.0  30.0    8600000  999        0  \n",
       "6               0.0    30.0  30.0   17600000  555        0  \n",
       "7               0.0    30.0  30.0   11400000  990        0  \n",
       "...             ...     ...   ...        ...  ...      ...  \n",
       "120916889      39.0    19.5  19.5   72800124  395        0  \n",
       "120916891      39.0    39.0  39.0  593900116  395        0  \n",
       "120916892      39.0    39.0  39.0  502600061  395        0  \n",
       "120916893      39.0    39.0  39.0  600900066  395        0  \n",
       "120916894      39.0    39.0  39.0  601000066  395        0  \n",
       "\n",
       "[74809131 rows x 14 columns]"
      ]
     },
     "execution_count": 55,
     "metadata": {},
     "output_type": "execute_result"
    }
   ],
   "source": [
    "seq_num."
   ]
  },
  {
   "cell_type": "code",
   "execution_count": 39,
   "id": "557b9be5-4d1d-4e8d-a3ae-f5e0d712619d",
   "metadata": {},
   "outputs": [
    {
     "data": {
      "text/plain": [
       "0              3500000\n",
       "1             15200000\n",
       "2              4600000\n",
       "3              6500000\n",
       "4              4700000\n",
       "               ...    \n",
       "120916891    593900116\n",
       "120916892    502600061\n",
       "120916893    600900066\n",
       "120916894    601000066\n",
       "120916895    658600082\n",
       "Name: INTERID, Length: 120916896, dtype: int64"
      ]
     },
     "execution_count": 39,
     "metadata": {},
     "output_type": "execute_result"
    }
   ],
   "source": [
    "transaction['INTERID']"
   ]
  },
  {
   "cell_type": "code",
   "execution_count": 50,
   "id": "0283c4fc-a5c9-481f-baae-210307e42c93",
   "metadata": {},
   "outputs": [
    {
     "data": {
      "text/plain": [
       "0            326708721\n",
       "1            326708721\n",
       "2             23702074\n",
       "3                    0\n",
       "4                    0\n",
       "               ...    \n",
       "120916891            0\n",
       "120916892            0\n",
       "120916893            0\n",
       "120916894            0\n",
       "120916895    257808914\n",
       "Name: SEQ, Length: 120916896, dtype: int64"
      ]
     },
     "execution_count": 50,
     "metadata": {},
     "output_type": "execute_result"
    }
   ],
   "source": [
    "transaction['SEQ']"
   ]
  },
  {
   "cell_type": "markdown",
   "id": "d1a64183-5f43-4b27-b44a-85f942cc76d9",
   "metadata": {},
   "source": [
    "# Test"
   ]
  },
  {
   "cell_type": "code",
   "execution_count": 57,
   "id": "eeeb6d7f-7d83-4740-a4bb-1d9e4095dce5",
   "metadata": {},
   "outputs": [
    {
     "ename": "TypeError",
     "evalue": "ufunc 'divide' not supported for the input types, and the inputs could not be safely coerced to any supported types according to the casting rule ''safe''",
     "output_type": "error",
     "traceback": [
      "\u001b[0;31m---------------------------------------------------------------------------\u001b[0m",
      "\u001b[0;31mTypeError\u001b[0m                                 Traceback (most recent call last)",
      "Cell \u001b[0;32mIn[57], line 10\u001b[0m\n\u001b[1;32m      1\u001b[0m aggregated_df \u001b[38;5;241m=\u001b[39m (\n\u001b[1;32m      2\u001b[0m     transaction\n\u001b[1;32m      3\u001b[0m     \u001b[38;5;241m.\u001b[39massign(\n\u001b[1;32m      4\u001b[0m         ReturnFlag\u001b[38;5;241m=\u001b[39mtransaction[\u001b[38;5;124m'\u001b[39m\u001b[38;5;124mSTYPE\u001b[39m\u001b[38;5;124m'\u001b[39m]\u001b[38;5;241m.\u001b[39meq(\u001b[38;5;124m'\u001b[39m\u001b[38;5;124mR\u001b[39m\u001b[38;5;124m'\u001b[39m)\u001b[38;5;241m.\u001b[39mastype(\u001b[38;5;28mfloat\u001b[39m),  \u001b[38;5;66;03m# Create a flag for returns\u001b[39;00m\n\u001b[1;32m      5\u001b[0m         PurchaseFlag\u001b[38;5;241m=\u001b[39mtransaction[\u001b[38;5;124m'\u001b[39m\u001b[38;5;124mSTYPE\u001b[39m\u001b[38;5;124m'\u001b[39m]\u001b[38;5;241m.\u001b[39meq(\u001b[38;5;124m'\u001b[39m\u001b[38;5;124mP\u001b[39m\u001b[38;5;124m'\u001b[39m)\u001b[38;5;241m.\u001b[39mastype(\u001b[38;5;28mfloat\u001b[39m),  \u001b[38;5;66;03m# Create a flag for purchases\u001b[39;00m\n\u001b[1;32m      6\u001b[0m         DiscountFlag\u001b[38;5;241m=\u001b[39m(transaction[\u001b[38;5;124m'\u001b[39m\u001b[38;5;124mSPRICE\u001b[39m\u001b[38;5;124m'\u001b[39m] \u001b[38;5;241m<\u001b[39m transaction[\u001b[38;5;124m'\u001b[39m\u001b[38;5;124mORGPRICE\u001b[39m\u001b[38;5;124m'\u001b[39m])\u001b[38;5;241m.\u001b[39mastype(\u001b[38;5;28mint\u001b[39m)  \u001b[38;5;66;03m# Create a flag for discounts\u001b[39;00m\n\u001b[1;32m      7\u001b[0m     )\n\u001b[1;32m      8\u001b[0m     \u001b[38;5;241m.\u001b[39mgroupby([\u001b[38;5;124m'\u001b[39m\u001b[38;5;124mSALEDATE\u001b[39m\u001b[38;5;124m'\u001b[39m, \u001b[38;5;124m'\u001b[39m\u001b[38;5;124mSTORE\u001b[39m\u001b[38;5;124m'\u001b[39m])\n\u001b[1;32m      9\u001b[0m     \u001b[38;5;241m.\u001b[39magg(\n\u001b[0;32m---> 10\u001b[0m         ReturnRate\u001b[38;5;241m=\u001b[39m\u001b[43m(\u001b[49m\u001b[38;5;124;43m'\u001b[39;49m\u001b[38;5;124;43mReturnFlag\u001b[39;49m\u001b[38;5;124;43m'\u001b[39;49m\u001b[43m,\u001b[49m\u001b[43m \u001b[49m\u001b[38;5;124;43m'\u001b[39;49m\u001b[38;5;124;43msum\u001b[39;49m\u001b[38;5;124;43m'\u001b[39;49m\u001b[43m)\u001b[49m\u001b[43m \u001b[49m\u001b[38;5;241;43m/\u001b[39;49m\u001b[43m \u001b[49m\u001b[43m(\u001b[49m\u001b[43mtransaction\u001b[49m\u001b[43m[\u001b[49m\u001b[38;5;124;43m'\u001b[39;49m\u001b[38;5;124;43mSTYPE\u001b[39;49m\u001b[38;5;124;43m'\u001b[39;49m\u001b[43m]\u001b[49m\u001b[38;5;241;43m.\u001b[39;49m\u001b[43misin\u001b[49m\u001b[43m(\u001b[49m\u001b[43m[\u001b[49m\u001b[38;5;124;43m'\u001b[39;49m\u001b[38;5;124;43mP\u001b[39;49m\u001b[38;5;124;43m'\u001b[39;49m\u001b[43m,\u001b[49m\u001b[43m \u001b[49m\u001b[38;5;124;43m'\u001b[39;49m\u001b[38;5;124;43mR\u001b[39;49m\u001b[38;5;124;43m'\u001b[39;49m\u001b[43m]\u001b[49m\u001b[43m)\u001b[49m\u001b[38;5;241;43m.\u001b[39;49m\u001b[43mastype\u001b[49m\u001b[43m(\u001b[49m\u001b[38;5;28;43mfloat\u001b[39;49m\u001b[43m)\u001b[49m\u001b[38;5;241;43m.\u001b[39;49m\u001b[43mgroupby\u001b[49m\u001b[43m(\u001b[49m\u001b[43mtransaction\u001b[49m\u001b[43m[\u001b[49m\u001b[38;5;124;43m'\u001b[39;49m\u001b[38;5;124;43mSTORE\u001b[39;49m\u001b[38;5;124;43m'\u001b[39;49m\u001b[43m]\u001b[49m\u001b[43m)\u001b[49m\u001b[38;5;241;43m.\u001b[39;49m\u001b[43mtransform\u001b[49m\u001b[43m(\u001b[49m\u001b[38;5;124;43m'\u001b[39;49m\u001b[38;5;124;43msum\u001b[39;49m\u001b[38;5;124;43m'\u001b[39;49m\u001b[43m)\u001b[49m\u001b[43m)\u001b[49m,\n\u001b[1;32m     11\u001b[0m         NumTrans\u001b[38;5;241m=\u001b[39m(\u001b[38;5;124m'\u001b[39m\u001b[38;5;124mSTORE\u001b[39m\u001b[38;5;124m'\u001b[39m, \u001b[38;5;124m'\u001b[39m\u001b[38;5;124msize\u001b[39m\u001b[38;5;124m'\u001b[39m),  \u001b[38;5;66;03m# Count number of transactions\u001b[39;00m\n\u001b[1;32m     12\u001b[0m         DiscountSalesCount\u001b[38;5;241m=\u001b[39m(\u001b[38;5;124m'\u001b[39m\u001b[38;5;124mDiscountFlag\u001b[39m\u001b[38;5;124m'\u001b[39m, \u001b[38;5;124m'\u001b[39m\u001b[38;5;124msum\u001b[39m\u001b[38;5;124m'\u001b[39m),\n\u001b[1;32m     13\u001b[0m         AmtTrans\u001b[38;5;241m=\u001b[39m(\u001b[38;5;124m'\u001b[39m\u001b[38;5;124mAMT\u001b[39m\u001b[38;5;124m'\u001b[39m, \u001b[38;5;124m'\u001b[39m\u001b[38;5;124msum\u001b[39m\u001b[38;5;124m'\u001b[39m)\n\u001b[1;32m     14\u001b[0m     )\n\u001b[1;32m     15\u001b[0m     \u001b[38;5;241m.\u001b[39mreset_index()\n\u001b[1;32m     16\u001b[0m )\n\u001b[1;32m     18\u001b[0m \u001b[38;5;66;03m# Sort the results\u001b[39;00m\n\u001b[1;32m     19\u001b[0m return_rate_df \u001b[38;5;241m=\u001b[39m aggregated_df\u001b[38;5;241m.\u001b[39msort_values(by\u001b[38;5;241m=\u001b[39m[\u001b[38;5;124m'\u001b[39m\u001b[38;5;124mSALEDATE\u001b[39m\u001b[38;5;124m'\u001b[39m, \u001b[38;5;124m'\u001b[39m\u001b[38;5;124mSTORE\u001b[39m\u001b[38;5;124m'\u001b[39m])\n",
      "File \u001b[0;32m/opt/homebrew/lib/python3.11/site-packages/pandas/core/ops/common.py:76\u001b[0m, in \u001b[0;36m_unpack_zerodim_and_defer.<locals>.new_method\u001b[0;34m(self, other)\u001b[0m\n\u001b[1;32m     72\u001b[0m             \u001b[38;5;28;01mreturn\u001b[39;00m \u001b[38;5;28mNotImplemented\u001b[39m\n\u001b[1;32m     74\u001b[0m other \u001b[38;5;241m=\u001b[39m item_from_zerodim(other)\n\u001b[0;32m---> 76\u001b[0m \u001b[38;5;28;01mreturn\u001b[39;00m \u001b[43mmethod\u001b[49m\u001b[43m(\u001b[49m\u001b[38;5;28;43mself\u001b[39;49m\u001b[43m,\u001b[49m\u001b[43m \u001b[49m\u001b[43mother\u001b[49m\u001b[43m)\u001b[49m\n",
      "File \u001b[0;32m/opt/homebrew/lib/python3.11/site-packages/pandas/core/arraylike.py:214\u001b[0m, in \u001b[0;36mOpsMixin.__rtruediv__\u001b[0;34m(self, other)\u001b[0m\n\u001b[1;32m    212\u001b[0m \u001b[38;5;129m@unpack_zerodim_and_defer\u001b[39m(\u001b[38;5;124m\"\u001b[39m\u001b[38;5;124m__rtruediv__\u001b[39m\u001b[38;5;124m\"\u001b[39m)\n\u001b[1;32m    213\u001b[0m \u001b[38;5;28;01mdef\u001b[39;00m \u001b[38;5;21m__rtruediv__\u001b[39m(\u001b[38;5;28mself\u001b[39m, other):\n\u001b[0;32m--> 214\u001b[0m     \u001b[38;5;28;01mreturn\u001b[39;00m \u001b[38;5;28;43mself\u001b[39;49m\u001b[38;5;241;43m.\u001b[39;49m\u001b[43m_arith_method\u001b[49m\u001b[43m(\u001b[49m\u001b[43mother\u001b[49m\u001b[43m,\u001b[49m\u001b[43m \u001b[49m\u001b[43mroperator\u001b[49m\u001b[38;5;241;43m.\u001b[39;49m\u001b[43mrtruediv\u001b[49m\u001b[43m)\u001b[49m\n",
      "File \u001b[0;32m/opt/homebrew/lib/python3.11/site-packages/pandas/core/series.py:5815\u001b[0m, in \u001b[0;36mSeries._arith_method\u001b[0;34m(self, other, op)\u001b[0m\n\u001b[1;32m   5813\u001b[0m \u001b[38;5;28;01mdef\u001b[39;00m \u001b[38;5;21m_arith_method\u001b[39m(\u001b[38;5;28mself\u001b[39m, other, op):\n\u001b[1;32m   5814\u001b[0m     \u001b[38;5;28mself\u001b[39m, other \u001b[38;5;241m=\u001b[39m \u001b[38;5;28mself\u001b[39m\u001b[38;5;241m.\u001b[39m_align_for_op(other)\n\u001b[0;32m-> 5815\u001b[0m     \u001b[38;5;28;01mreturn\u001b[39;00m \u001b[43mbase\u001b[49m\u001b[38;5;241;43m.\u001b[39;49m\u001b[43mIndexOpsMixin\u001b[49m\u001b[38;5;241;43m.\u001b[39;49m\u001b[43m_arith_method\u001b[49m\u001b[43m(\u001b[49m\u001b[38;5;28;43mself\u001b[39;49m\u001b[43m,\u001b[49m\u001b[43m \u001b[49m\u001b[43mother\u001b[49m\u001b[43m,\u001b[49m\u001b[43m \u001b[49m\u001b[43mop\u001b[49m\u001b[43m)\u001b[49m\n",
      "File \u001b[0;32m/opt/homebrew/lib/python3.11/site-packages/pandas/core/base.py:1381\u001b[0m, in \u001b[0;36mIndexOpsMixin._arith_method\u001b[0;34m(self, other, op)\u001b[0m\n\u001b[1;32m   1378\u001b[0m     rvalues \u001b[38;5;241m=\u001b[39m np\u001b[38;5;241m.\u001b[39marange(rvalues\u001b[38;5;241m.\u001b[39mstart, rvalues\u001b[38;5;241m.\u001b[39mstop, rvalues\u001b[38;5;241m.\u001b[39mstep)\n\u001b[1;32m   1380\u001b[0m \u001b[38;5;28;01mwith\u001b[39;00m np\u001b[38;5;241m.\u001b[39merrstate(\u001b[38;5;28mall\u001b[39m\u001b[38;5;241m=\u001b[39m\u001b[38;5;124m\"\u001b[39m\u001b[38;5;124mignore\u001b[39m\u001b[38;5;124m\"\u001b[39m):\n\u001b[0;32m-> 1381\u001b[0m     result \u001b[38;5;241m=\u001b[39m \u001b[43mops\u001b[49m\u001b[38;5;241;43m.\u001b[39;49m\u001b[43marithmetic_op\u001b[49m\u001b[43m(\u001b[49m\u001b[43mlvalues\u001b[49m\u001b[43m,\u001b[49m\u001b[43m \u001b[49m\u001b[43mrvalues\u001b[49m\u001b[43m,\u001b[49m\u001b[43m \u001b[49m\u001b[43mop\u001b[49m\u001b[43m)\u001b[49m\n\u001b[1;32m   1383\u001b[0m \u001b[38;5;28;01mreturn\u001b[39;00m \u001b[38;5;28mself\u001b[39m\u001b[38;5;241m.\u001b[39m_construct_result(result, name\u001b[38;5;241m=\u001b[39mres_name)\n",
      "File \u001b[0;32m/opt/homebrew/lib/python3.11/site-packages/pandas/core/ops/array_ops.py:285\u001b[0m, in \u001b[0;36marithmetic_op\u001b[0;34m(left, right, op)\u001b[0m\n\u001b[1;32m    281\u001b[0m     _bool_arith_check(op, left, right)  \u001b[38;5;66;03m# type: ignore[arg-type]\u001b[39;00m\n\u001b[1;32m    283\u001b[0m     \u001b[38;5;66;03m# error: Argument 1 to \"_na_arithmetic_op\" has incompatible type\u001b[39;00m\n\u001b[1;32m    284\u001b[0m     \u001b[38;5;66;03m# \"Union[ExtensionArray, ndarray[Any, Any]]\"; expected \"ndarray[Any, Any]\"\u001b[39;00m\n\u001b[0;32m--> 285\u001b[0m     res_values \u001b[38;5;241m=\u001b[39m \u001b[43m_na_arithmetic_op\u001b[49m\u001b[43m(\u001b[49m\u001b[43mleft\u001b[49m\u001b[43m,\u001b[49m\u001b[43m \u001b[49m\u001b[43mright\u001b[49m\u001b[43m,\u001b[49m\u001b[43m \u001b[49m\u001b[43mop\u001b[49m\u001b[43m)\u001b[49m  \u001b[38;5;66;03m# type: ignore[arg-type]\u001b[39;00m\n\u001b[1;32m    287\u001b[0m \u001b[38;5;28;01mreturn\u001b[39;00m res_values\n",
      "File \u001b[0;32m/opt/homebrew/lib/python3.11/site-packages/pandas/core/ops/array_ops.py:220\u001b[0m, in \u001b[0;36m_na_arithmetic_op\u001b[0;34m(left, right, op, is_cmp)\u001b[0m\n\u001b[1;32m    217\u001b[0m     func \u001b[38;5;241m=\u001b[39m partial(expressions\u001b[38;5;241m.\u001b[39mevaluate, op)\n\u001b[1;32m    219\u001b[0m \u001b[38;5;28;01mtry\u001b[39;00m:\n\u001b[0;32m--> 220\u001b[0m     result \u001b[38;5;241m=\u001b[39m \u001b[43mfunc\u001b[49m\u001b[43m(\u001b[49m\u001b[43mleft\u001b[49m\u001b[43m,\u001b[49m\u001b[43m \u001b[49m\u001b[43mright\u001b[49m\u001b[43m)\u001b[49m\n\u001b[1;32m    221\u001b[0m \u001b[38;5;28;01mexcept\u001b[39;00m \u001b[38;5;167;01mTypeError\u001b[39;00m:\n\u001b[1;32m    222\u001b[0m     \u001b[38;5;28;01mif\u001b[39;00m \u001b[38;5;129;01mnot\u001b[39;00m is_cmp \u001b[38;5;129;01mand\u001b[39;00m (\n\u001b[1;32m    223\u001b[0m         left\u001b[38;5;241m.\u001b[39mdtype \u001b[38;5;241m==\u001b[39m \u001b[38;5;28mobject\u001b[39m \u001b[38;5;129;01mor\u001b[39;00m \u001b[38;5;28mgetattr\u001b[39m(right, \u001b[38;5;124m\"\u001b[39m\u001b[38;5;124mdtype\u001b[39m\u001b[38;5;124m\"\u001b[39m, \u001b[38;5;28;01mNone\u001b[39;00m) \u001b[38;5;241m==\u001b[39m \u001b[38;5;28mobject\u001b[39m\n\u001b[1;32m    224\u001b[0m     ):\n\u001b[0;32m   (...)\u001b[0m\n\u001b[1;32m    227\u001b[0m         \u001b[38;5;66;03m# Don't do this for comparisons, as that will handle complex numbers\u001b[39;00m\n\u001b[1;32m    228\u001b[0m         \u001b[38;5;66;03m#  incorrectly, see GH#32047\u001b[39;00m\n",
      "File \u001b[0;32m/opt/homebrew/lib/python3.11/site-packages/pandas/core/computation/expressions.py:242\u001b[0m, in \u001b[0;36mevaluate\u001b[0;34m(op, a, b, use_numexpr)\u001b[0m\n\u001b[1;32m    239\u001b[0m \u001b[38;5;28;01mif\u001b[39;00m op_str \u001b[38;5;129;01mis\u001b[39;00m \u001b[38;5;129;01mnot\u001b[39;00m \u001b[38;5;28;01mNone\u001b[39;00m:\n\u001b[1;32m    240\u001b[0m     \u001b[38;5;28;01mif\u001b[39;00m use_numexpr:\n\u001b[1;32m    241\u001b[0m         \u001b[38;5;66;03m# error: \"None\" not callable\u001b[39;00m\n\u001b[0;32m--> 242\u001b[0m         \u001b[38;5;28;01mreturn\u001b[39;00m \u001b[43m_evaluate\u001b[49m\u001b[43m(\u001b[49m\u001b[43mop\u001b[49m\u001b[43m,\u001b[49m\u001b[43m \u001b[49m\u001b[43mop_str\u001b[49m\u001b[43m,\u001b[49m\u001b[43m \u001b[49m\u001b[43ma\u001b[49m\u001b[43m,\u001b[49m\u001b[43m \u001b[49m\u001b[43mb\u001b[49m\u001b[43m)\u001b[49m  \u001b[38;5;66;03m# type: ignore[misc]\u001b[39;00m\n\u001b[1;32m    243\u001b[0m \u001b[38;5;28;01mreturn\u001b[39;00m _evaluate_standard(op, op_str, a, b)\n",
      "File \u001b[0;32m/opt/homebrew/lib/python3.11/site-packages/pandas/core/computation/expressions.py:73\u001b[0m, in \u001b[0;36m_evaluate_standard\u001b[0;34m(op, op_str, a, b)\u001b[0m\n\u001b[1;32m     71\u001b[0m \u001b[38;5;28;01mif\u001b[39;00m _TEST_MODE:\n\u001b[1;32m     72\u001b[0m     _store_test_result(\u001b[38;5;28;01mFalse\u001b[39;00m)\n\u001b[0;32m---> 73\u001b[0m \u001b[38;5;28;01mreturn\u001b[39;00m \u001b[43mop\u001b[49m\u001b[43m(\u001b[49m\u001b[43ma\u001b[49m\u001b[43m,\u001b[49m\u001b[43m \u001b[49m\u001b[43mb\u001b[49m\u001b[43m)\u001b[49m\n",
      "File \u001b[0;32m/opt/homebrew/lib/python3.11/site-packages/pandas/core/roperator.py:27\u001b[0m, in \u001b[0;36mrtruediv\u001b[0;34m(left, right)\u001b[0m\n\u001b[1;32m     26\u001b[0m \u001b[38;5;28;01mdef\u001b[39;00m \u001b[38;5;21mrtruediv\u001b[39m(left, right):\n\u001b[0;32m---> 27\u001b[0m     \u001b[38;5;28;01mreturn\u001b[39;00m \u001b[43mright\u001b[49m\u001b[43m \u001b[49m\u001b[38;5;241;43m/\u001b[39;49m\u001b[43m \u001b[49m\u001b[43mleft\u001b[49m\n",
      "\u001b[0;31mTypeError\u001b[0m: ufunc 'divide' not supported for the input types, and the inputs could not be safely coerced to any supported types according to the casting rule ''safe''"
     ]
    }
   ],
   "source": [
    "aggregated_df = (\n",
    "    transaction\n",
    "    .assign(\n",
    "        ReturnFlag=transaction['STYPE'].eq('R').astype(float),  # Create a flag for returns\n",
    "        PurchaseFlag=transaction['STYPE'].eq('P').astype(float),  # Create a flag for purchases\n",
    "        DiscountFlag=(transaction['SPRICE'] < transaction['ORGPRICE']).astype(int)  # Create a flag for discounts\n",
    "    )\n",
    "    .groupby(['SALEDATE', 'STORE'])\n",
    "    .agg(\n",
    "        ReturnRate=('ReturnFlag', 'sum') / (transaction['STYPE'].isin(['P', 'R']).astype(float).groupby(transaction['STORE']).transform('sum')),\n",
    "        NumTrans=('STORE', 'size'),  # Count number of transactions\n",
    "        DiscountSalesCount=('DiscountFlag', 'sum'),\n",
    "        AmtTrans=('AMT', 'sum')\n",
    "    )\n",
    "    .reset_index()\n",
    ")\n",
    "\n",
    "# Sort the results\n",
    "return_rate_df = aggregated_df.sort_values(by=['SALEDATE', 'STORE'])\n",
    "\n",
    "# Show the resulting DataFrame\n",
    "return_rate_df"
   ]
  },
  {
   "cell_type": "code",
   "execution_count": null,
   "id": "f1e2846d-b0aa-4dac-b225-12f106c55987",
   "metadata": {},
   "outputs": [],
   "source": []
  }
 ],
 "metadata": {
  "kernelspec": {
   "display_name": "Python 3 (ipykernel)",
   "language": "python",
   "name": "python3"
  },
  "language_info": {
   "codemirror_mode": {
    "name": "ipython",
    "version": 3
   },
   "file_extension": ".py",
   "mimetype": "text/x-python",
   "name": "python",
   "nbconvert_exporter": "python",
   "pygments_lexer": "ipython3",
   "version": "3.11.6"
  }
 },
 "nbformat": 4,
 "nbformat_minor": 5
}
