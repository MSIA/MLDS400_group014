{
 "cells": [
  {
   "cell_type": "code",
   "execution_count": 45,
   "id": "e0b74805-758f-488d-8fc1-25c574bc2072",
   "metadata": {},
   "outputs": [
    {
     "name": "stdout",
     "output_type": "stream",
     "text": [
      "The ROI for the project is: 210.08%\n"
     ]
    }
   ],
   "source": [
    "df = pd.read_csv(\"new_return_df_with_feature.csv\")\n",
    "\n",
    "improvement_in_return_rate = 0.0005 \n",
    "average_return_value = 25.00  \n",
    "\n",
    "# Calculate the initial and new loss due to returns\n",
    "initial_loss_due_to_returns = df['AmtTrans'] * df['ReturnRate']\n",
    "new_loss_due_to_returns = df['AmtTrans'] * (df['ReturnRate'] - improvement_in_return_rate)\n",
    "\n",
    "# Calculate the savings due to the improvement in return rate\n",
    "savings_from_model = initial_loss_due_to_returns.sum() - new_loss_due_to_returns.sum()\n",
    "\n",
    "# Costs associated with developing and implementing the model\n",
    "fte_count = 4  # Number of full-time employees\n",
    "annual_salary = 120000  # Annual salary per employee\n",
    "project_duration_days = 365  # Duration of the project in days\n",
    "project_duration_years = project_duration_days / 365  # Convert days to years\n",
    "total_salary_cost = fte_count * annual_salary * project_duration_years\n",
    "\n",
    "computing_hours = 365 # Assuming running once a day for a year\n",
    "cloud_cost_per_hour = 0.10  # Cost of cloud resources per hour\n",
    "total_computing_cost = computing_hours * cloud_cost_per_hour\n",
    "\n",
    "# Total costs\n",
    "total_costs = total_salary_cost + total_computing_cost\n",
    "# Calculate ROI\n",
    "roi = (savings_from_model - total_costs) / total_costs * 100\n",
    "\n",
    "# Output the conservative ROI\n",
    "print(f\"The ROI for the project is: {roi:.2f}%\")"
   ]
  },
  {
   "cell_type": "code",
   "execution_count": 46,
   "id": "238080c0-ef35-418f-87eb-41df5d194818",
   "metadata": {},
   "outputs": [
    {
     "data": {
      "text/plain": [
       "'./roi_analysis_summary.xlsx'"
      ]
     },
     "execution_count": 46,
     "metadata": {},
     "output_type": "execute_result"
    }
   ],
   "source": [
    "roi_summary_data = {\n",
    "    'Description': [\n",
    "        'Improvement in Return Rate', \n",
    "        'Average Return Value', \n",
    "        'Number of Full-time Employees',\n",
    "        'Annual Salary per Employee', \n",
    "        'Project Duration in Days', \n",
    "        'Computing Hours', \n",
    "        'Cost of Cloud Resources per Hour', \n",
    "        'Total Salary Cost', \n",
    "        'Total Computing Cost', \n",
    "        'Total Costs', \n",
    "        'ROI'\n",
    "    ],\n",
    "    'Value': [\n",
    "       improvement_in_return_rate,  # Improvement in Return Rate\n",
    "        average_return_value,   # Average Return Value\n",
    "        fte_count,       # Number of Full-time Employees\n",
    "        annual_salary,  # Annual Salary per Employee\n",
    "        project_duration_days,     # Project Duration in Days\n",
    "        computing_hours,     # Computing Hours\n",
    "        cloud_cost_per_hour,    # Cost of Cloud Resources per Hour\n",
    "        total_salary_cost,  # Total Salary Cost\n",
    "        total_computing_cost,  # Total Computing Cost\n",
    "        total_costs,  # Total Costs\n",
    "        roi    # ROI from previous example\n",
    "    ]\n",
    "}\n",
    "\n",
    "# Convert the data to a pandas DataFrame\n",
    "roi_summary_df = pd.DataFrame(roi_summary_data)\n",
    "\n",
    "# Save the DataFrame to an Excel file\n",
    "file_path = './roi_analysis_summary.xlsx'\n",
    "roi_summary_df.to_excel(file_path, index=False)\n",
    "\n",
    "file_path"
   ]
  }
 ],
 "metadata": {
  "kernelspec": {
   "display_name": "Python 3 (ipykernel)",
   "language": "python",
   "name": "python3"
  },
  "language_info": {
   "codemirror_mode": {
    "name": "ipython",
    "version": 3
   },
   "file_extension": ".py",
   "mimetype": "text/x-python",
   "name": "python",
   "nbconvert_exporter": "python",
   "pygments_lexer": "ipython3",
   "version": "3.12.0"
  }
 },
 "nbformat": 4,
 "nbformat_minor": 5
}
