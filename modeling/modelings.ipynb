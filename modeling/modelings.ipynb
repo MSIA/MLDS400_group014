{
 "cells": [
  {
   "cell_type": "code",
   "execution_count": 60,
   "id": "52b80347-037f-4995-ae5e-2809e8dd780f",
   "metadata": {},
   "outputs": [],
   "source": [
    "import pandas as pd\n",
    "import numpy as np\n",
    "import matplotlib.pyplot as plt"
   ]
  },
  {
   "cell_type": "code",
   "execution_count": 61,
   "id": "5497344b-f2d0-4416-84f2-f7e24bf2712f",
   "metadata": {},
   "outputs": [],
   "source": [
    "return_df =pd.read_csv(\"return_df.csv\") "
   ]
  },
  {
   "cell_type": "code",
   "execution_count": 62,
   "id": "5e6e95da-4b7c-4a2e-9dca-7f25dc9c6fca",
   "metadata": {},
   "outputs": [],
   "source": [
    "return_df.ReturnRate = return_df.ReturnRate*100"
   ]
  },
  {
   "cell_type": "code",
   "execution_count": 63,
   "id": "449a8fc7-ed49-4ab0-aa10-7ec660a21a97",
   "metadata": {},
   "outputs": [],
   "source": [
    "from sklearn.ensemble import RandomForestClassifier  # For classification\n",
    "from sklearn.ensemble import RandomForestRegressor  # For regression\n",
    "from sklearn.model_selection import train_test_split\n",
    "from sklearn.metrics import accuracy_score, mean_squared_error\n",
    "import pandas as pd"
   ]
  },
  {
   "cell_type": "code",
   "execution_count": 64,
   "id": "eed1d767-a625-4f14-91d5-26d334380145",
   "metadata": {},
   "outputs": [],
   "source": [
    "return_df = return_df[return_df.SALEDATE >= \"2004-08-30\"]"
   ]
  },
  {
   "cell_type": "code",
   "execution_count": 65,
   "id": "7e7c6ce3-204f-4f7c-b8da-6e00554c6af7",
   "metadata": {},
   "outputs": [],
   "source": [
    "return_df = return_df.dropna()"
   ]
  },
  {
   "cell_type": "code",
   "execution_count": 66,
   "id": "a17afaaf-96ae-4249-8289-34b1c6d69dfc",
   "metadata": {},
   "outputs": [],
   "source": [
    "return_df['Month'] = pd.to_datetime(return_df['SALEDATE']).dt.month\n",
    "return_df['Quarter'] = pd.to_datetime(return_df['SALEDATE']).dt.quarter\n",
    "return_df['Day'] = pd.to_datetime(return_df['SALEDATE']).dt.dayofweek "
   ]
  },
  {
   "cell_type": "code",
   "execution_count": 67,
   "id": "abf994a8-6893-4bbc-bfa9-e51064a63351",
   "metadata": {},
   "outputs": [],
   "source": [
    "X = return_df.drop(['ReturnRate','SALEDATE', 'STORE'], axis=1)\n",
    "y = return_df['ReturnRate']\n",
    "X_train, X_test, y_train, y_test = train_test_split(X, y, test_size=0.3, random_state=42)"
   ]
  },
  {
   "cell_type": "markdown",
   "id": "9485d5d3-7476-4597-a217-8a66cc772c42",
   "metadata": {},
   "source": [
    "#### Linear Regression"
   ]
  },
  {
   "cell_type": "code",
   "execution_count": 68,
   "id": "fff83d15-614d-4a46-aaa7-5b118394f626",
   "metadata": {},
   "outputs": [
    {
     "data": {
      "text/html": [
       "<table class=\"simpletable\">\n",
       "<caption>OLS Regression Results</caption>\n",
       "<tr>\n",
       "  <th>Dep. Variable:</th>       <td>ReturnRate</td>    <th>  R-squared:         </th>  <td>   0.455</td>  \n",
       "</tr>\n",
       "<tr>\n",
       "  <th>Model:</th>                   <td>OLS</td>       <th>  Adj. R-squared:    </th>  <td>   0.454</td>  \n",
       "</tr>\n",
       "<tr>\n",
       "  <th>Method:</th>             <td>Least Squares</td>  <th>  F-statistic:       </th>  <td>   4834.</td>  \n",
       "</tr>\n",
       "<tr>\n",
       "  <th>Date:</th>             <td>Mon, 04 Dec 2023</td> <th>  Prob (F-statistic):</th>   <td>  0.00</td>   \n",
       "</tr>\n",
       "<tr>\n",
       "  <th>Time:</th>                 <td>00:02:09</td>     <th>  Log-Likelihood:    </th> <td>-1.8624e+05</td>\n",
       "</tr>\n",
       "<tr>\n",
       "  <th>No. Observations:</th>      <td> 81232</td>      <th>  AIC:               </th>  <td>3.725e+05</td> \n",
       "</tr>\n",
       "<tr>\n",
       "  <th>Df Residuals:</th>          <td> 81217</td>      <th>  BIC:               </th>  <td>3.726e+05</td> \n",
       "</tr>\n",
       "<tr>\n",
       "  <th>Df Model:</th>              <td>    14</td>      <th>                     </th>      <td> </td>     \n",
       "</tr>\n",
       "<tr>\n",
       "  <th>Covariance Type:</th>      <td>nonrobust</td>    <th>                     </th>      <td> </td>     \n",
       "</tr>\n",
       "</table>\n",
       "<table class=\"simpletable\">\n",
       "<tr>\n",
       "             <td></td>                <th>coef</th>     <th>std err</th>      <th>t</th>      <th>P>|t|</th>  <th>[0.025</th>    <th>0.975]</th>  \n",
       "</tr>\n",
       "<tr>\n",
       "  <th>const</th>                   <td>    1.7957</td> <td>    0.087</td> <td>   20.695</td> <td> 0.000</td> <td>    1.626</td> <td>    1.966</td>\n",
       "</tr>\n",
       "<tr>\n",
       "  <th>PreviousDayReturnRate</th>   <td>   33.5276</td> <td>    0.312</td> <td>  107.477</td> <td> 0.000</td> <td>   32.916</td> <td>   34.139</td>\n",
       "</tr>\n",
       "<tr>\n",
       "  <th>PreviousWeekReturnRate</th>  <td>   13.1261</td> <td>    0.299</td> <td>   43.963</td> <td> 0.000</td> <td>   12.541</td> <td>   13.711</td>\n",
       "</tr>\n",
       "<tr>\n",
       "  <th>PreviousMonthReturnRate</th> <td>   -1.6970</td> <td>    0.267</td> <td>   -6.357</td> <td> 0.000</td> <td>   -2.220</td> <td>   -1.174</td>\n",
       "</tr>\n",
       "<tr>\n",
       "  <th>NumTrans</th>                <td>   -0.0042</td> <td> 8.95e-05</td> <td>  -46.625</td> <td> 0.000</td> <td>   -0.004</td> <td>   -0.004</td>\n",
       "</tr>\n",
       "<tr>\n",
       "  <th>DiscountSalesCount</th>      <td>    0.0024</td> <td> 5.75e-05</td> <td>   40.907</td> <td> 0.000</td> <td>    0.002</td> <td>    0.002</td>\n",
       "</tr>\n",
       "<tr>\n",
       "  <th>AmtTrans</th>                <td>  1.72e-05</td> <td> 2.98e-06</td> <td>    5.780</td> <td> 0.000</td> <td> 1.14e-05</td> <td>  2.3e-05</td>\n",
       "</tr>\n",
       "<tr>\n",
       "  <th>AvgPrice</th>                <td>    0.1423</td> <td>    0.003</td> <td>   48.616</td> <td> 0.000</td> <td>    0.137</td> <td>    0.148</td>\n",
       "</tr>\n",
       "<tr>\n",
       "  <th>PreviousDayTrans</th>        <td>    0.0021</td> <td> 5.11e-05</td> <td>   42.014</td> <td> 0.000</td> <td>    0.002</td> <td>    0.002</td>\n",
       "</tr>\n",
       "<tr>\n",
       "  <th>PreviousDayAmtTrans</th>     <td>  -4.3e-05</td> <td> 2.37e-06</td> <td>  -18.136</td> <td> 0.000</td> <td>-4.76e-05</td> <td>-3.84e-05</td>\n",
       "</tr>\n",
       "<tr>\n",
       "  <th>Last30DaysTrans</th>         <td> 4.656e-05</td> <td> 2.35e-06</td> <td>   19.781</td> <td> 0.000</td> <td> 4.19e-05</td> <td> 5.12e-05</td>\n",
       "</tr>\n",
       "<tr>\n",
       "  <th>Last30DaysAmtTrans</th>      <td>  1.37e-07</td> <td>  9.8e-08</td> <td>    1.398</td> <td> 0.162</td> <td> -5.5e-08</td> <td> 3.29e-07</td>\n",
       "</tr>\n",
       "<tr>\n",
       "  <th>Month</th>                   <td>   -0.0100</td> <td>    0.011</td> <td>   -0.926</td> <td> 0.354</td> <td>   -0.031</td> <td>    0.011</td>\n",
       "</tr>\n",
       "<tr>\n",
       "  <th>Quarter</th>                 <td>    0.0060</td> <td>    0.033</td> <td>    0.183</td> <td> 0.855</td> <td>   -0.058</td> <td>    0.070</td>\n",
       "</tr>\n",
       "<tr>\n",
       "  <th>Day</th>                     <td>   -0.2549</td> <td>    0.005</td> <td>  -49.651</td> <td> 0.000</td> <td>   -0.265</td> <td>   -0.245</td>\n",
       "</tr>\n",
       "</table>\n",
       "<table class=\"simpletable\">\n",
       "<tr>\n",
       "  <th>Omnibus:</th>       <td>35303.543</td> <th>  Durbin-Watson:     </th>  <td>   1.993</td>  \n",
       "</tr>\n",
       "<tr>\n",
       "  <th>Prob(Omnibus):</th>  <td> 0.000</td>   <th>  Jarque-Bera (JB):  </th> <td>1050325.450</td>\n",
       "</tr>\n",
       "<tr>\n",
       "  <th>Skew:</th>           <td> 1.488</td>   <th>  Prob(JB):          </th>  <td>    0.00</td>  \n",
       "</tr>\n",
       "<tr>\n",
       "  <th>Kurtosis:</th>       <td>20.363</td>   <th>  Cond. No.          </th>  <td>3.27e+07</td>  \n",
       "</tr>\n",
       "</table><br/><br/>Notes:<br/>[1] Standard Errors assume that the covariance matrix of the errors is correctly specified.<br/>[2] The condition number is large, 3.27e+07. This might indicate that there are<br/>strong multicollinearity or other numerical problems."
      ],
      "text/latex": [
       "\\begin{center}\n",
       "\\begin{tabular}{lclc}\n",
       "\\toprule\n",
       "\\textbf{Dep. Variable:}          &    ReturnRate    & \\textbf{  R-squared:         } &      0.455   \\\\\n",
       "\\textbf{Model:}                  &       OLS        & \\textbf{  Adj. R-squared:    } &      0.454   \\\\\n",
       "\\textbf{Method:}                 &  Least Squares   & \\textbf{  F-statistic:       } &      4834.   \\\\\n",
       "\\textbf{Date:}                   & Mon, 04 Dec 2023 & \\textbf{  Prob (F-statistic):} &      0.00    \\\\\n",
       "\\textbf{Time:}                   &     00:02:09     & \\textbf{  Log-Likelihood:    } & -1.8624e+05  \\\\\n",
       "\\textbf{No. Observations:}       &       81232      & \\textbf{  AIC:               } &  3.725e+05   \\\\\n",
       "\\textbf{Df Residuals:}           &       81217      & \\textbf{  BIC:               } &  3.726e+05   \\\\\n",
       "\\textbf{Df Model:}               &          14      & \\textbf{                     } &              \\\\\n",
       "\\textbf{Covariance Type:}        &    nonrobust     & \\textbf{                     } &              \\\\\n",
       "\\bottomrule\n",
       "\\end{tabular}\n",
       "\\begin{tabular}{lcccccc}\n",
       "                                 & \\textbf{coef} & \\textbf{std err} & \\textbf{t} & \\textbf{P$> |$t$|$} & \\textbf{[0.025} & \\textbf{0.975]}  \\\\\n",
       "\\midrule\n",
       "\\textbf{const}                   &       1.7957  &        0.087     &    20.695  &         0.000        &        1.626    &        1.966     \\\\\n",
       "\\textbf{PreviousDayReturnRate}   &      33.5276  &        0.312     &   107.477  &         0.000        &       32.916    &       34.139     \\\\\n",
       "\\textbf{PreviousWeekReturnRate}  &      13.1261  &        0.299     &    43.963  &         0.000        &       12.541    &       13.711     \\\\\n",
       "\\textbf{PreviousMonthReturnRate} &      -1.6970  &        0.267     &    -6.357  &         0.000        &       -2.220    &       -1.174     \\\\\n",
       "\\textbf{NumTrans}                &      -0.0042  &     8.95e-05     &   -46.625  &         0.000        &       -0.004    &       -0.004     \\\\\n",
       "\\textbf{DiscountSalesCount}      &       0.0024  &     5.75e-05     &    40.907  &         0.000        &        0.002    &        0.002     \\\\\n",
       "\\textbf{AmtTrans}                &     1.72e-05  &     2.98e-06     &     5.780  &         0.000        &     1.14e-05    &      2.3e-05     \\\\\n",
       "\\textbf{AvgPrice}                &       0.1423  &        0.003     &    48.616  &         0.000        &        0.137    &        0.148     \\\\\n",
       "\\textbf{PreviousDayTrans}        &       0.0021  &     5.11e-05     &    42.014  &         0.000        &        0.002    &        0.002     \\\\\n",
       "\\textbf{PreviousDayAmtTrans}     &     -4.3e-05  &     2.37e-06     &   -18.136  &         0.000        &    -4.76e-05    &    -3.84e-05     \\\\\n",
       "\\textbf{Last30DaysTrans}         &    4.656e-05  &     2.35e-06     &    19.781  &         0.000        &     4.19e-05    &     5.12e-05     \\\\\n",
       "\\textbf{Last30DaysAmtTrans}      &     1.37e-07  &      9.8e-08     &     1.398  &         0.162        &     -5.5e-08    &     3.29e-07     \\\\\n",
       "\\textbf{Month}                   &      -0.0100  &        0.011     &    -0.926  &         0.354        &       -0.031    &        0.011     \\\\\n",
       "\\textbf{Quarter}                 &       0.0060  &        0.033     &     0.183  &         0.855        &       -0.058    &        0.070     \\\\\n",
       "\\textbf{Day}                     &      -0.2549  &        0.005     &   -49.651  &         0.000        &       -0.265    &       -0.245     \\\\\n",
       "\\bottomrule\n",
       "\\end{tabular}\n",
       "\\begin{tabular}{lclc}\n",
       "\\textbf{Omnibus:}       & 35303.543 & \\textbf{  Durbin-Watson:     } &      1.993   \\\\\n",
       "\\textbf{Prob(Omnibus):} &    0.000  & \\textbf{  Jarque-Bera (JB):  } & 1050325.450  \\\\\n",
       "\\textbf{Skew:}          &    1.488  & \\textbf{  Prob(JB):          } &       0.00   \\\\\n",
       "\\textbf{Kurtosis:}      &   20.363  & \\textbf{  Cond. No.          } &   3.27e+07   \\\\\n",
       "\\bottomrule\n",
       "\\end{tabular}\n",
       "%\\caption{OLS Regression Results}\n",
       "\\end{center}\n",
       "\n",
       "Notes: \\newline\n",
       " [1] Standard Errors assume that the covariance matrix of the errors is correctly specified. \\newline\n",
       " [2] The condition number is large, 3.27e+07. This might indicate that there are \\newline\n",
       " strong multicollinearity or other numerical problems."
      ],
      "text/plain": [
       "<class 'statsmodels.iolib.summary.Summary'>\n",
       "\"\"\"\n",
       "                            OLS Regression Results                            \n",
       "==============================================================================\n",
       "Dep. Variable:             ReturnRate   R-squared:                       0.455\n",
       "Model:                            OLS   Adj. R-squared:                  0.454\n",
       "Method:                 Least Squares   F-statistic:                     4834.\n",
       "Date:                Mon, 04 Dec 2023   Prob (F-statistic):               0.00\n",
       "Time:                        00:02:09   Log-Likelihood:            -1.8624e+05\n",
       "No. Observations:               81232   AIC:                         3.725e+05\n",
       "Df Residuals:                   81217   BIC:                         3.726e+05\n",
       "Df Model:                          14                                         \n",
       "Covariance Type:            nonrobust                                         \n",
       "===========================================================================================\n",
       "                              coef    std err          t      P>|t|      [0.025      0.975]\n",
       "-------------------------------------------------------------------------------------------\n",
       "const                       1.7957      0.087     20.695      0.000       1.626       1.966\n",
       "PreviousDayReturnRate      33.5276      0.312    107.477      0.000      32.916      34.139\n",
       "PreviousWeekReturnRate     13.1261      0.299     43.963      0.000      12.541      13.711\n",
       "PreviousMonthReturnRate    -1.6970      0.267     -6.357      0.000      -2.220      -1.174\n",
       "NumTrans                   -0.0042   8.95e-05    -46.625      0.000      -0.004      -0.004\n",
       "DiscountSalesCount          0.0024   5.75e-05     40.907      0.000       0.002       0.002\n",
       "AmtTrans                  1.72e-05   2.98e-06      5.780      0.000    1.14e-05     2.3e-05\n",
       "AvgPrice                    0.1423      0.003     48.616      0.000       0.137       0.148\n",
       "PreviousDayTrans            0.0021   5.11e-05     42.014      0.000       0.002       0.002\n",
       "PreviousDayAmtTrans       -4.3e-05   2.37e-06    -18.136      0.000   -4.76e-05   -3.84e-05\n",
       "Last30DaysTrans          4.656e-05   2.35e-06     19.781      0.000    4.19e-05    5.12e-05\n",
       "Last30DaysAmtTrans        1.37e-07    9.8e-08      1.398      0.162    -5.5e-08    3.29e-07\n",
       "Month                      -0.0100      0.011     -0.926      0.354      -0.031       0.011\n",
       "Quarter                     0.0060      0.033      0.183      0.855      -0.058       0.070\n",
       "Day                        -0.2549      0.005    -49.651      0.000      -0.265      -0.245\n",
       "==============================================================================\n",
       "Omnibus:                    35303.543   Durbin-Watson:                   1.993\n",
       "Prob(Omnibus):                  0.000   Jarque-Bera (JB):          1050325.450\n",
       "Skew:                           1.488   Prob(JB):                         0.00\n",
       "Kurtosis:                      20.363   Cond. No.                     3.27e+07\n",
       "==============================================================================\n",
       "\n",
       "Notes:\n",
       "[1] Standard Errors assume that the covariance matrix of the errors is correctly specified.\n",
       "[2] The condition number is large, 3.27e+07. This might indicate that there are\n",
       "strong multicollinearity or other numerical problems.\n",
       "\"\"\""
      ]
     },
     "execution_count": 68,
     "metadata": {},
     "output_type": "execute_result"
    }
   ],
   "source": [
    "import statsmodels.api as sm\n",
    "X_train_sm = sm.add_constant(X_train)\n",
    "model = sm.OLS(y_train, X_train_sm).fit()\n",
    "summary = model.summary()\n",
    "summary"
   ]
  },
  {
   "cell_type": "code",
   "execution_count": 69,
   "id": "0498e5a8-ab84-47f7-9ade-8e4cc42c952c",
   "metadata": {},
   "outputs": [
    {
     "name": "stdout",
     "output_type": "stream",
     "text": [
      "Test MSE: 5.90965734899035\n",
      "Test R-squared: 0.4584762157758917\n"
     ]
    }
   ],
   "source": [
    "X_test_sm = sm.add_constant(X_test)\n",
    "# Make predictions on the test set\n",
    "y_test_pred = model.predict(X_test_sm)\n",
    "# Calculate residuals\n",
    "residuals = y_test - y_test_pred\n",
    "\n",
    "# Compute the Mean Squared Error\n",
    "mse = np.mean(residuals**2)\n",
    "\n",
    "# To calculate the R-squared for the test set manually\n",
    "ss_total = np.sum((y_test - np.mean(y_test))**2)  # Total sum of squares\n",
    "ss_res = np.sum(residuals**2)                      # Residual sum of squares\n",
    "r_squared = 1 - (ss_res / ss_total)\n",
    "\n",
    "# Now, you can print or return these statistics\n",
    "print(f\"Test MSE: {mse}\")\n",
    "print(f\"Test R-squared: {r_squared}\")"
   ]
  },
  {
   "cell_type": "markdown",
   "id": "8452ae9a-29f5-4246-a586-44f1b692becd",
   "metadata": {},
   "source": [
    "#### Random Forest"
   ]
  },
  {
   "cell_type": "code",
   "execution_count": 42,
   "id": "b949bd11-1968-4c77-a518-1fcd823106d7",
   "metadata": {},
   "outputs": [],
   "source": [
    "# Create a Random Forest Regressor model\n",
    "rf = RandomForestRegressor(n_estimators=100, max_depth = 20,random_state=42)\n",
    "\n",
    "# Fit the model on the training data\n",
    "rf.fit(X_train, y_train)\n",
    "\n",
    "# Predict on the test data\n",
    "y_pred = rf.predict(X_test)\n",
    "\n",
    "# Calculate the Mean Squared Error\n",
    "test_mse = mean_squared_error(y_test, y_pred)\n",
    "train_mse = mean_squared_error(y_train, rf.predict(X_train))"
   ]
  },
  {
   "cell_type": "code",
   "execution_count": 43,
   "id": "e56305d1-094d-4900-b5c6-fc8c2e5009f2",
   "metadata": {},
   "outputs": [
    {
     "name": "stdout",
     "output_type": "stream",
     "text": [
      "Training MSE for Random Forest is 1.2586390070279951\n",
      "Test MSE for Random Forest is 4.6385041531796976\n"
     ]
    }
   ],
   "source": [
    "print(\"Training MSE for Random Forest is\", train_mse)\n",
    "print(\"Test MSE for Random Forest is\", test_mse)"
   ]
  },
  {
   "cell_type": "code",
   "execution_count": 44,
   "id": "663c1d07-aaa9-4638-b85b-e2bf4fb6a112",
   "metadata": {},
   "outputs": [
    {
     "data": {
      "text/plain": [
       "0.5749566897312146"
      ]
     },
     "execution_count": 44,
     "metadata": {},
     "output_type": "execute_result"
    }
   ],
   "source": [
    "rf.score(X_test, y_test)"
   ]
  },
  {
   "cell_type": "code",
   "execution_count": 45,
   "id": "2e356432-3afd-484a-8666-a9891eff96a0",
   "metadata": {},
   "outputs": [
    {
     "data": {
      "text/plain": [
       "0.8803949359424019"
      ]
     },
     "execution_count": 45,
     "metadata": {},
     "output_type": "execute_result"
    }
   ],
   "source": [
    "rf.score(X_train, y_train)"
   ]
  },
  {
   "cell_type": "code",
   "execution_count": 46,
   "id": "ea0f1a97-4fea-4ef7-bc51-0b4a42edc463",
   "metadata": {},
   "outputs": [
    {
     "data": {
      "image/png": "[encoded data removed]",
      "text/plain": [
       "<Figure size 1000x600 with 1 Axes>"
      ]
     },
     "metadata": {},
     "output_type": "display_data"
    }
   ],
   "source": [
    "importances = rf.feature_importances_\n",
    "\n",
    "# Convert the importances into a DataFrame for easier plotting\n",
    "feature_importance_df = pd.DataFrame({\n",
    "    'Feature': X_test.columns,\n",
    "    'Importance': importances\n",
    "})\n",
    "\n",
    "# Sort the DataFrame by importance\n",
    "feature_importance_df = feature_importance_df.sort_values('Importance', ascending=False)\n",
    "plt.figure(figsize=(10, 6))\n",
    "plt.barh(feature_importance_df['Feature'], feature_importance_df['Importance'])\n",
    "plt.xlabel('Importance')\n",
    "plt.ylabel('Feature')\n",
    "plt.title('Feature Importances from Random Forest')\n",
    "plt.gca().invert_yaxis() # To display the highest importance at the top\n",
    "plt.show()"
   ]
  },
  {
   "cell_type": "markdown",
   "id": "5c701b3e-7b15-447c-9894-747a389a9e32",
   "metadata": {},
   "source": [
    "## LSTM"
   ]
  },
  {
   "cell_type": "code",
   "execution_count": 47,
   "id": "50438390-7dfb-4c0d-80f7-598c7533e9cc",
   "metadata": {},
   "outputs": [],
   "source": [
    "import torch\n",
    "import torch.nn as nn\n",
    "import torch.optim as optim\n",
    "from torch.utils.data import Dataset, TensorDataset, DataLoader"
   ]
  },
  {
   "cell_type": "code",
   "execution_count": 48,
   "id": "d951aefc-f1b4-4265-be52-4f9ebac6bca1",
   "metadata": {},
   "outputs": [],
   "source": [
    "# Split the data into training and testing sets in order\n",
    "train_features = torch.tensor(X_train.to_numpy(), dtype=torch.float32).unsqueeze(1)\n",
    "test_features = torch.tensor(X_test.to_numpy(), dtype=torch.float32).unsqueeze(1)\n",
    "test_target = torch.tensor(y_test.to_numpy(), dtype=torch.float32).unsqueeze(1)\n",
    "train_target = torch.tensor(y_train.to_numpy(), dtype=torch.float32).unsqueeze(1)\n",
    "\n",
    "# Convert the training and testing sets into TensorDatasets\n",
    "train_dataset = TensorDataset(train_features, train_target)\n",
    "test_dataset = TensorDataset(test_features, test_target)\n",
    "\n",
    "# Create DataLoaders without shuffling\n",
    "train_loader = DataLoader(dataset=train_dataset, batch_size=64, shuffle=False)\n",
    "test_loader = DataLoader(dataset=test_dataset, batch_size=64, shuffle=False)"
   ]
  },
  {
   "cell_type": "code",
   "execution_count": 49,
   "id": "3db0dfca-6e08-498d-9a62-868fbf614d11",
   "metadata": {},
   "outputs": [],
   "source": [
    "class LSTMModel(nn.Module):\n",
    "    def __init__(self, input_size, hidden_size, num_layers, output_size):\n",
    "        super(LSTMModel, self).__init__()\n",
    "        self.lstm = nn.LSTM(input_size, hidden_size, num_layers, batch_first=True)\n",
    "        self.linear = nn.Linear(hidden_size, output_size)\n",
    "\n",
    "    def forward(self, x):\n",
    "        out, _ = self.lstm(x)\n",
    "        out = self.linear(out[:, -1, :])\n",
    "        return out"
   ]
  },
  {
   "cell_type": "code",
   "execution_count": 72,
   "id": "4a11d687-b627-42de-ab8b-0d7260dea72d",
   "metadata": {},
   "outputs": [
    {
     "name": "stdout",
     "output_type": "stream",
     "text": [
      "Epoch 1/50 - Training loss: 73.5673, - test loss: 57.2849 \n",
      "Epoch 2/50 - Training loss: 33.4471, - test loss: 18.9561 \n",
      "Epoch 3/50 - Training loss: 14.0458, - test loss: 11.8351 \n",
      "Epoch 4/50 - Training loss: 10.7302, - test loss: 10.7427 \n",
      "Epoch 5/50 - Training loss: 10.2288, - test loss: 10.5058 \n",
      "Epoch 6/50 - Training loss: 10.0490, - test loss: 10.3295 \n",
      "Epoch 7/50 - Training loss: 9.7442, - test loss: 9.8453 \n",
      "Epoch 8/50 - Training loss: 9.1375, - test loss: 9.1720 \n",
      "Epoch 9/50 - Training loss: 8.5047, - test loss: 8.5878 \n",
      "Epoch 10/50 - Training loss: 8.0311, - test loss: 8.3082 \n",
      "Epoch 11/50 - Training loss: 7.9138, - test loss: 8.2658 \n",
      "Epoch 12/50 - Training loss: 7.8571, - test loss: 8.0984 \n",
      "Epoch 13/50 - Training loss: 7.8403, - test loss: 8.2137 \n",
      "Epoch 14/50 - Training loss: 7.7415, - test loss: 8.0191 \n",
      "Epoch 15/50 - Training loss: 7.7603, - test loss: 8.0270 \n",
      "Epoch 16/50 - Training loss: 7.6712, - test loss: 7.9447 \n",
      "Epoch 17/50 - Training loss: 7.7343, - test loss: 8.0964 \n",
      "Epoch 18/50 - Training loss: 7.7087, - test loss: 7.9888 \n",
      "Epoch 19/50 - Training loss: 7.6839, - test loss: 8.0852 \n",
      "Epoch 20/50 - Training loss: 7.6612, - test loss: 8.0194 \n",
      "Epoch 21/50 - Training loss: 7.5981, - test loss: 7.9019 \n",
      "Epoch 22/50 - Training loss: 7.7069, - test loss: 8.2446 \n",
      "Epoch 23/50 - Training loss: 7.6491, - test loss: 8.0052 \n",
      "Epoch 24/50 - Training loss: 7.6799, - test loss: 7.8985 \n",
      "Epoch 25/50 - Training loss: 7.6191, - test loss: 7.9843 \n",
      "Epoch 26/50 - Training loss: 7.6293, - test loss: 8.1344 \n",
      "Epoch 27/50 - Training loss: 7.6227, - test loss: 7.8656 \n",
      "Epoch 28/50 - Training loss: 7.6231, - test loss: 8.0131 \n",
      "Epoch 29/50 - Training loss: 7.6026, - test loss: 7.8726 \n",
      "Epoch 30/50 - Training loss: 7.6056, - test loss: 7.8441 \n",
      "Epoch 31/50 - Training loss: 7.5909, - test loss: 7.9073 \n",
      "Epoch 32/50 - Training loss: 7.6041, - test loss: 7.8649 \n",
      "Epoch 33/50 - Training loss: 7.5552, - test loss: 7.9171 \n",
      "Epoch 34/50 - Training loss: 7.5608, - test loss: 7.8708 \n",
      "Epoch 35/50 - Training loss: 7.5420, - test loss: 7.7974 \n",
      "Epoch 36/50 - Training loss: 7.5682, - test loss: 7.9223 \n",
      "Epoch 37/50 - Training loss: 7.5456, - test loss: 7.9766 \n",
      "Epoch 38/50 - Training loss: 7.5774, - test loss: 7.8783 \n",
      "Epoch 39/50 - Training loss: 7.5814, - test loss: 7.8059 \n",
      "Epoch 40/50 - Training loss: 7.5816, - test loss: 7.8111 \n",
      "Epoch 41/50 - Training loss: 7.5350, - test loss: 7.8536 \n",
      "Epoch 42/50 - Training loss: 7.5269, - test loss: 7.8235 \n",
      "Epoch 43/50 - Training loss: 7.5856, - test loss: 7.7704 \n",
      "Epoch 44/50 - Training loss: 7.5207, - test loss: 7.8889 \n",
      "Epoch 45/50 - Training loss: 7.5327, - test loss: 7.7687 \n",
      "Epoch 46/50 - Training loss: 7.5241, - test loss: 7.7889 \n",
      "Epoch 47/50 - Training loss: 7.5527, - test loss: 7.8900 \n",
      "Epoch 48/50 - Training loss: 7.5462, - test loss: 7.7823 \n",
      "Epoch 49/50 - Training loss: 7.5200, - test loss: 7.7962 \n",
      "Epoch 50/50 - Training loss: 7.5456, - test loss: 7.8520 \n"
     ]
    }
   ],
   "source": [
    "# Instantiate the model\n",
    "model = LSTMModel(input_size=train_features.shape[2], hidden_size=128, num_layers=3, output_size=1)\n",
    "optimizer = torch.optim.Adam(model.parameters(), lr=0.00001)\n",
    "criterion = nn.MSELoss()\n",
    "\n",
    "num_epochs = 50  # or any number of epochs you wish to train for\n",
    "\n",
    "train_loss_list = []\n",
    "test_loss_list = []\n",
    "for epoch in range(num_epochs):\n",
    "    running_loss_train = []\n",
    "    running_loss_test = []\n",
    "    for inputs, targets in train_loader:\n",
    "        optimizer.zero_grad()\n",
    "        outputs = model(inputs)\n",
    "        loss = criterion(outputs, targets)  # Make sure targets are the correct shape\n",
    "        loss.backward()\n",
    "        optimizer.step()\n",
    "\n",
    "        # Sum up the loss for the epoch\n",
    "        running_loss_train.append(loss.item())\n",
    "        \n",
    "    model.eval()\n",
    "    with torch.no_grad():     \n",
    "        for test_inputs, test_targets in test_loader:\n",
    "            test_outputs = model(test_inputs)\n",
    "            test_loss = criterion(test_outputs, test_targets)\n",
    "            running_loss_test.append(test_loss.item())\n",
    "        \n",
    "    # Calculate average losses for the epoch\n",
    "    epoch_loss_train = np.mean(running_loss_train)\n",
    "    epoch_loss_test = np.mean(running_loss_test)\n",
    "\n",
    "    # Print the epoch's loss and MSE\n",
    "    print(f'Epoch {epoch+1}/{num_epochs} - Training loss: {epoch_loss_train:.4f}, - test loss: {epoch_loss_test:.4f} ')\n",
    "    train_loss_list.append(epoch_loss_train)\n",
    "    test_loss_list.append(epoch_loss_test)\n",
    "    model.train()"
   ]
  },
  {
   "cell_type": "code",
   "execution_count": 27,
   "id": "c88f097e-1e30-46d4-b4ad-c55b5eb1984a",
   "metadata": {},
   "outputs": [
    {
     "name": "stdout",
     "output_type": "stream",
     "text": [
      "mse is 8.422985\n"
     ]
    }
   ],
   "source": [
    "# Evaluate the model\n",
    "model.eval()\n",
    "total_loss = []\n",
    "for inputs, targets in test_loader:\n",
    "    outputs = model(inputs)\n",
    "    loss = criterion(outputs, targets)\n",
    "    total_loss.append(loss.detach().numpy())\n",
    "print(\"mse is\", np.mean(total_loss))"
   ]
  },
  {
   "cell_type": "code",
   "execution_count": 82,
   "id": "e65e2666-8f70-4f7d-9459-17c108472cab",
   "metadata": {},
   "outputs": [
    {
     "data": {
      "text/plain": [
       "[<matplotlib.lines.Line2D at 0x2d3d07fd0>]"
      ]
     },
     "execution_count": 82,
     "metadata": {},
     "output_type": "execute_result"
    },
    {
     "data": {
      "image/png": "[encoded data removed]",
      "text/plain": [
       "<Figure size 640x480 with 1 Axes>"
      ]
     },
     "metadata": {},
     "output_type": "display_data"
    }
   ],
   "source": [
    "plt.plot(train_loss_list, np.arange(50))\n",
    "plt.plot(test_loss_list, np.arange(50))"
   ]
  },
  {
   "cell_type": "code",
   "execution_count": null,
   "id": "53bf19d0-bcea-4e5a-8499-7c6f7e2716e9",
   "metadata": {},
   "outputs": [],
   "source": []
  },
  {
   "cell_type": "code",
   "execution_count": 101,
   "id": "13065439-91cc-4410-9d27-2f9001006b44",
   "metadata": {},
   "outputs": [
    {
     "data": {
      "text/plain": [
       "tensor([[4.4654],\n",
       "        [7.0714],\n",
       "        [5.4108],\n",
       "        [6.3420],\n",
       "        [6.3004],\n",
       "        [6.6222],\n",
       "        [5.8041],\n",
       "        [6.0854],\n",
       "        [6.4167],\n",
       "        [5.1787],\n",
       "        [5.6711],\n",
       "        [0.2625],\n",
       "        [4.5962]])"
      ]
     },
     "execution_count": 101,
     "metadata": {},
     "output_type": "execute_result"
    }
   ],
   "source": []
  },
  {
   "cell_type": "code",
   "execution_count": null,
   "id": "974e06b3-6a5b-4a0d-8e19-3716b997a450",
   "metadata": {},
   "outputs": [],
   "source": []
  },
  {
   "cell_type": "code",
   "execution_count": 64,
   "id": "1c4c390a-acb1-4c8b-9190-2a4de2c04faf",
   "metadata": {},
   "outputs": [],
   "source": [
    "from sklearn.neural_network import MLPRegressor\n",
    "\n",
    "# Create a Multi-Layer Perceptron Regressor model\n",
    "# This is a simple neural network with 1 hidden layer of 128 neurons\n",
    "mlp = MLPRegressor(hidden_layer_sizes=(128,64,1), solver='adam', max_iter=500, random_state=42)\n",
    "\n",
    "# Fit the model on the training data\n",
    "mlp.fit(X_train, y_train)\n",
    "\n",
    "# Predict on the test data\n",
    "y_pred_mlp = mlp.predict(X_test)\n",
    "\n",
    "# Calculate the Mean Squared Error for the neural network predictions\n",
    "mse_mlp = mean_squared_error(y_test, y_pred_mlp)\n",
    "\n"
   ]
  },
  {
   "cell_type": "code",
   "execution_count": 65,
   "id": "2177a9ba-047f-4d85-8cbf-e3347d16aa34",
   "metadata": {},
   "outputs": [
    {
     "data": {
      "text/plain": [
       "10.621953281093042"
      ]
     },
     "execution_count": 65,
     "metadata": {},
     "output_type": "execute_result"
    }
   ],
   "source": [
    "mse_mlp"
   ]
  },
  {
   "cell_type": "code",
   "execution_count": 66,
   "id": "2616594b-85f2-44e4-9e86-98f3aa38ec28",
   "metadata": {},
   "outputs": [
    {
     "data": {
      "text/plain": [
       "8.397878797548358"
      ]
     },
     "execution_count": 66,
     "metadata": {},
     "output_type": "execute_result"
    }
   ],
   "source": [
    "np.mean(y_test)"
   ]
  },
  {
   "cell_type": "code",
   "execution_count": 32,
   "id": "9a0a90b8-e65d-401e-9df4-563e7e361f20",
   "metadata": {},
   "outputs": [],
   "source": [
    "transaction = pd.read_csv(\"../trnsact_new.csv\")"
   ]
  },
  {
   "cell_type": "code",
   "execution_count": 54,
   "id": "cd40cb58-8f54-4f39-996e-0704adaa895a",
   "metadata": {},
   "outputs": [],
   "source": [
    "seq_num = transaction[(transaction['SEQ'] == 0)]"
   ]
  },
  {
   "cell_type": "code",
   "execution_count": 55,
   "id": "b309b3d8-e521-4711-b4aa-653aa9407506",
   "metadata": {},
   "outputs": [
    {
     "data": {
      "text/html": [
       "<div>\n",
       "<style scoped>\n",
       "    .dataframe tbody tr th:only-of-type {\n",
       "        vertical-align: middle;\n",
       "    }\n",
       "\n",
       "    .dataframe tbody tr th {\n",
       "        vertical-align: top;\n",
       "    }\n",
       "\n",
       "    .dataframe thead th {\n",
       "        text-align: right;\n",
       "    }\n",
       "</style>\n",
       "<table border=\"1\" class=\"dataframe\">\n",
       "  <thead>\n",
       "    <tr style=\"text-align: right;\">\n",
       "      <th></th>\n",
       "      <th>SKU</th>\n",
       "      <th>STORE</th>\n",
       "      <th>REGISTER</th>\n",
       "      <th>TRANNUM</th>\n",
       "      <th>SEQ</th>\n",
       "      <th>SALEDATE</th>\n",
       "      <th>STYPE</th>\n",
       "      <th>QUANTITY</th>\n",
       "      <th>ORGPRICE</th>\n",
       "      <th>SPRICE</th>\n",
       "      <th>AMT</th>\n",
       "      <th>INTERID</th>\n",
       "      <th>MIC</th>\n",
       "      <th>UNKNOWN</th>\n",
       "    </tr>\n",
       "  </thead>\n",
       "  <tbody>\n",
       "    <tr>\n",
       "      <th>3</th>\n",
       "      <td>3</td>\n",
       "      <td>709</td>\n",
       "      <td>360</td>\n",
       "      <td>500</td>\n",
       "      <td>0</td>\n",
       "      <td>2005-08-14</td>\n",
       "      <td>P</td>\n",
       "      <td>1</td>\n",
       "      <td>0.0</td>\n",
       "      <td>30.0</td>\n",
       "      <td>30.0</td>\n",
       "      <td>6500000</td>\n",
       "      <td>818</td>\n",
       "      <td>0</td>\n",
       "    </tr>\n",
       "    <tr>\n",
       "      <th>4</th>\n",
       "      <td>3</td>\n",
       "      <td>802</td>\n",
       "      <td>660</td>\n",
       "      <td>400</td>\n",
       "      <td>0</td>\n",
       "      <td>2005-08-09</td>\n",
       "      <td>P</td>\n",
       "      <td>1</td>\n",
       "      <td>440.0</td>\n",
       "      <td>30.0</td>\n",
       "      <td>30.0</td>\n",
       "      <td>4700000</td>\n",
       "      <td>599</td>\n",
       "      <td>0</td>\n",
       "    </tr>\n",
       "    <tr>\n",
       "      <th>5</th>\n",
       "      <td>3</td>\n",
       "      <td>1202</td>\n",
       "      <td>400</td>\n",
       "      <td>2100</td>\n",
       "      <td>0</td>\n",
       "      <td>2004-11-11</td>\n",
       "      <td>P</td>\n",
       "      <td>1</td>\n",
       "      <td>0.0</td>\n",
       "      <td>30.0</td>\n",
       "      <td>30.0</td>\n",
       "      <td>8600000</td>\n",
       "      <td>999</td>\n",
       "      <td>0</td>\n",
       "    </tr>\n",
       "    <tr>\n",
       "      <th>6</th>\n",
       "      <td>3</td>\n",
       "      <td>1204</td>\n",
       "      <td>220</td>\n",
       "      <td>3400</td>\n",
       "      <td>0</td>\n",
       "      <td>2004-12-22</td>\n",
       "      <td>P</td>\n",
       "      <td>1</td>\n",
       "      <td>0.0</td>\n",
       "      <td>30.0</td>\n",
       "      <td>30.0</td>\n",
       "      <td>17600000</td>\n",
       "      <td>555</td>\n",
       "      <td>0</td>\n",
       "    </tr>\n",
       "    <tr>\n",
       "      <th>7</th>\n",
       "      <td>3</td>\n",
       "      <td>1304</td>\n",
       "      <td>160</td>\n",
       "      <td>3500</td>\n",
       "      <td>0</td>\n",
       "      <td>2004-08-07</td>\n",
       "      <td>P</td>\n",
       "      <td>1</td>\n",
       "      <td>0.0</td>\n",
       "      <td>30.0</td>\n",
       "      <td>30.0</td>\n",
       "      <td>11400000</td>\n",
       "      <td>990</td>\n",
       "      <td>0</td>\n",
       "    </tr>\n",
       "    <tr>\n",
       "      <th>...</th>\n",
       "      <td>...</td>\n",
       "      <td>...</td>\n",
       "      <td>...</td>\n",
       "      <td>...</td>\n",
       "      <td>...</td>\n",
       "      <td>...</td>\n",
       "      <td>...</td>\n",
       "      <td>...</td>\n",
       "      <td>...</td>\n",
       "      <td>...</td>\n",
       "      <td>...</td>\n",
       "      <td>...</td>\n",
       "      <td>...</td>\n",
       "      <td>...</td>\n",
       "    </tr>\n",
       "    <tr>\n",
       "      <th>120916889</th>\n",
       "      <td>9999997</td>\n",
       "      <td>2707</td>\n",
       "      <td>130</td>\n",
       "      <td>12900</td>\n",
       "      <td>0</td>\n",
       "      <td>2005-08-05</td>\n",
       "      <td>P</td>\n",
       "      <td>1</td>\n",
       "      <td>39.0</td>\n",
       "      <td>19.5</td>\n",
       "      <td>19.5</td>\n",
       "      <td>72800124</td>\n",
       "      <td>395</td>\n",
       "      <td>0</td>\n",
       "    </tr>\n",
       "    <tr>\n",
       "      <th>120916891</th>\n",
       "      <td>9999997</td>\n",
       "      <td>7507</td>\n",
       "      <td>750</td>\n",
       "      <td>2800</td>\n",
       "      <td>0</td>\n",
       "      <td>2005-04-23</td>\n",
       "      <td>P</td>\n",
       "      <td>1</td>\n",
       "      <td>39.0</td>\n",
       "      <td>39.0</td>\n",
       "      <td>39.0</td>\n",
       "      <td>593900116</td>\n",
       "      <td>395</td>\n",
       "      <td>0</td>\n",
       "    </tr>\n",
       "    <tr>\n",
       "      <th>120916892</th>\n",
       "      <td>9999997</td>\n",
       "      <td>7907</td>\n",
       "      <td>790</td>\n",
       "      <td>3200</td>\n",
       "      <td>0</td>\n",
       "      <td>2005-05-03</td>\n",
       "      <td>P</td>\n",
       "      <td>1</td>\n",
       "      <td>39.0</td>\n",
       "      <td>39.0</td>\n",
       "      <td>39.0</td>\n",
       "      <td>502600061</td>\n",
       "      <td>395</td>\n",
       "      <td>0</td>\n",
       "    </tr>\n",
       "    <tr>\n",
       "      <th>120916893</th>\n",
       "      <td>9999997</td>\n",
       "      <td>7907</td>\n",
       "      <td>800</td>\n",
       "      <td>700</td>\n",
       "      <td>0</td>\n",
       "      <td>2005-05-04</td>\n",
       "      <td>R</td>\n",
       "      <td>1</td>\n",
       "      <td>39.0</td>\n",
       "      <td>39.0</td>\n",
       "      <td>39.0</td>\n",
       "      <td>600900066</td>\n",
       "      <td>395</td>\n",
       "      <td>0</td>\n",
       "    </tr>\n",
       "    <tr>\n",
       "      <th>120916894</th>\n",
       "      <td>9999997</td>\n",
       "      <td>7907</td>\n",
       "      <td>800</td>\n",
       "      <td>700</td>\n",
       "      <td>0</td>\n",
       "      <td>2005-05-04</td>\n",
       "      <td>P</td>\n",
       "      <td>1</td>\n",
       "      <td>39.0</td>\n",
       "      <td>39.0</td>\n",
       "      <td>39.0</td>\n",
       "      <td>601000066</td>\n",
       "      <td>395</td>\n",
       "      <td>0</td>\n",
       "    </tr>\n",
       "  </tbody>\n",
       "</table>\n",
       "<p>74809131 rows × 14 columns</p>\n",
       "</div>"
      ],
      "text/plain": [
       "               SKU  STORE  REGISTER  TRANNUM  SEQ    SALEDATE STYPE  QUANTITY  \\\n",
       "3                3    709       360      500    0  2005-08-14     P         1   \n",
       "4                3    802       660      400    0  2005-08-09     P         1   \n",
       "5                3   1202       400     2100    0  2004-11-11     P         1   \n",
       "6                3   1204       220     3400    0  2004-12-22     P         1   \n",
       "7                3   1304       160     3500    0  2004-08-07     P         1   \n",
       "...            ...    ...       ...      ...  ...         ...   ...       ...   \n",
       "120916889  9999997   2707       130    12900    0  2005-08-05     P         1   \n",
       "120916891  9999997   7507       750     2800    0  2005-04-23     P         1   \n",
       "120916892  9999997   7907       790     3200    0  2005-05-03     P         1   \n",
       "120916893  9999997   7907       800      700    0  2005-05-04     R         1   \n",
       "120916894  9999997   7907       800      700    0  2005-05-04     P         1   \n",
       "\n",
       "           ORGPRICE  SPRICE   AMT    INTERID  MIC  UNKNOWN  \n",
       "3               0.0    30.0  30.0    6500000  818        0  \n",
       "4             440.0    30.0  30.0    4700000  599        0  \n",
       "5               0.0    30.0  30.0    8600000  999        0  \n",
       "6               0.0    30.0  30.0   17600000  555        0  \n",
       "7               0.0    30.0  30.0   11400000  990        0  \n",
       "...             ...     ...   ...        ...  ...      ...  \n",
       "120916889      39.0    19.5  19.5   72800124  395        0  \n",
       "120916891      39.0    39.0  39.0  593900116  395        0  \n",
       "120916892      39.0    39.0  39.0  502600061  395        0  \n",
       "120916893      39.0    39.0  39.0  600900066  395        0  \n",
       "120916894      39.0    39.0  39.0  601000066  395        0  \n",
       "\n",
       "[74809131 rows x 14 columns]"
      ]
     },
     "execution_count": 55,
     "metadata": {},
     "output_type": "execute_result"
    }
   ],
   "source": [
    "seq_num."
   ]
  }
 ],
 "metadata": {
  "kernelspec": {
   "display_name": "Python 3 (ipykernel)",
   "language": "python",
   "name": "python3"
  },
  "language_info": {
   "codemirror_mode": {
    "name": "ipython",
    "version": 3
   },
   "file_extension": ".py",
   "mimetype": "text/x-python",
   "name": "python",
   "nbconvert_exporter": "python",
   "pygments_lexer": "ipython3",
   "version": "3.11.6"
  }
 },
 "nbformat": 4,
 "nbformat_minor": 5
}
